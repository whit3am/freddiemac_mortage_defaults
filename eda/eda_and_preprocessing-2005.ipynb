{
 "cells": [
  {
   "cell_type": "code",
   "execution_count": 192,
   "metadata": {},
   "outputs": [],
   "source": [
    "import numpy as np\n",
    "import pandas as pd\n",
    "import matplotlib.pyplot as plt\n",
    "\n",
    "from sklearn.impute import SimpleImputer, MissingIndicator\n",
    "\n",
    "from tqdm import tqdm\n",
    "\n",
    "plt.style.use('ggplot')"
   ]
  },
  {
   "cell_type": "code",
   "execution_count": 193,
   "metadata": {
    "scrolled": true
   },
   "outputs": [
    {
     "name": "stderr",
     "output_type": "stream",
     "text": [
      "/home/austin/anaconda3/envs/dsienv/lib/python3.7/site-packages/IPython/core/interactiveshell.py:3166: DtypeWarning: Columns (28) have mixed types.Specify dtype option on import or set low_memory=False.\n",
      "  interactivity=interactivity, compiler=compiler, result=result)\n"
     ]
    }
   ],
   "source": [
    "df = pd.read_csv('../data/df_freddie_mac_2005.csv')"
   ]
  },
  {
   "cell_type": "code",
   "execution_count": 194,
   "metadata": {},
   "outputs": [
    {
     "data": {
      "text/html": [
       "<div>\n",
       "<style scoped>\n",
       "    .dataframe tbody tr th:only-of-type {\n",
       "        vertical-align: middle;\n",
       "    }\n",
       "\n",
       "    .dataframe tbody tr th {\n",
       "        vertical-align: top;\n",
       "    }\n",
       "\n",
       "    .dataframe thead th {\n",
       "        text-align: right;\n",
       "    }\n",
       "</style>\n",
       "<table border=\"1\" class=\"dataframe\">\n",
       "  <thead>\n",
       "    <tr style=\"text-align: right;\">\n",
       "      <th></th>\n",
       "      <th>Unnamed: 0</th>\n",
       "      <th>credit_score</th>\n",
       "      <th>first_payment_date</th>\n",
       "      <th>first_time_homebuyer_flag</th>\n",
       "      <th>maturity_date</th>\n",
       "      <th>metropolitan_statistical_area_(msa)_or_metropolitan_division</th>\n",
       "      <th>mortgage_insurance_percentage_(mi_%)</th>\n",
       "      <th>number_of_units</th>\n",
       "      <th>occupancy_status</th>\n",
       "      <th>original_combined_loan-to-value_(cltv)</th>\n",
       "      <th>...</th>\n",
       "      <th>number_of_borrowers</th>\n",
       "      <th>seller_name</th>\n",
       "      <th>servicer_name</th>\n",
       "      <th>super_conforming_flag</th>\n",
       "      <th>pre-harp_loan_sequence_number</th>\n",
       "      <th>program_indicator</th>\n",
       "      <th>harp_indicator</th>\n",
       "      <th>property_valuation_method</th>\n",
       "      <th>interest_only_indicator_(i/o_indicator)</th>\n",
       "      <th>target</th>\n",
       "    </tr>\n",
       "  </thead>\n",
       "  <tbody>\n",
       "    <tr>\n",
       "      <th>0</th>\n",
       "      <td>0</td>\n",
       "      <td>708</td>\n",
       "      <td>200512</td>\n",
       "      <td>Y</td>\n",
       "      <td>203511</td>\n",
       "      <td>NaN</td>\n",
       "      <td>0</td>\n",
       "      <td>1</td>\n",
       "      <td>P</td>\n",
       "      <td>103</td>\n",
       "      <td>...</td>\n",
       "      <td>1</td>\n",
       "      <td>Other sellers</td>\n",
       "      <td>U.S. BANK N.A.</td>\n",
       "      <td>NaN</td>\n",
       "      <td>NaN</td>\n",
       "      <td>9</td>\n",
       "      <td>NaN</td>\n",
       "      <td>9</td>\n",
       "      <td>N</td>\n",
       "      <td>0.0</td>\n",
       "    </tr>\n",
       "    <tr>\n",
       "      <th>1</th>\n",
       "      <td>1</td>\n",
       "      <td>781</td>\n",
       "      <td>200512</td>\n",
       "      <td>N</td>\n",
       "      <td>201211</td>\n",
       "      <td>NaN</td>\n",
       "      <td>0</td>\n",
       "      <td>1</td>\n",
       "      <td>P</td>\n",
       "      <td>85</td>\n",
       "      <td>...</td>\n",
       "      <td>2</td>\n",
       "      <td>Other sellers</td>\n",
       "      <td>Other servicers</td>\n",
       "      <td>NaN</td>\n",
       "      <td>NaN</td>\n",
       "      <td>9</td>\n",
       "      <td>NaN</td>\n",
       "      <td>9</td>\n",
       "      <td>N</td>\n",
       "      <td>0.0</td>\n",
       "    </tr>\n",
       "    <tr>\n",
       "      <th>2</th>\n",
       "      <td>2</td>\n",
       "      <td>732</td>\n",
       "      <td>200601</td>\n",
       "      <td>Y</td>\n",
       "      <td>203512</td>\n",
       "      <td>NaN</td>\n",
       "      <td>0</td>\n",
       "      <td>1</td>\n",
       "      <td>P</td>\n",
       "      <td>97</td>\n",
       "      <td>...</td>\n",
       "      <td>1</td>\n",
       "      <td>Other sellers</td>\n",
       "      <td>Other servicers</td>\n",
       "      <td>NaN</td>\n",
       "      <td>NaN</td>\n",
       "      <td>H</td>\n",
       "      <td>NaN</td>\n",
       "      <td>9</td>\n",
       "      <td>N</td>\n",
       "      <td>0.0</td>\n",
       "    </tr>\n",
       "    <tr>\n",
       "      <th>3</th>\n",
       "      <td>3</td>\n",
       "      <td>609</td>\n",
       "      <td>200511</td>\n",
       "      <td>Y</td>\n",
       "      <td>202010</td>\n",
       "      <td>24860.0</td>\n",
       "      <td>35</td>\n",
       "      <td>1</td>\n",
       "      <td>P</td>\n",
       "      <td>97</td>\n",
       "      <td>...</td>\n",
       "      <td>1</td>\n",
       "      <td>Other sellers</td>\n",
       "      <td>Other servicers</td>\n",
       "      <td>NaN</td>\n",
       "      <td>NaN</td>\n",
       "      <td>9</td>\n",
       "      <td>NaN</td>\n",
       "      <td>9</td>\n",
       "      <td>N</td>\n",
       "      <td>0.0</td>\n",
       "    </tr>\n",
       "    <tr>\n",
       "      <th>4</th>\n",
       "      <td>4</td>\n",
       "      <td>655</td>\n",
       "      <td>200512</td>\n",
       "      <td>N</td>\n",
       "      <td>203511</td>\n",
       "      <td>NaN</td>\n",
       "      <td>20</td>\n",
       "      <td>1</td>\n",
       "      <td>P</td>\n",
       "      <td>100</td>\n",
       "      <td>...</td>\n",
       "      <td>1</td>\n",
       "      <td>Other sellers</td>\n",
       "      <td>Other servicers</td>\n",
       "      <td>NaN</td>\n",
       "      <td>NaN</td>\n",
       "      <td>H</td>\n",
       "      <td>NaN</td>\n",
       "      <td>9</td>\n",
       "      <td>N</td>\n",
       "      <td>0.0</td>\n",
       "    </tr>\n",
       "  </tbody>\n",
       "</table>\n",
       "<p>5 rows × 33 columns</p>\n",
       "</div>"
      ],
      "text/plain": [
       "   Unnamed: 0  credit_score  first_payment_date first_time_homebuyer_flag  \\\n",
       "0           0           708              200512                         Y   \n",
       "1           1           781              200512                         N   \n",
       "2           2           732              200601                         Y   \n",
       "3           3           609              200511                         Y   \n",
       "4           4           655              200512                         N   \n",
       "\n",
       "   maturity_date  \\\n",
       "0         203511   \n",
       "1         201211   \n",
       "2         203512   \n",
       "3         202010   \n",
       "4         203511   \n",
       "\n",
       "   metropolitan_statistical_area_(msa)_or_metropolitan_division  \\\n",
       "0                                                NaN              \n",
       "1                                                NaN              \n",
       "2                                                NaN              \n",
       "3                                            24860.0              \n",
       "4                                                NaN              \n",
       "\n",
       "   mortgage_insurance_percentage_(mi_%)  number_of_units occupancy_status  \\\n",
       "0                                     0                1                P   \n",
       "1                                     0                1                P   \n",
       "2                                     0                1                P   \n",
       "3                                    35                1                P   \n",
       "4                                    20                1                P   \n",
       "\n",
       "   original_combined_loan-to-value_(cltv)  ...  number_of_borrowers  \\\n",
       "0                                     103  ...                    1   \n",
       "1                                      85  ...                    2   \n",
       "2                                      97  ...                    1   \n",
       "3                                      97  ...                    1   \n",
       "4                                     100  ...                    1   \n",
       "\n",
       "     seller_name    servicer_name  super_conforming_flag  \\\n",
       "0  Other sellers   U.S. BANK N.A.                    NaN   \n",
       "1  Other sellers  Other servicers                    NaN   \n",
       "2  Other sellers  Other servicers                    NaN   \n",
       "3  Other sellers  Other servicers                    NaN   \n",
       "4  Other sellers  Other servicers                    NaN   \n",
       "\n",
       "  pre-harp_loan_sequence_number program_indicator harp_indicator  \\\n",
       "0                           NaN                 9            NaN   \n",
       "1                           NaN                 9            NaN   \n",
       "2                           NaN                 H            NaN   \n",
       "3                           NaN                 9            NaN   \n",
       "4                           NaN                 H            NaN   \n",
       "\n",
       "  property_valuation_method interest_only_indicator_(i/o_indicator)  target  \n",
       "0                         9                                       N     0.0  \n",
       "1                         9                                       N     0.0  \n",
       "2                         9                                       N     0.0  \n",
       "3                         9                                       N     0.0  \n",
       "4                         9                                       N     0.0  \n",
       "\n",
       "[5 rows x 33 columns]"
      ]
     },
     "execution_count": 194,
     "metadata": {},
     "output_type": "execute_result"
    }
   ],
   "source": [
    "df.head()"
   ]
  },
  {
   "cell_type": "code",
   "execution_count": 195,
   "metadata": {},
   "outputs": [
    {
     "name": "stdout",
     "output_type": "stream",
     "text": [
      "<class 'pandas.core.frame.DataFrame'>\n",
      "RangeIndex: 2229319 entries, 0 to 2229318\n",
      "Data columns (total 33 columns):\n",
      " #   Column                                                        Dtype  \n",
      "---  ------                                                        -----  \n",
      " 0   Unnamed: 0                                                    int64  \n",
      " 1   credit_score                                                  int64  \n",
      " 2   first_payment_date                                            int64  \n",
      " 3   first_time_homebuyer_flag                                     object \n",
      " 4   maturity_date                                                 int64  \n",
      " 5   metropolitan_statistical_area_(msa)_or_metropolitan_division  float64\n",
      " 6   mortgage_insurance_percentage_(mi_%)                          int64  \n",
      " 7   number_of_units                                               int64  \n",
      " 8   occupancy_status                                              object \n",
      " 9   original_combined_loan-to-value_(cltv)                        int64  \n",
      " 10  original_debt-to-income_(dti)_ratio                           int64  \n",
      " 11  original_upb                                                  int64  \n",
      " 12  original_loan-to-value_(ltv)                                  int64  \n",
      " 13  original_interest_rate                                        float64\n",
      " 14  channel                                                       object \n",
      " 15  prepayment_penalty_mortgage_(ppm)_flag                        object \n",
      " 16  amortization_type                                             object \n",
      " 17  property_state                                                object \n",
      " 18  property_type                                                 object \n",
      " 19  postal_code                                                   int64  \n",
      " 20  loan_sequence_number                                          object \n",
      " 21  loan_purpose                                                  object \n",
      " 22  original_loan_term                                            int64  \n",
      " 23  number_of_borrowers                                           int64  \n",
      " 24  seller_name                                                   object \n",
      " 25  servicer_name                                                 object \n",
      " 26  super_conforming_flag                                         float64\n",
      " 27  pre-harp_loan_sequence_number                                 float64\n",
      " 28  program_indicator                                             object \n",
      " 29  harp_indicator                                                float64\n",
      " 30  property_valuation_method                                     int64  \n",
      " 31  interest_only_indicator_(i/o_indicator)                       object \n",
      " 32  target                                                        float64\n",
      "dtypes: float64(6), int64(14), object(13)\n",
      "memory usage: 561.3+ MB\n"
     ]
    }
   ],
   "source": [
    "df.info()"
   ]
  },
  {
   "cell_type": "code",
   "execution_count": 196,
   "metadata": {},
   "outputs": [
    {
     "data": {
      "text/plain": [
       "N    1723295\n",
       "9     271049\n",
       "Y     234975\n",
       "Name: first_time_homebuyer_flag, dtype: int64"
      ]
     },
     "execution_count": 196,
     "metadata": {},
     "output_type": "execute_result"
    }
   ],
   "source": [
    "df['first_time_homebuyer_flag'].value_counts()"
   ]
  },
  {
   "cell_type": "code",
   "execution_count": 197,
   "metadata": {
    "code_folding": []
   },
   "outputs": [
    {
     "data": {
      "text/plain": [
       "N          1723295\n",
       "Unknown     271049\n",
       "Y           234975\n",
       "Name: first_time_homebuyer_flag, dtype: int64"
      ]
     },
     "execution_count": 197,
     "metadata": {},
     "output_type": "execute_result"
    }
   ],
   "source": [
    "first_time_homebuyer_map = {'N': 'N'\n",
    "                           , '9': 'Unknown'\n",
    "                           , 'Y': 'Y'}\n",
    "df['first_time_homebuyer_flag'] = df['first_time_homebuyer_flag'].map(first_time_homebuyer_map)\n",
    "df['first_time_homebuyer_flag'].value_counts()"
   ]
  },
  {
   "cell_type": "code",
   "execution_count": 198,
   "metadata": {},
   "outputs": [
    {
     "data": {
      "text/plain": [
       "P    2014941\n",
       "S     121001\n",
       "I      93377\n",
       "Name: occupancy_status, dtype: int64"
      ]
     },
     "execution_count": 198,
     "metadata": {},
     "output_type": "execute_result"
    }
   ],
   "source": [
    "df['occupancy_status'].value_counts()"
   ]
  },
  {
   "cell_type": "code",
   "execution_count": 199,
   "metadata": {},
   "outputs": [
    {
     "data": {
      "text/plain": [
       "P    2014941\n",
       "S     121001\n",
       "I      93377\n",
       "Name: occupancy_status, dtype: int64"
      ]
     },
     "execution_count": 199,
     "metadata": {},
     "output_type": "execute_result"
    }
   ],
   "source": [
    "occupancy_status_map = {'P': 'P'\n",
    "                        , '9': 'Unknown'\n",
    "                        , 'I': 'I'\n",
    "                        , 'S': 'S'}\n",
    "occupancy_status = df['occupancy_status'].map(occupancy_status_map)\n",
    "occupancy_status.value_counts()"
   ]
  },
  {
   "cell_type": "code",
   "execution_count": 200,
   "metadata": {},
   "outputs": [],
   "source": [
    "df['occupancy_status'] = occupancy_status"
   ]
  },
  {
   "cell_type": "code",
   "execution_count": 201,
   "metadata": {},
   "outputs": [
    {
     "data": {
      "text/plain": [
       "T    1180450\n",
       "R    1042786\n",
       "C       4107\n",
       "B       1675\n",
       "9        301\n",
       "Name: channel, dtype: int64"
      ]
     },
     "execution_count": 201,
     "metadata": {},
     "output_type": "execute_result"
    }
   ],
   "source": [
    "df['channel'].value_counts()"
   ]
  },
  {
   "cell_type": "code",
   "execution_count": 202,
   "metadata": {},
   "outputs": [
    {
     "data": {
      "text/plain": [
       "T          1180450\n",
       "R          1042786\n",
       "C             4107\n",
       "B             1675\n",
       "Unknown        301\n",
       "Name: channel, dtype: int64"
      ]
     },
     "execution_count": 202,
     "metadata": {},
     "output_type": "execute_result"
    }
   ],
   "source": [
    "channel_map = {'T': 'T'\n",
    "               , 'R': 'R'\n",
    "               , 'C': 'C'\n",
    "               , 'B': 'B'\n",
    "               , '9': 'Unknown'}\n",
    "channel = df['channel'].map(channel_map)\n",
    "channel.value_counts()"
   ]
  },
  {
   "cell_type": "code",
   "execution_count": 203,
   "metadata": {},
   "outputs": [
    {
     "data": {
      "text/plain": [
       "N    2202953\n",
       "Y      26366\n",
       "Name: prepayment_penalty_mortgage_(ppm)_flag, dtype: int64"
      ]
     },
     "execution_count": 203,
     "metadata": {},
     "output_type": "execute_result"
    }
   ],
   "source": [
    "df['prepayment_penalty_mortgage_(ppm)_flag'].value_counts()"
   ]
  },
  {
   "cell_type": "code",
   "execution_count": 204,
   "metadata": {},
   "outputs": [
    {
     "data": {
      "text/plain": [
       "FRM    1915743\n",
       "ARM     313576\n",
       "Name: amortization_type, dtype: int64"
      ]
     },
     "execution_count": 204,
     "metadata": {},
     "output_type": "execute_result"
    }
   ],
   "source": [
    "df['amortization_type'].value_counts()"
   ]
  },
  {
   "cell_type": "code",
   "execution_count": 205,
   "metadata": {},
   "outputs": [
    {
     "data": {
      "text/plain": [
       "CA    217347\n",
       "FL    174684\n",
       "IL    120205\n",
       "TX    101642\n",
       "MI     87295\n",
       "AZ     85543\n",
       "OH     83438\n",
       "PA     78798\n",
       "NY     76721\n",
       "WA     69394\n",
       "VA     68921\n",
       "GA     68197\n",
       "NC     65185\n",
       "MD     64368\n",
       "NJ     62569\n",
       "MN     61917\n",
       "WI     53779\n",
       "MO     52946\n",
       "MA     52349\n",
       "CO     50058\n",
       "IN     47462\n",
       "OR     40127\n",
       "TN     35243\n",
       "KY     31041\n",
       "SC     29912\n",
       "NV     29091\n",
       "AL     25041\n",
       "UT     23624\n",
       "CT     23140\n",
       "IA     23014\n",
       "KS     19142\n",
       "OK     18480\n",
       "LA     16510\n",
       "ID     15706\n",
       "NM     15013\n",
       "NH     14459\n",
       "AR     13226\n",
       "NE     12495\n",
       "PR     10599\n",
       "ME      9185\n",
       "DE      9076\n",
       "HI      8722\n",
       "RI      8411\n",
       "WV      8391\n",
       "MT      8356\n",
       "MS      7175\n",
       "VT      6111\n",
       "SD      6073\n",
       "AK      5722\n",
       "DC      4568\n",
       "ND      4294\n",
       "WY      4237\n",
       "GU       256\n",
       "VI        61\n",
       "Name: property_state, dtype: int64"
      ]
     },
     "execution_count": 205,
     "metadata": {},
     "output_type": "execute_result"
    }
   ],
   "source": [
    "df['property_state'].value_counts()"
   ]
  },
  {
   "cell_type": "code",
   "execution_count": 206,
   "metadata": {},
   "outputs": [
    {
     "data": {
      "text/plain": [
       "SF    1703690\n",
       "PU     299946\n",
       "CO     196084\n",
       "MH      22586\n",
       "CP       6999\n",
       "99         14\n",
       "Name: property_type, dtype: int64"
      ]
     },
     "execution_count": 206,
     "metadata": {},
     "output_type": "execute_result"
    }
   ],
   "source": [
    "df['property_type'].value_counts()"
   ]
  },
  {
   "cell_type": "code",
   "execution_count": 207,
   "metadata": {},
   "outputs": [
    {
     "data": {
      "text/plain": [
       "SF         1703690\n",
       "PU          299946\n",
       "CO          196084\n",
       "MH           22586\n",
       "CP            6999\n",
       "Unknown         14\n",
       "Name: property_type, dtype: int64"
      ]
     },
     "execution_count": 207,
     "metadata": {},
     "output_type": "execute_result"
    }
   ],
   "source": [
    "property_type_map = {'SF': 'SF'\n",
    "                     , 'PU': 'PU'\n",
    "                     , 'CO': 'CO'\n",
    "                     , 'MH': 'MH'\n",
    "                     , 'CP': 'CP'\n",
    "                     , '99': 'Unknown'}\n",
    "property_type = df['property_type'].map(property_type_map)\n",
    "property_type.value_counts()"
   ]
  },
  {
   "cell_type": "code",
   "execution_count": 208,
   "metadata": {},
   "outputs": [],
   "source": [
    "df['property_type'] = property_type"
   ]
  },
  {
   "cell_type": "code",
   "execution_count": 209,
   "metadata": {},
   "outputs": [
    {
     "data": {
      "text/plain": [
       "1"
      ]
     },
     "execution_count": 209,
     "metadata": {},
     "output_type": "execute_result"
    }
   ],
   "source": [
    "df['loan_sequence_number'].value_counts().max()"
   ]
  },
  {
   "cell_type": "code",
   "execution_count": 210,
   "metadata": {},
   "outputs": [
    {
     "data": {
      "text/plain": [
       "P    992897\n",
       "C    762132\n",
       "N    474290\n",
       "Name: loan_purpose, dtype: int64"
      ]
     },
     "execution_count": 210,
     "metadata": {},
     "output_type": "execute_result"
    }
   ],
   "source": [
    "df['loan_purpose'].value_counts()"
   ]
  },
  {
   "cell_type": "code",
   "execution_count": 211,
   "metadata": {
    "scrolled": false
   },
   "outputs": [
    {
     "data": {
      "text/plain": [
       "WELLS FARGO BANK, N.A.                    545619\n",
       "Other sellers                             329789\n",
       "COUNTRYWIDE HOME LOANS, INC.              219778\n",
       "CHASE HOME FINANCE LLC                    179716\n",
       "ABN AMRO MORTGAGE GROUP, INC.             173737\n",
       "WASHINGTON MUTUAL BANK                    127983\n",
       "GMAC MORTGAGE CORPORATION                  93384\n",
       "WASHINGTON MUTUAL BANK, F.A.               93357\n",
       "NATIONAL CITY MORTGAGE CO.                 93171\n",
       "U.S. BANK N.A.                             84121\n",
       "BANK OF AMERICA, N.A.                      65606\n",
       "TAYLOR, BEAN & WHITAKER MORTGAGE CORP.     60996\n",
       "FIFTH THIRD BANK                           38597\n",
       "LEHMAN BROTHERS HOLDINGS, INC.             36278\n",
       "CITIMORTGAGE, INC.                         23019\n",
       "PROVIDENT FUNDING ASSOCIATES, L.P.         15029\n",
       "FLAGSTAR BANK, FSB                         12240\n",
       "BRANCH BANKING & TRUST COMPANY              8507\n",
       "MORGAN STANLEY MORTGAGE CAPITAL, INC.       8095\n",
       "DLJ MORTGAGE CAPITAL, INC.                  4995\n",
       "SUNTRUST MORTGAGE, INC.                     4738\n",
       "USAA FEDERAL SAVINGS BANK                   4159\n",
       "AMERICAN HOME MORTGAGE CORP.                1801\n",
       "INDYMAC BANK, F.S.B.                        1723\n",
       "HSBC BANK USA                               1490\n",
       "GOLDMAN SACHS MORTGAGE COMPANY              1391\n",
       "Name: seller_name, dtype: int64"
      ]
     },
     "execution_count": 211,
     "metadata": {},
     "output_type": "execute_result"
    }
   ],
   "source": [
    "df['seller_name'].value_counts()"
   ]
  },
  {
   "cell_type": "code",
   "execution_count": 212,
   "metadata": {},
   "outputs": [
    {
     "data": {
      "text/plain": [
       "WELLS FARGO BANK, N.A.                    654711\n",
       "Other servicers                           446578\n",
       "JPMORGAN CHASE BANK, N.A.                 274867\n",
       "BANK OF AMERICA, N.A.                     183053\n",
       "CITIMORTGAGE, INC.                        175930\n",
       "U.S. BANK N.A.                             88877\n",
       "COUNTRYWIDE HOME LOANS, INC.               53603\n",
       "GMAC MORTGAGE, LLC                         52212\n",
       "NATIONSTAR MORTGAGE LLC DBA MR. COOPER     40776\n",
       "WASHINGTON MUTUAL BANK                     35399\n",
       "NATIONSTAR MORTGAGE LLC                    30632\n",
       "PNC BANK, NA                               30252\n",
       "NATIONAL CITY MORTGAGE CO.                 24233\n",
       "PNC MORTGAGE SERVICES, INC.                23343\n",
       "LEHMAN BROTHERS HOLDINGS, INC.             23008\n",
       "ABN AMRO MORTGAGE GROUP, INC.              22108\n",
       "FIFTH THIRD BANK                           21957\n",
       "PROVIDENT FUNDING ASSOCIATES, L.P.         15139\n",
       "TAYLOR, BEAN & WHITAKER MORTGAGE CORP.     10070\n",
       "SPECIALIZED LOAN SERVICING LLC              9185\n",
       "BRANCH BANKING & TRUST COMPANY              4050\n",
       "SUNTRUST MORTGAGE, INC.                     2229\n",
       "AMERICAN HOME MORTGAGE CORP.                2170\n",
       "SELECT PORTFOLIO SERVICING, INC.            1663\n",
       "USAA FEDERAL SAVINGS BANK                   1654\n",
       "OCWEN LOAN SERVICING, LLC                   1620\n",
       "Name: servicer_name, dtype: int64"
      ]
     },
     "execution_count": 212,
     "metadata": {},
     "output_type": "execute_result"
    }
   ],
   "source": [
    "df['servicer_name'].value_counts()"
   ]
  },
  {
   "cell_type": "code",
   "execution_count": 213,
   "metadata": {},
   "outputs": [
    {
     "data": {
      "text/plain": [
       "WELLS FARGO BANK, N.A.                    654711\n",
       "Other servicers                           446578\n",
       "JPMORGAN CHASE BANK, N.A.                 274867\n",
       "BANK OF AMERICA, N.A.                     183053\n",
       "CITIMORTGAGE, INC.                        175930\n",
       "U.S. BANK, N.A.                            88877\n",
       "COUNTRYWIDE HOME LOANS, INC.               53603\n",
       "GMAC MORTGAGE, LLC                         52212\n",
       "NATIONSTAR MORTGAGE LLC DBA MR. COOPER     40776\n",
       "WASHINGTON MUTUAL BANK                     35399\n",
       "NATIONSTAR MORTGAGE LLC                    30632\n",
       "PNC BANK, NA                               30252\n",
       "NATIONAL CITY MORTGAGE CO.                 24233\n",
       "PNC MORTGAGE SERVICES, INC.                23343\n",
       "LEHMAN BROTHERS HOLDINGS, INC.             23008\n",
       "ABN AMRO MORTGAGE GROUP, INC.              22108\n",
       "FIFTH THIRD BANK                           21957\n",
       "PROVIDENT FUNDING ASSOCIATES, L.P.         15139\n",
       "TAYLOR, BEAN & WHITAKER MORTGAGE CORP.     10070\n",
       "SPECIALIZED LOAN SERVICING LLC              9185\n",
       "BRANCH BANKING & TRUST COMPANY              4050\n",
       "SUNTRUST MORTGAGE, INC.                     2229\n",
       "AMERICAN HOME MORTGAGE CORP.                2170\n",
       "SELECT PORTFOLIO SERVICING, INC.            1663\n",
       "USAA FEDERAL SAVINGS BANK                   1654\n",
       "OCWEN LOAN SERVICING, LLC                   1620\n",
       "Name: servicer_name, dtype: int64"
      ]
     },
     "execution_count": 213,
     "metadata": {},
     "output_type": "execute_result"
    }
   ],
   "source": [
    "servicer_name_map = {}\n",
    "for name in df['servicer_name'].value_counts().index.unique():\n",
    "    if name == 'U.S. BANK N.A.':\n",
    "        servicer_name_map[name] = 'U.S. BANK, N.A.'\n",
    "    else:\n",
    "        servicer_name_map[name] = name\n",
    "        \n",
    "servicer_name = df['servicer_name'].map(servicer_name_map)\n",
    "servicer_name.value_counts()"
   ]
  },
  {
   "cell_type": "code",
   "execution_count": 214,
   "metadata": {},
   "outputs": [],
   "source": [
    "df['servicer_name'] = servicer_name"
   ]
  },
  {
   "cell_type": "code",
   "execution_count": 215,
   "metadata": {},
   "outputs": [
    {
     "data": {
      "text/plain": [
       "9    1623111\n",
       "9     603588\n",
       "H       2620\n",
       "Name: program_indicator, dtype: int64"
      ]
     },
     "execution_count": 215,
     "metadata": {},
     "output_type": "execute_result"
    }
   ],
   "source": [
    "df['program_indicator'].value_counts()"
   ]
  },
  {
   "cell_type": "code",
   "execution_count": 216,
   "metadata": {},
   "outputs": [
    {
     "data": {
      "text/plain": [
       "Unknown    2226699\n",
       "H             2620\n",
       "Name: program_indicator, dtype: int64"
      ]
     },
     "execution_count": 216,
     "metadata": {},
     "output_type": "execute_result"
    }
   ],
   "source": [
    "program_indicator_map = {9: 'Unknown'\n",
    "                        , '9': 'Unknown'\n",
    "                        , 'H': 'H'}\n",
    "        \n",
    "program_indicator = df['program_indicator'].map(program_indicator_map)\n",
    "program_indicator.value_counts()"
   ]
  },
  {
   "cell_type": "code",
   "execution_count": 217,
   "metadata": {},
   "outputs": [],
   "source": [
    "df['program_indicator'] = program_indicator"
   ]
  },
  {
   "cell_type": "code",
   "execution_count": 218,
   "metadata": {},
   "outputs": [
    {
     "data": {
      "text/plain": [
       "N    2061138\n",
       "Y     168181\n",
       "Name: interest_only_indicator_(i/o_indicator), dtype: int64"
      ]
     },
     "execution_count": 218,
     "metadata": {},
     "output_type": "execute_result"
    }
   ],
   "source": [
    "df['interest_only_indicator_(i/o_indicator)'].value_counts()"
   ]
  },
  {
   "cell_type": "code",
   "execution_count": 219,
   "metadata": {},
   "outputs": [
    {
     "data": {
      "text/plain": [
       "Unnamed: 0                                                      0.000000\n",
       "credit_score                                                    0.000000\n",
       "first_payment_date                                              0.000000\n",
       "first_time_homebuyer_flag                                       0.000000\n",
       "maturity_date                                                   0.000000\n",
       "metropolitan_statistical_area_(msa)_or_metropolitan_division    0.336642\n",
       "mortgage_insurance_percentage_(mi_%)                            0.000000\n",
       "number_of_units                                                 0.000000\n",
       "occupancy_status                                                0.000000\n",
       "original_combined_loan-to-value_(cltv)                          0.000000\n",
       "original_debt-to-income_(dti)_ratio                             0.000000\n",
       "original_upb                                                    0.000000\n",
       "original_loan-to-value_(ltv)                                    0.000000\n",
       "original_interest_rate                                          0.000000\n",
       "channel                                                         0.000000\n",
       "prepayment_penalty_mortgage_(ppm)_flag                          0.000000\n",
       "amortization_type                                               0.000000\n",
       "property_state                                                  0.000000\n",
       "property_type                                                   0.000000\n",
       "postal_code                                                     0.000000\n",
       "loan_sequence_number                                            0.000000\n",
       "loan_purpose                                                    0.000000\n",
       "original_loan_term                                              0.000000\n",
       "number_of_borrowers                                             0.000000\n",
       "seller_name                                                     0.000000\n",
       "servicer_name                                                   0.000000\n",
       "super_conforming_flag                                           1.000000\n",
       "pre-harp_loan_sequence_number                                   1.000000\n",
       "program_indicator                                               0.000000\n",
       "harp_indicator                                                  1.000000\n",
       "property_valuation_method                                       0.000000\n",
       "interest_only_indicator_(i/o_indicator)                         0.000000\n",
       "target                                                          0.000033\n",
       "dtype: float64"
      ]
     },
     "execution_count": 219,
     "metadata": {},
     "output_type": "execute_result"
    }
   ],
   "source": [
    "df.isnull().sum()/df.shape[0]"
   ]
  },
  {
   "cell_type": "code",
   "execution_count": 220,
   "metadata": {},
   "outputs": [],
   "source": [
    "labels = ['pre-harp_loan_sequence_number', 'harp_indicator'\n",
    "         , 'super_conforming_flag', 'metropolitan_statistical_area_(msa)_or_metropolitan_division']\n",
    "df.drop(labels=labels, axis=1, inplace=True)"
   ]
  },
  {
   "cell_type": "code",
   "execution_count": 221,
   "metadata": {},
   "outputs": [],
   "source": [
    "df.dropna(subset=['target'], inplace=True)"
   ]
  },
  {
   "cell_type": "code",
   "execution_count": 222,
   "metadata": {},
   "outputs": [
    {
     "data": {
      "text/plain": [
       "Unnamed: 0                                 0.0\n",
       "credit_score                               0.0\n",
       "first_payment_date                         0.0\n",
       "first_time_homebuyer_flag                  0.0\n",
       "maturity_date                              0.0\n",
       "mortgage_insurance_percentage_(mi_%)       0.0\n",
       "number_of_units                            0.0\n",
       "occupancy_status                           0.0\n",
       "original_combined_loan-to-value_(cltv)     0.0\n",
       "original_debt-to-income_(dti)_ratio        0.0\n",
       "original_upb                               0.0\n",
       "original_loan-to-value_(ltv)               0.0\n",
       "original_interest_rate                     0.0\n",
       "channel                                    0.0\n",
       "prepayment_penalty_mortgage_(ppm)_flag     0.0\n",
       "amortization_type                          0.0\n",
       "property_state                             0.0\n",
       "property_type                              0.0\n",
       "postal_code                                0.0\n",
       "loan_sequence_number                       0.0\n",
       "loan_purpose                               0.0\n",
       "original_loan_term                         0.0\n",
       "number_of_borrowers                        0.0\n",
       "seller_name                                0.0\n",
       "servicer_name                              0.0\n",
       "program_indicator                          0.0\n",
       "property_valuation_method                  0.0\n",
       "interest_only_indicator_(i/o_indicator)    0.0\n",
       "target                                     0.0\n",
       "dtype: float64"
      ]
     },
     "execution_count": 222,
     "metadata": {},
     "output_type": "execute_result"
    }
   ],
   "source": [
    "df.isnull().sum()/df.shape[0]"
   ]
  },
  {
   "cell_type": "code",
   "execution_count": 223,
   "metadata": {},
   "outputs": [
    {
     "data": {
      "text/html": [
       "<div>\n",
       "<style scoped>\n",
       "    .dataframe tbody tr th:only-of-type {\n",
       "        vertical-align: middle;\n",
       "    }\n",
       "\n",
       "    .dataframe tbody tr th {\n",
       "        vertical-align: top;\n",
       "    }\n",
       "\n",
       "    .dataframe thead th {\n",
       "        text-align: right;\n",
       "    }\n",
       "</style>\n",
       "<table border=\"1\" class=\"dataframe\">\n",
       "  <thead>\n",
       "    <tr style=\"text-align: right;\">\n",
       "      <th></th>\n",
       "      <th>Unnamed: 0</th>\n",
       "      <th>credit_score</th>\n",
       "      <th>first_payment_date</th>\n",
       "      <th>maturity_date</th>\n",
       "      <th>mortgage_insurance_percentage_(mi_%)</th>\n",
       "      <th>number_of_units</th>\n",
       "      <th>original_combined_loan-to-value_(cltv)</th>\n",
       "      <th>original_debt-to-income_(dti)_ratio</th>\n",
       "      <th>original_upb</th>\n",
       "      <th>original_loan-to-value_(ltv)</th>\n",
       "      <th>original_interest_rate</th>\n",
       "      <th>postal_code</th>\n",
       "      <th>original_loan_term</th>\n",
       "      <th>number_of_borrowers</th>\n",
       "      <th>property_valuation_method</th>\n",
       "      <th>target</th>\n",
       "    </tr>\n",
       "  </thead>\n",
       "  <tbody>\n",
       "    <tr>\n",
       "      <th>count</th>\n",
       "      <td>2.229246e+06</td>\n",
       "      <td>2.229246e+06</td>\n",
       "      <td>2.229246e+06</td>\n",
       "      <td>2.229246e+06</td>\n",
       "      <td>2.229246e+06</td>\n",
       "      <td>2.229246e+06</td>\n",
       "      <td>2.229246e+06</td>\n",
       "      <td>2.229246e+06</td>\n",
       "      <td>2.229246e+06</td>\n",
       "      <td>2.229246e+06</td>\n",
       "      <td>2.229246e+06</td>\n",
       "      <td>2.229246e+06</td>\n",
       "      <td>2.229246e+06</td>\n",
       "      <td>2.229246e+06</td>\n",
       "      <td>2229246.0</td>\n",
       "      <td>2.229246e+06</td>\n",
       "    </tr>\n",
       "    <tr>\n",
       "      <th>mean</th>\n",
       "      <td>1.708403e+05</td>\n",
       "      <td>7.351839e+02</td>\n",
       "      <td>2.005228e+05</td>\n",
       "      <td>2.032587e+05</td>\n",
       "      <td>7.071009e+00</td>\n",
       "      <td>1.030422e+00</td>\n",
       "      <td>7.294854e+01</td>\n",
       "      <td>7.495380e+01</td>\n",
       "      <td>1.768811e+05</td>\n",
       "      <td>7.085061e+01</td>\n",
       "      <td>5.791681e+00</td>\n",
       "      <td>5.168427e+04</td>\n",
       "      <td>3.292560e+02</td>\n",
       "      <td>1.577153e+00</td>\n",
       "      <td>9.0</td>\n",
       "      <td>1.375577e-01</td>\n",
       "    </tr>\n",
       "    <tr>\n",
       "      <th>std</th>\n",
       "      <td>1.234740e+05</td>\n",
       "      <td>3.179643e+02</td>\n",
       "      <td>3.549150e+01</td>\n",
       "      <td>5.582984e+02</td>\n",
       "      <td>6.136987e+01</td>\n",
       "      <td>5.394947e-01</td>\n",
       "      <td>2.207616e+01</td>\n",
       "      <td>1.918529e+02</td>\n",
       "      <td>8.761462e+04</td>\n",
       "      <td>2.091020e+01</td>\n",
       "      <td>4.564045e-01</td>\n",
       "      <td>2.938814e+04</td>\n",
       "      <td>6.680701e+01</td>\n",
       "      <td>1.806410e+00</td>\n",
       "      <td>0.0</td>\n",
       "      <td>3.444353e-01</td>\n",
       "    </tr>\n",
       "    <tr>\n",
       "      <th>min</th>\n",
       "      <td>0.000000e+00</td>\n",
       "      <td>3.000000e+02</td>\n",
       "      <td>2.000010e+05</td>\n",
       "      <td>2.009120e+05</td>\n",
       "      <td>0.000000e+00</td>\n",
       "      <td>1.000000e+00</td>\n",
       "      <td>6.000000e+00</td>\n",
       "      <td>1.000000e+00</td>\n",
       "      <td>1.000000e+03</td>\n",
       "      <td>6.000000e+00</td>\n",
       "      <td>0.000000e+00</td>\n",
       "      <td>0.000000e+00</td>\n",
       "      <td>2.500000e+01</td>\n",
       "      <td>1.000000e+00</td>\n",
       "      <td>9.0</td>\n",
       "      <td>0.000000e+00</td>\n",
       "    </tr>\n",
       "    <tr>\n",
       "      <th>25%</th>\n",
       "      <td>6.966900e+04</td>\n",
       "      <td>6.860000e+02</td>\n",
       "      <td>2.005060e+05</td>\n",
       "      <td>2.035030e+05</td>\n",
       "      <td>0.000000e+00</td>\n",
       "      <td>1.000000e+00</td>\n",
       "      <td>6.300000e+01</td>\n",
       "      <td>2.700000e+01</td>\n",
       "      <td>1.090000e+05</td>\n",
       "      <td>6.200000e+01</td>\n",
       "      <td>5.500000e+00</td>\n",
       "      <td>2.860000e+04</td>\n",
       "      <td>3.600000e+02</td>\n",
       "      <td>1.000000e+00</td>\n",
       "      <td>9.0</td>\n",
       "      <td>0.000000e+00</td>\n",
       "    </tr>\n",
       "    <tr>\n",
       "      <th>50%</th>\n",
       "      <td>1.399400e+05</td>\n",
       "      <td>7.320000e+02</td>\n",
       "      <td>2.005090e+05</td>\n",
       "      <td>2.035070e+05</td>\n",
       "      <td>0.000000e+00</td>\n",
       "      <td>1.000000e+00</td>\n",
       "      <td>7.900000e+01</td>\n",
       "      <td>3.600000e+01</td>\n",
       "      <td>1.600000e+05</td>\n",
       "      <td>7.700000e+01</td>\n",
       "      <td>5.750000e+00</td>\n",
       "      <td>4.880000e+04</td>\n",
       "      <td>3.600000e+02</td>\n",
       "      <td>2.000000e+00</td>\n",
       "      <td>9.0</td>\n",
       "      <td>0.000000e+00</td>\n",
       "    </tr>\n",
       "    <tr>\n",
       "      <th>75%</th>\n",
       "      <td>2.635640e+05</td>\n",
       "      <td>7.710000e+02</td>\n",
       "      <td>2.005110e+05</td>\n",
       "      <td>2.035100e+05</td>\n",
       "      <td>0.000000e+00</td>\n",
       "      <td>1.000000e+00</td>\n",
       "      <td>8.500000e+01</td>\n",
       "      <td>4.500000e+01</td>\n",
       "      <td>2.340000e+05</td>\n",
       "      <td>8.000000e+01</td>\n",
       "      <td>6.000000e+00</td>\n",
       "      <td>8.010000e+04</td>\n",
       "      <td>3.600000e+02</td>\n",
       "      <td>2.000000e+00</td>\n",
       "      <td>9.0</td>\n",
       "      <td>0.000000e+00</td>\n",
       "    </tr>\n",
       "    <tr>\n",
       "      <th>max</th>\n",
       "      <td>5.083660e+05</td>\n",
       "      <td>9.999000e+03</td>\n",
       "      <td>2.018020e+05</td>\n",
       "      <td>2.055120e+05</td>\n",
       "      <td>9.990000e+02</td>\n",
       "      <td>9.900000e+01</td>\n",
       "      <td>9.990000e+02</td>\n",
       "      <td>9.990000e+02</td>\n",
       "      <td>8.020000e+05</td>\n",
       "      <td>9.990000e+02</td>\n",
       "      <td>1.165000e+01</td>\n",
       "      <td>9.990000e+04</td>\n",
       "      <td>5.840000e+02</td>\n",
       "      <td>9.900000e+01</td>\n",
       "      <td>9.0</td>\n",
       "      <td>1.000000e+00</td>\n",
       "    </tr>\n",
       "  </tbody>\n",
       "</table>\n",
       "</div>"
      ],
      "text/plain": [
       "         Unnamed: 0  credit_score  first_payment_date  maturity_date  \\\n",
       "count  2.229246e+06  2.229246e+06        2.229246e+06   2.229246e+06   \n",
       "mean   1.708403e+05  7.351839e+02        2.005228e+05   2.032587e+05   \n",
       "std    1.234740e+05  3.179643e+02        3.549150e+01   5.582984e+02   \n",
       "min    0.000000e+00  3.000000e+02        2.000010e+05   2.009120e+05   \n",
       "25%    6.966900e+04  6.860000e+02        2.005060e+05   2.035030e+05   \n",
       "50%    1.399400e+05  7.320000e+02        2.005090e+05   2.035070e+05   \n",
       "75%    2.635640e+05  7.710000e+02        2.005110e+05   2.035100e+05   \n",
       "max    5.083660e+05  9.999000e+03        2.018020e+05   2.055120e+05   \n",
       "\n",
       "       mortgage_insurance_percentage_(mi_%)  number_of_units  \\\n",
       "count                          2.229246e+06     2.229246e+06   \n",
       "mean                           7.071009e+00     1.030422e+00   \n",
       "std                            6.136987e+01     5.394947e-01   \n",
       "min                            0.000000e+00     1.000000e+00   \n",
       "25%                            0.000000e+00     1.000000e+00   \n",
       "50%                            0.000000e+00     1.000000e+00   \n",
       "75%                            0.000000e+00     1.000000e+00   \n",
       "max                            9.990000e+02     9.900000e+01   \n",
       "\n",
       "       original_combined_loan-to-value_(cltv)  \\\n",
       "count                            2.229246e+06   \n",
       "mean                             7.294854e+01   \n",
       "std                              2.207616e+01   \n",
       "min                              6.000000e+00   \n",
       "25%                              6.300000e+01   \n",
       "50%                              7.900000e+01   \n",
       "75%                              8.500000e+01   \n",
       "max                              9.990000e+02   \n",
       "\n",
       "       original_debt-to-income_(dti)_ratio  original_upb  \\\n",
       "count                         2.229246e+06  2.229246e+06   \n",
       "mean                          7.495380e+01  1.768811e+05   \n",
       "std                           1.918529e+02  8.761462e+04   \n",
       "min                           1.000000e+00  1.000000e+03   \n",
       "25%                           2.700000e+01  1.090000e+05   \n",
       "50%                           3.600000e+01  1.600000e+05   \n",
       "75%                           4.500000e+01  2.340000e+05   \n",
       "max                           9.990000e+02  8.020000e+05   \n",
       "\n",
       "       original_loan-to-value_(ltv)  original_interest_rate   postal_code  \\\n",
       "count                  2.229246e+06            2.229246e+06  2.229246e+06   \n",
       "mean                   7.085061e+01            5.791681e+00  5.168427e+04   \n",
       "std                    2.091020e+01            4.564045e-01  2.938814e+04   \n",
       "min                    6.000000e+00            0.000000e+00  0.000000e+00   \n",
       "25%                    6.200000e+01            5.500000e+00  2.860000e+04   \n",
       "50%                    7.700000e+01            5.750000e+00  4.880000e+04   \n",
       "75%                    8.000000e+01            6.000000e+00  8.010000e+04   \n",
       "max                    9.990000e+02            1.165000e+01  9.990000e+04   \n",
       "\n",
       "       original_loan_term  number_of_borrowers  property_valuation_method  \\\n",
       "count        2.229246e+06         2.229246e+06                  2229246.0   \n",
       "mean         3.292560e+02         1.577153e+00                        9.0   \n",
       "std          6.680701e+01         1.806410e+00                        0.0   \n",
       "min          2.500000e+01         1.000000e+00                        9.0   \n",
       "25%          3.600000e+02         1.000000e+00                        9.0   \n",
       "50%          3.600000e+02         2.000000e+00                        9.0   \n",
       "75%          3.600000e+02         2.000000e+00                        9.0   \n",
       "max          5.840000e+02         9.900000e+01                        9.0   \n",
       "\n",
       "             target  \n",
       "count  2.229246e+06  \n",
       "mean   1.375577e-01  \n",
       "std    3.444353e-01  \n",
       "min    0.000000e+00  \n",
       "25%    0.000000e+00  \n",
       "50%    0.000000e+00  \n",
       "75%    0.000000e+00  \n",
       "max    1.000000e+00  "
      ]
     },
     "execution_count": 223,
     "metadata": {},
     "output_type": "execute_result"
    }
   ],
   "source": [
    "df.describe()"
   ]
  },
  {
   "cell_type": "code",
   "execution_count": 224,
   "metadata": {},
   "outputs": [
    {
     "data": {
      "text/plain": [
       "<AxesSubplot:>"
      ]
     },
     "execution_count": 224,
     "metadata": {},
     "output_type": "execute_result"
    },
    {
     "data": {
      "image/png": "[encoded data removed]",
      "text/plain": [
       "<Figure size 432x288 with 1 Axes>"
      ]
     },
     "metadata": {},
     "output_type": "display_data"
    }
   ],
   "source": [
    "df['credit_score'].hist()"
   ]
  },
  {
   "cell_type": "code",
   "execution_count": 225,
   "metadata": {
    "scrolled": true
   },
   "outputs": [
    {
     "data": {
      "text/plain": [
       "0.26272189349112424"
      ]
     },
     "execution_count": 225,
     "metadata": {},
     "output_type": "execute_result"
    }
   ],
   "source": [
    "df[df['credit_score'] > 1000]['target'].sum()/df[df['credit_score'] > 1000]['target'].count()\n",
    "# percent postive when credit score > 1000"
   ]
  },
  {
   "cell_type": "code",
   "execution_count": 226,
   "metadata": {},
   "outputs": [
    {
     "data": {
      "text/plain": [
       "0.13741522810997925"
      ]
     },
     "execution_count": 226,
     "metadata": {},
     "output_type": "execute_result"
    }
   ],
   "source": [
    "df[df['credit_score'] <= 1000]['target'].sum()/df[df['credit_score'] <= 1000]['target'].count()\n",
    "# percent postive when credit score <= 1000"
   ]
  },
  {
   "cell_type": "code",
   "execution_count": 227,
   "metadata": {},
   "outputs": [
    {
     "data": {
      "text/plain": [
       "0.0011371557916892078"
      ]
     },
     "execution_count": 227,
     "metadata": {},
     "output_type": "execute_result"
    }
   ],
   "source": [
    "df[df['credit_score'] > 1000]['target'].count() / df.shape[0]"
   ]
  },
  {
   "cell_type": "code",
   "execution_count": 228,
   "metadata": {},
   "outputs": [
    {
     "data": {
      "text/html": [
       "<div>\n",
       "<style scoped>\n",
       "    .dataframe tbody tr th:only-of-type {\n",
       "        vertical-align: middle;\n",
       "    }\n",
       "\n",
       "    .dataframe tbody tr th {\n",
       "        vertical-align: top;\n",
       "    }\n",
       "\n",
       "    .dataframe thead th {\n",
       "        text-align: right;\n",
       "    }\n",
       "</style>\n",
       "<table border=\"1\" class=\"dataframe\">\n",
       "  <thead>\n",
       "    <tr style=\"text-align: right;\">\n",
       "      <th></th>\n",
       "      <th>Unnamed: 0</th>\n",
       "      <th>credit_score</th>\n",
       "      <th>first_payment_date</th>\n",
       "      <th>first_time_homebuyer_flag</th>\n",
       "      <th>maturity_date</th>\n",
       "      <th>mortgage_insurance_percentage_(mi_%)</th>\n",
       "      <th>number_of_units</th>\n",
       "      <th>occupancy_status</th>\n",
       "      <th>original_combined_loan-to-value_(cltv)</th>\n",
       "      <th>original_debt-to-income_(dti)_ratio</th>\n",
       "      <th>...</th>\n",
       "      <th>loan_sequence_number</th>\n",
       "      <th>loan_purpose</th>\n",
       "      <th>original_loan_term</th>\n",
       "      <th>number_of_borrowers</th>\n",
       "      <th>seller_name</th>\n",
       "      <th>servicer_name</th>\n",
       "      <th>program_indicator</th>\n",
       "      <th>property_valuation_method</th>\n",
       "      <th>interest_only_indicator_(i/o_indicator)</th>\n",
       "      <th>target</th>\n",
       "    </tr>\n",
       "  </thead>\n",
       "  <tbody>\n",
       "    <tr>\n",
       "      <th>11</th>\n",
       "      <td>11</td>\n",
       "      <td>9999</td>\n",
       "      <td>200512</td>\n",
       "      <td>Y</td>\n",
       "      <td>203511</td>\n",
       "      <td>0</td>\n",
       "      <td>1</td>\n",
       "      <td>P</td>\n",
       "      <td>100</td>\n",
       "      <td>24</td>\n",
       "      <td>...</td>\n",
       "      <td>F05Q40000560</td>\n",
       "      <td>P</td>\n",
       "      <td>360</td>\n",
       "      <td>1</td>\n",
       "      <td>Other sellers</td>\n",
       "      <td>Other servicers</td>\n",
       "      <td>Unknown</td>\n",
       "      <td>9</td>\n",
       "      <td>N</td>\n",
       "      <td>0.0</td>\n",
       "    </tr>\n",
       "    <tr>\n",
       "      <th>495</th>\n",
       "      <td>495</td>\n",
       "      <td>9999</td>\n",
       "      <td>200512</td>\n",
       "      <td>Y</td>\n",
       "      <td>203511</td>\n",
       "      <td>0</td>\n",
       "      <td>1</td>\n",
       "      <td>P</td>\n",
       "      <td>103</td>\n",
       "      <td>41</td>\n",
       "      <td>...</td>\n",
       "      <td>F05Q40003820</td>\n",
       "      <td>P</td>\n",
       "      <td>360</td>\n",
       "      <td>1</td>\n",
       "      <td>Other sellers</td>\n",
       "      <td>Other servicers</td>\n",
       "      <td>Unknown</td>\n",
       "      <td>9</td>\n",
       "      <td>N</td>\n",
       "      <td>1.0</td>\n",
       "    </tr>\n",
       "    <tr>\n",
       "      <th>916</th>\n",
       "      <td>916</td>\n",
       "      <td>9999</td>\n",
       "      <td>200512</td>\n",
       "      <td>N</td>\n",
       "      <td>203511</td>\n",
       "      <td>0</td>\n",
       "      <td>1</td>\n",
       "      <td>P</td>\n",
       "      <td>100</td>\n",
       "      <td>31</td>\n",
       "      <td>...</td>\n",
       "      <td>F05Q40004650</td>\n",
       "      <td>P</td>\n",
       "      <td>360</td>\n",
       "      <td>1</td>\n",
       "      <td>Other sellers</td>\n",
       "      <td>Other servicers</td>\n",
       "      <td>Unknown</td>\n",
       "      <td>9</td>\n",
       "      <td>N</td>\n",
       "      <td>1.0</td>\n",
       "    </tr>\n",
       "    <tr>\n",
       "      <th>994</th>\n",
       "      <td>994</td>\n",
       "      <td>9999</td>\n",
       "      <td>200511</td>\n",
       "      <td>Y</td>\n",
       "      <td>203510</td>\n",
       "      <td>0</td>\n",
       "      <td>1</td>\n",
       "      <td>P</td>\n",
       "      <td>80</td>\n",
       "      <td>38</td>\n",
       "      <td>...</td>\n",
       "      <td>F05Q40004789</td>\n",
       "      <td>P</td>\n",
       "      <td>360</td>\n",
       "      <td>1</td>\n",
       "      <td>COUNTRYWIDE HOME LOANS, INC.</td>\n",
       "      <td>BANK OF AMERICA, N.A.</td>\n",
       "      <td>Unknown</td>\n",
       "      <td>9</td>\n",
       "      <td>N</td>\n",
       "      <td>0.0</td>\n",
       "    </tr>\n",
       "    <tr>\n",
       "      <th>1182</th>\n",
       "      <td>1182</td>\n",
       "      <td>9999</td>\n",
       "      <td>200601</td>\n",
       "      <td>Y</td>\n",
       "      <td>203512</td>\n",
       "      <td>0</td>\n",
       "      <td>1</td>\n",
       "      <td>P</td>\n",
       "      <td>100</td>\n",
       "      <td>21</td>\n",
       "      <td>...</td>\n",
       "      <td>F05Q40005427</td>\n",
       "      <td>P</td>\n",
       "      <td>360</td>\n",
       "      <td>1</td>\n",
       "      <td>Other sellers</td>\n",
       "      <td>U.S. BANK, N.A.</td>\n",
       "      <td>Unknown</td>\n",
       "      <td>9</td>\n",
       "      <td>N</td>\n",
       "      <td>1.0</td>\n",
       "    </tr>\n",
       "    <tr>\n",
       "      <th>...</th>\n",
       "      <td>...</td>\n",
       "      <td>...</td>\n",
       "      <td>...</td>\n",
       "      <td>...</td>\n",
       "      <td>...</td>\n",
       "      <td>...</td>\n",
       "      <td>...</td>\n",
       "      <td>...</td>\n",
       "      <td>...</td>\n",
       "      <td>...</td>\n",
       "      <td>...</td>\n",
       "      <td>...</td>\n",
       "      <td>...</td>\n",
       "      <td>...</td>\n",
       "      <td>...</td>\n",
       "      <td>...</td>\n",
       "      <td>...</td>\n",
       "      <td>...</td>\n",
       "      <td>...</td>\n",
       "      <td>...</td>\n",
       "      <td>...</td>\n",
       "    </tr>\n",
       "    <tr>\n",
       "      <th>2217088</th>\n",
       "      <td>364697</td>\n",
       "      <td>9999</td>\n",
       "      <td>200608</td>\n",
       "      <td>N</td>\n",
       "      <td>203607</td>\n",
       "      <td>0</td>\n",
       "      <td>1</td>\n",
       "      <td>P</td>\n",
       "      <td>80</td>\n",
       "      <td>24</td>\n",
       "      <td>...</td>\n",
       "      <td>F05Q40449000</td>\n",
       "      <td>P</td>\n",
       "      <td>360</td>\n",
       "      <td>1</td>\n",
       "      <td>BRANCH BANKING &amp; TRUST COMPANY</td>\n",
       "      <td>Other servicers</td>\n",
       "      <td>Unknown</td>\n",
       "      <td>9</td>\n",
       "      <td>N</td>\n",
       "      <td>0.0</td>\n",
       "    </tr>\n",
       "    <tr>\n",
       "      <th>2217484</th>\n",
       "      <td>365093</td>\n",
       "      <td>9999</td>\n",
       "      <td>200601</td>\n",
       "      <td>N</td>\n",
       "      <td>202012</td>\n",
       "      <td>0</td>\n",
       "      <td>1</td>\n",
       "      <td>S</td>\n",
       "      <td>27</td>\n",
       "      <td>41</td>\n",
       "      <td>...</td>\n",
       "      <td>F05Q40449631</td>\n",
       "      <td>C</td>\n",
       "      <td>180</td>\n",
       "      <td>1</td>\n",
       "      <td>Other sellers</td>\n",
       "      <td>Other servicers</td>\n",
       "      <td>Unknown</td>\n",
       "      <td>9</td>\n",
       "      <td>N</td>\n",
       "      <td>0.0</td>\n",
       "    </tr>\n",
       "    <tr>\n",
       "      <th>2217487</th>\n",
       "      <td>365096</td>\n",
       "      <td>9999</td>\n",
       "      <td>200602</td>\n",
       "      <td>N</td>\n",
       "      <td>202101</td>\n",
       "      <td>0</td>\n",
       "      <td>1</td>\n",
       "      <td>P</td>\n",
       "      <td>30</td>\n",
       "      <td>54</td>\n",
       "      <td>...</td>\n",
       "      <td>F05Q40449634</td>\n",
       "      <td>P</td>\n",
       "      <td>180</td>\n",
       "      <td>1</td>\n",
       "      <td>Other sellers</td>\n",
       "      <td>NATIONAL CITY MORTGAGE CO.</td>\n",
       "      <td>Unknown</td>\n",
       "      <td>9</td>\n",
       "      <td>N</td>\n",
       "      <td>0.0</td>\n",
       "    </tr>\n",
       "    <tr>\n",
       "      <th>2219529</th>\n",
       "      <td>367138</td>\n",
       "      <td>9999</td>\n",
       "      <td>200611</td>\n",
       "      <td>Y</td>\n",
       "      <td>203610</td>\n",
       "      <td>0</td>\n",
       "      <td>1</td>\n",
       "      <td>P</td>\n",
       "      <td>76</td>\n",
       "      <td>39</td>\n",
       "      <td>...</td>\n",
       "      <td>F05Q40452533</td>\n",
       "      <td>P</td>\n",
       "      <td>360</td>\n",
       "      <td>1</td>\n",
       "      <td>Other sellers</td>\n",
       "      <td>Other servicers</td>\n",
       "      <td>Unknown</td>\n",
       "      <td>9</td>\n",
       "      <td>N</td>\n",
       "      <td>0.0</td>\n",
       "    </tr>\n",
       "    <tr>\n",
       "      <th>2227128</th>\n",
       "      <td>374737</td>\n",
       "      <td>9999</td>\n",
       "      <td>200602</td>\n",
       "      <td>Y</td>\n",
       "      <td>203601</td>\n",
       "      <td>0</td>\n",
       "      <td>1</td>\n",
       "      <td>P</td>\n",
       "      <td>97</td>\n",
       "      <td>38</td>\n",
       "      <td>...</td>\n",
       "      <td>F05Q40462877</td>\n",
       "      <td>P</td>\n",
       "      <td>360</td>\n",
       "      <td>1</td>\n",
       "      <td>BANK OF AMERICA, N.A.</td>\n",
       "      <td>NATIONSTAR MORTGAGE LLC</td>\n",
       "      <td>Unknown</td>\n",
       "      <td>9</td>\n",
       "      <td>N</td>\n",
       "      <td>0.0</td>\n",
       "    </tr>\n",
       "  </tbody>\n",
       "</table>\n",
       "<p>2535 rows × 29 columns</p>\n",
       "</div>"
      ],
      "text/plain": [
       "         Unnamed: 0  credit_score  first_payment_date  \\\n",
       "11               11          9999              200512   \n",
       "495             495          9999              200512   \n",
       "916             916          9999              200512   \n",
       "994             994          9999              200511   \n",
       "1182           1182          9999              200601   \n",
       "...             ...           ...                 ...   \n",
       "2217088      364697          9999              200608   \n",
       "2217484      365093          9999              200601   \n",
       "2217487      365096          9999              200602   \n",
       "2219529      367138          9999              200611   \n",
       "2227128      374737          9999              200602   \n",
       "\n",
       "        first_time_homebuyer_flag  maturity_date  \\\n",
       "11                              Y         203511   \n",
       "495                             Y         203511   \n",
       "916                             N         203511   \n",
       "994                             Y         203510   \n",
       "1182                            Y         203512   \n",
       "...                           ...            ...   \n",
       "2217088                         N         203607   \n",
       "2217484                         N         202012   \n",
       "2217487                         N         202101   \n",
       "2219529                         Y         203610   \n",
       "2227128                         Y         203601   \n",
       "\n",
       "         mortgage_insurance_percentage_(mi_%)  number_of_units  \\\n",
       "11                                          0                1   \n",
       "495                                         0                1   \n",
       "916                                         0                1   \n",
       "994                                         0                1   \n",
       "1182                                        0                1   \n",
       "...                                       ...              ...   \n",
       "2217088                                     0                1   \n",
       "2217484                                     0                1   \n",
       "2217487                                     0                1   \n",
       "2219529                                     0                1   \n",
       "2227128                                     0                1   \n",
       "\n",
       "        occupancy_status  original_combined_loan-to-value_(cltv)  \\\n",
       "11                     P                                     100   \n",
       "495                    P                                     103   \n",
       "916                    P                                     100   \n",
       "994                    P                                      80   \n",
       "1182                   P                                     100   \n",
       "...                  ...                                     ...   \n",
       "2217088                P                                      80   \n",
       "2217484                S                                      27   \n",
       "2217487                P                                      30   \n",
       "2219529                P                                      76   \n",
       "2227128                P                                      97   \n",
       "\n",
       "         original_debt-to-income_(dti)_ratio  ...  loan_sequence_number  \\\n",
       "11                                        24  ...          F05Q40000560   \n",
       "495                                       41  ...          F05Q40003820   \n",
       "916                                       31  ...          F05Q40004650   \n",
       "994                                       38  ...          F05Q40004789   \n",
       "1182                                      21  ...          F05Q40005427   \n",
       "...                                      ...  ...                   ...   \n",
       "2217088                                   24  ...          F05Q40449000   \n",
       "2217484                                   41  ...          F05Q40449631   \n",
       "2217487                                   54  ...          F05Q40449634   \n",
       "2219529                                   39  ...          F05Q40452533   \n",
       "2227128                                   38  ...          F05Q40462877   \n",
       "\n",
       "         loan_purpose  original_loan_term number_of_borrowers  \\\n",
       "11                  P                 360                   1   \n",
       "495                 P                 360                   1   \n",
       "916                 P                 360                   1   \n",
       "994                 P                 360                   1   \n",
       "1182                P                 360                   1   \n",
       "...               ...                 ...                 ...   \n",
       "2217088             P                 360                   1   \n",
       "2217484             C                 180                   1   \n",
       "2217487             P                 180                   1   \n",
       "2219529             P                 360                   1   \n",
       "2227128             P                 360                   1   \n",
       "\n",
       "                            seller_name               servicer_name  \\\n",
       "11                        Other sellers             Other servicers   \n",
       "495                       Other sellers             Other servicers   \n",
       "916                       Other sellers             Other servicers   \n",
       "994        COUNTRYWIDE HOME LOANS, INC.       BANK OF AMERICA, N.A.   \n",
       "1182                      Other sellers             U.S. BANK, N.A.   \n",
       "...                                 ...                         ...   \n",
       "2217088  BRANCH BANKING & TRUST COMPANY             Other servicers   \n",
       "2217484                   Other sellers             Other servicers   \n",
       "2217487                   Other sellers  NATIONAL CITY MORTGAGE CO.   \n",
       "2219529                   Other sellers             Other servicers   \n",
       "2227128           BANK OF AMERICA, N.A.     NATIONSTAR MORTGAGE LLC   \n",
       "\n",
       "        program_indicator property_valuation_method  \\\n",
       "11                Unknown                         9   \n",
       "495               Unknown                         9   \n",
       "916               Unknown                         9   \n",
       "994               Unknown                         9   \n",
       "1182              Unknown                         9   \n",
       "...                   ...                       ...   \n",
       "2217088           Unknown                         9   \n",
       "2217484           Unknown                         9   \n",
       "2217487           Unknown                         9   \n",
       "2219529           Unknown                         9   \n",
       "2227128           Unknown                         9   \n",
       "\n",
       "         interest_only_indicator_(i/o_indicator) target  \n",
       "11                                             N    0.0  \n",
       "495                                            N    1.0  \n",
       "916                                            N    1.0  \n",
       "994                                            N    0.0  \n",
       "1182                                           N    1.0  \n",
       "...                                          ...    ...  \n",
       "2217088                                        N    0.0  \n",
       "2217484                                        N    0.0  \n",
       "2217487                                        N    0.0  \n",
       "2219529                                        N    0.0  \n",
       "2227128                                        N    0.0  \n",
       "\n",
       "[2535 rows x 29 columns]"
      ]
     },
     "execution_count": 228,
     "metadata": {},
     "output_type": "execute_result"
    }
   ],
   "source": [
    "df[df['credit_score'] > 1000]"
   ]
  },
  {
   "cell_type": "code",
   "execution_count": 229,
   "metadata": {},
   "outputs": [],
   "source": [
    "imp = SimpleImputer(missing_values=9999, strategy='mean')\n",
    "imp.fit(np.array(df['credit_score']).reshape(-1, 1))\n",
    "indicator = MissingIndicator(missing_values=9999)\n",
    "mask_missing_cs = indicator.fit_transform(np.array(df['credit_score']).reshape(-1, 1))\n",
    "credit_score_mean_imputed = imp.transform(np.array(df['credit_score']).reshape(-1, 1))\n"
   ]
  },
  {
   "cell_type": "code",
   "execution_count": 230,
   "metadata": {},
   "outputs": [],
   "source": [
    "df['missing_credit_score'] = mask_missing_cs\n",
    "df['credit_score'] = credit_score_mean_imputed\n"
   ]
  },
  {
   "cell_type": "code",
   "execution_count": 231,
   "metadata": {},
   "outputs": [
    {
     "data": {
      "text/plain": [
       "850.0"
      ]
     },
     "execution_count": 231,
     "metadata": {},
     "output_type": "execute_result"
    }
   ],
   "source": [
    "df['credit_score'].max()"
   ]
  },
  {
   "cell_type": "code",
   "execution_count": 232,
   "metadata": {},
   "outputs": [
    {
     "data": {
      "text/plain": [
       "300.0"
      ]
     },
     "execution_count": 232,
     "metadata": {},
     "output_type": "execute_result"
    }
   ],
   "source": [
    "df['credit_score'].min()"
   ]
  },
  {
   "cell_type": "code",
   "execution_count": 233,
   "metadata": {},
   "outputs": [
    {
     "data": {
      "text/plain": [
       "<AxesSubplot:>"
      ]
     },
     "execution_count": 233,
     "metadata": {},
     "output_type": "execute_result"
    },
    {
     "data": {
      "image/png": "[encoded data removed]",
      "text/plain": [
       "<Figure size 432x288 with 1 Axes>"
      ]
     },
     "metadata": {},
     "output_type": "display_data"
    }
   ],
   "source": [
    "df['first_payment_date'] = pd.to_datetime(df['first_payment_date'], format='%Y%m')\n",
    "df['first_payment_date'].hist()"
   ]
  },
  {
   "cell_type": "code",
   "execution_count": 234,
   "metadata": {},
   "outputs": [],
   "source": [
    "df['first_payment_date_year'] = df['first_payment_date'].dt.year\n",
    "df['first_payment_date_month'] = df['first_payment_date'].dt.month"
   ]
  },
  {
   "cell_type": "code",
   "execution_count": 235,
   "metadata": {},
   "outputs": [
    {
     "data": {
      "text/plain": [
       "<AxesSubplot:>"
      ]
     },
     "execution_count": 235,
     "metadata": {},
     "output_type": "execute_result"
    },
    {
     "data": {
      "image/png": "[encoded data removed]",
      "text/plain": [
       "<Figure size 432x288 with 1 Axes>"
      ]
     },
     "metadata": {},
     "output_type": "display_data"
    }
   ],
   "source": [
    "df['first_payment_date_year'].hist()"
   ]
  },
  {
   "cell_type": "code",
   "execution_count": 236,
   "metadata": {
    "scrolled": true
   },
   "outputs": [
    {
     "data": {
      "text/plain": [
       "<AxesSubplot:>"
      ]
     },
     "execution_count": 236,
     "metadata": {},
     "output_type": "execute_result"
    },
    {
     "data": {
      "image/png": "[encoded data removed]",
      "text/plain": [
       "<Figure size 432x288 with 1 Axes>"
      ]
     },
     "metadata": {},
     "output_type": "display_data"
    }
   ],
   "source": [
    "df['first_payment_date_month'].hist()"
   ]
  },
  {
   "cell_type": "code",
   "execution_count": 237,
   "metadata": {},
   "outputs": [],
   "source": [
    "df.drop(labels='first_payment_date', axis=1, inplace=True)"
   ]
  },
  {
   "cell_type": "code",
   "execution_count": 238,
   "metadata": {},
   "outputs": [],
   "source": [
    "df.drop(labels='maturity_date', axis=1, inplace=True)"
   ]
  },
  {
   "cell_type": "code",
   "execution_count": 239,
   "metadata": {},
   "outputs": [
    {
     "data": {
      "text/plain": [
       "<AxesSubplot:>"
      ]
     },
     "execution_count": 239,
     "metadata": {},
     "output_type": "execute_result"
    },
    {
     "data": {
      "image/png": "[encoded data removed]",
      "text/plain": [
       "<Figure size 432x288 with 1 Axes>"
      ]
     },
     "metadata": {},
     "output_type": "display_data"
    }
   ],
   "source": [
    "df['mortgage_insurance_percentage_(mi_%)'].hist()"
   ]
  },
  {
   "cell_type": "code",
   "execution_count": 240,
   "metadata": {},
   "outputs": [],
   "source": [
    "col = 'mortgage_insurance_percentage_(mi_%)'\n",
    "imp = SimpleImputer(missing_values=999, strategy='mean')\n",
    "imp.fit(np.array(df[col]).reshape(-1, 1))\n",
    "indicator = MissingIndicator(missing_values=999)\n",
    "mask_missing_mi = indicator.fit_transform(np.array(df[col]).reshape(-1, 1))\n",
    "mi_mean_imputed = imp.transform(np.array(df[col]).reshape(-1, 1))"
   ]
  },
  {
   "cell_type": "code",
   "execution_count": 241,
   "metadata": {},
   "outputs": [],
   "source": [
    "df['missing_' + col] = mask_missing_mi\n",
    "df[col] = mi_mean_imputed"
   ]
  },
  {
   "cell_type": "code",
   "execution_count": 242,
   "metadata": {},
   "outputs": [
    {
     "name": "stdout",
     "output_type": "stream",
     "text": [
      "<class 'pandas.core.frame.DataFrame'>\n",
      "Int64Index: 2229246 entries, 0 to 2229318\n",
      "Data columns (total 31 columns):\n",
      " #   Column                                        Dtype  \n",
      "---  ------                                        -----  \n",
      " 0   Unnamed: 0                                    int64  \n",
      " 1   credit_score                                  float64\n",
      " 2   first_time_homebuyer_flag                     object \n",
      " 3   mortgage_insurance_percentage_(mi_%)          float64\n",
      " 4   number_of_units                               int64  \n",
      " 5   occupancy_status                              object \n",
      " 6   original_combined_loan-to-value_(cltv)        int64  \n",
      " 7   original_debt-to-income_(dti)_ratio           int64  \n",
      " 8   original_upb                                  int64  \n",
      " 9   original_loan-to-value_(ltv)                  int64  \n",
      " 10  original_interest_rate                        float64\n",
      " 11  channel                                       object \n",
      " 12  prepayment_penalty_mortgage_(ppm)_flag        object \n",
      " 13  amortization_type                             object \n",
      " 14  property_state                                object \n",
      " 15  property_type                                 object \n",
      " 16  postal_code                                   int64  \n",
      " 17  loan_sequence_number                          object \n",
      " 18  loan_purpose                                  object \n",
      " 19  original_loan_term                            int64  \n",
      " 20  number_of_borrowers                           int64  \n",
      " 21  seller_name                                   object \n",
      " 22  servicer_name                                 object \n",
      " 23  program_indicator                             object \n",
      " 24  property_valuation_method                     int64  \n",
      " 25  interest_only_indicator_(i/o_indicator)       object \n",
      " 26  target                                        float64\n",
      " 27  missing_credit_score                          bool   \n",
      " 28  first_payment_date_year                       int64  \n",
      " 29  first_payment_date_month                      int64  \n",
      " 30  missing_mortgage_insurance_percentage_(mi_%)  bool   \n",
      "dtypes: bool(2), float64(4), int64(12), object(13)\n",
      "memory usage: 514.5+ MB\n"
     ]
    }
   ],
   "source": [
    "df.info()"
   ]
  },
  {
   "cell_type": "code",
   "execution_count": 243,
   "metadata": {},
   "outputs": [],
   "source": [
    "df.drop('Unnamed: 0', axis=1, inplace=True)"
   ]
  },
  {
   "cell_type": "code",
   "execution_count": 244,
   "metadata": {},
   "outputs": [],
   "source": [
    "dict_ = {'number_of_units': {'missing_value': 99, 'strategy':'mean'}\n",
    "        , 'occupancy_status': {'missing_value': 'Unknown', 'strategy':'most_frequent'}\n",
    "        , 'original_combined_loan-to-value_(cltv)': {'missing_value': 999, 'strategy':'mean'}\n",
    "        , 'original_debt-to-income_(dti)_ratio': {'missing_value': 999, 'strategy':'mean'}\n",
    "        , 'original_loan-to-value_(ltv)': {'missing_value': 999, 'strategy':'mean'}\n",
    "        , 'channel': {'missing_value': '9', 'strategy':'most_frequent'}\n",
    "        , 'property_type': {'missing_value': 'Unknown', 'strategy':'most_frequent'}\n",
    "        , 'loan_purpose': {'missing_value': '9', 'strategy':'most_frequent'}\n",
    "        , 'number_of_borrowers': {'missing_value': 99, 'strategy':'mean'}}\n",
    "\n",
    "\n",
    "    "
   ]
  },
  {
   "cell_type": "code",
   "execution_count": 245,
   "metadata": {},
   "outputs": [
    {
     "data": {
      "text/html": [
       "<div>\n",
       "<style scoped>\n",
       "    .dataframe tbody tr th:only-of-type {\n",
       "        vertical-align: middle;\n",
       "    }\n",
       "\n",
       "    .dataframe tbody tr th {\n",
       "        vertical-align: top;\n",
       "    }\n",
       "\n",
       "    .dataframe thead th {\n",
       "        text-align: right;\n",
       "    }\n",
       "</style>\n",
       "<table border=\"1\" class=\"dataframe\">\n",
       "  <thead>\n",
       "    <tr style=\"text-align: right;\">\n",
       "      <th></th>\n",
       "      <th>number_of_units</th>\n",
       "      <th>occupancy_status</th>\n",
       "      <th>original_combined_loan-to-value_(cltv)</th>\n",
       "      <th>original_debt-to-income_(dti)_ratio</th>\n",
       "      <th>original_loan-to-value_(ltv)</th>\n",
       "      <th>channel</th>\n",
       "      <th>property_type</th>\n",
       "      <th>loan_purpose</th>\n",
       "      <th>number_of_borrowers</th>\n",
       "    </tr>\n",
       "  </thead>\n",
       "  <tbody>\n",
       "    <tr>\n",
       "      <th>0</th>\n",
       "      <td>1</td>\n",
       "      <td>P</td>\n",
       "      <td>103</td>\n",
       "      <td>39</td>\n",
       "      <td>103</td>\n",
       "      <td>R</td>\n",
       "      <td>SF</td>\n",
       "      <td>P</td>\n",
       "      <td>1</td>\n",
       "    </tr>\n",
       "    <tr>\n",
       "      <th>1</th>\n",
       "      <td>1</td>\n",
       "      <td>P</td>\n",
       "      <td>85</td>\n",
       "      <td>49</td>\n",
       "      <td>80</td>\n",
       "      <td>R</td>\n",
       "      <td>SF</td>\n",
       "      <td>N</td>\n",
       "      <td>2</td>\n",
       "    </tr>\n",
       "    <tr>\n",
       "      <th>2</th>\n",
       "      <td>1</td>\n",
       "      <td>P</td>\n",
       "      <td>97</td>\n",
       "      <td>38</td>\n",
       "      <td>55</td>\n",
       "      <td>R</td>\n",
       "      <td>SF</td>\n",
       "      <td>P</td>\n",
       "      <td>1</td>\n",
       "    </tr>\n",
       "    <tr>\n",
       "      <th>3</th>\n",
       "      <td>1</td>\n",
       "      <td>P</td>\n",
       "      <td>97</td>\n",
       "      <td>32</td>\n",
       "      <td>97</td>\n",
       "      <td>R</td>\n",
       "      <td>PU</td>\n",
       "      <td>P</td>\n",
       "      <td>1</td>\n",
       "    </tr>\n",
       "    <tr>\n",
       "      <th>4</th>\n",
       "      <td>1</td>\n",
       "      <td>P</td>\n",
       "      <td>100</td>\n",
       "      <td>42</td>\n",
       "      <td>100</td>\n",
       "      <td>R</td>\n",
       "      <td>SF</td>\n",
       "      <td>P</td>\n",
       "      <td>1</td>\n",
       "    </tr>\n",
       "    <tr>\n",
       "      <th>...</th>\n",
       "      <td>...</td>\n",
       "      <td>...</td>\n",
       "      <td>...</td>\n",
       "      <td>...</td>\n",
       "      <td>...</td>\n",
       "      <td>...</td>\n",
       "      <td>...</td>\n",
       "      <td>...</td>\n",
       "      <td>...</td>\n",
       "    </tr>\n",
       "    <tr>\n",
       "      <th>2229314</th>\n",
       "      <td>1</td>\n",
       "      <td>P</td>\n",
       "      <td>47</td>\n",
       "      <td>55</td>\n",
       "      <td>47</td>\n",
       "      <td>R</td>\n",
       "      <td>MH</td>\n",
       "      <td>N</td>\n",
       "      <td>2</td>\n",
       "    </tr>\n",
       "    <tr>\n",
       "      <th>2229315</th>\n",
       "      <td>1</td>\n",
       "      <td>P</td>\n",
       "      <td>97</td>\n",
       "      <td>35</td>\n",
       "      <td>97</td>\n",
       "      <td>R</td>\n",
       "      <td>SF</td>\n",
       "      <td>P</td>\n",
       "      <td>1</td>\n",
       "    </tr>\n",
       "    <tr>\n",
       "      <th>2229316</th>\n",
       "      <td>1</td>\n",
       "      <td>P</td>\n",
       "      <td>97</td>\n",
       "      <td>43</td>\n",
       "      <td>97</td>\n",
       "      <td>R</td>\n",
       "      <td>SF</td>\n",
       "      <td>P</td>\n",
       "      <td>1</td>\n",
       "    </tr>\n",
       "    <tr>\n",
       "      <th>2229317</th>\n",
       "      <td>1</td>\n",
       "      <td>P</td>\n",
       "      <td>77</td>\n",
       "      <td>41</td>\n",
       "      <td>77</td>\n",
       "      <td>R</td>\n",
       "      <td>SF</td>\n",
       "      <td>N</td>\n",
       "      <td>2</td>\n",
       "    </tr>\n",
       "    <tr>\n",
       "      <th>2229318</th>\n",
       "      <td>1</td>\n",
       "      <td>P</td>\n",
       "      <td>80</td>\n",
       "      <td>31</td>\n",
       "      <td>80</td>\n",
       "      <td>R</td>\n",
       "      <td>PU</td>\n",
       "      <td>C</td>\n",
       "      <td>1</td>\n",
       "    </tr>\n",
       "  </tbody>\n",
       "</table>\n",
       "<p>2229246 rows × 9 columns</p>\n",
       "</div>"
      ],
      "text/plain": [
       "         number_of_units occupancy_status  \\\n",
       "0                      1                P   \n",
       "1                      1                P   \n",
       "2                      1                P   \n",
       "3                      1                P   \n",
       "4                      1                P   \n",
       "...                  ...              ...   \n",
       "2229314                1                P   \n",
       "2229315                1                P   \n",
       "2229316                1                P   \n",
       "2229317                1                P   \n",
       "2229318                1                P   \n",
       "\n",
       "         original_combined_loan-to-value_(cltv)  \\\n",
       "0                                           103   \n",
       "1                                            85   \n",
       "2                                            97   \n",
       "3                                            97   \n",
       "4                                           100   \n",
       "...                                         ...   \n",
       "2229314                                      47   \n",
       "2229315                                      97   \n",
       "2229316                                      97   \n",
       "2229317                                      77   \n",
       "2229318                                      80   \n",
       "\n",
       "         original_debt-to-income_(dti)_ratio  original_loan-to-value_(ltv)  \\\n",
       "0                                         39                           103   \n",
       "1                                         49                            80   \n",
       "2                                         38                            55   \n",
       "3                                         32                            97   \n",
       "4                                         42                           100   \n",
       "...                                      ...                           ...   \n",
       "2229314                                   55                            47   \n",
       "2229315                                   35                            97   \n",
       "2229316                                   43                            97   \n",
       "2229317                                   41                            77   \n",
       "2229318                                   31                            80   \n",
       "\n",
       "        channel property_type loan_purpose  number_of_borrowers  \n",
       "0             R            SF            P                    1  \n",
       "1             R            SF            N                    2  \n",
       "2             R            SF            P                    1  \n",
       "3             R            PU            P                    1  \n",
       "4             R            SF            P                    1  \n",
       "...         ...           ...          ...                  ...  \n",
       "2229314       R            MH            N                    2  \n",
       "2229315       R            SF            P                    1  \n",
       "2229316       R            SF            P                    1  \n",
       "2229317       R            SF            N                    2  \n",
       "2229318       R            PU            C                    1  \n",
       "\n",
       "[2229246 rows x 9 columns]"
      ]
     },
     "execution_count": 245,
     "metadata": {},
     "output_type": "execute_result"
    }
   ],
   "source": [
    "df[dict_.keys()]"
   ]
  },
  {
   "cell_type": "code",
   "execution_count": 246,
   "metadata": {
    "code_folding": [
     14,
     19
    ],
    "scrolled": true
   },
   "outputs": [
    {
     "name": "stdout",
     "output_type": "stream",
     "text": [
      "number_of_units {'missing_value': 99, 'strategy': 'mean'}\n",
      "occupancy_status {'missing_value': 'Unknown', 'strategy': 'most_frequent'}\n"
     ]
    },
    {
     "name": "stderr",
     "output_type": "stream",
     "text": [
      "/home/austin/anaconda3/envs/dsienv/lib/python3.7/site-packages/ipykernel_launcher.py:16: DeprecationWarning: The truth value of an empty array is ambiguous. Returning False, but in future this will result in an error. Use `array.size > 0` to check that an array is not empty.\n",
      "  app.launch_new_instance()\n"
     ]
    },
    {
     "name": "stdout",
     "output_type": "stream",
     "text": [
      "original_combined_loan-to-value_(cltv) {'missing_value': 999, 'strategy': 'mean'}\n",
      "original_debt-to-income_(dti)_ratio {'missing_value': 999, 'strategy': 'mean'}\n",
      "original_loan-to-value_(ltv) {'missing_value': 999, 'strategy': 'mean'}\n",
      "channel {'missing_value': '9', 'strategy': 'most_frequent'}\n",
      "property_type {'missing_value': 'Unknown', 'strategy': 'most_frequent'}\n",
      "loan_purpose {'missing_value': '9', 'strategy': 'most_frequent'}\n",
      "number_of_borrowers {'missing_value': 99, 'strategy': 'mean'}\n"
     ]
    },
    {
     "name": "stderr",
     "output_type": "stream",
     "text": [
      "/home/austin/anaconda3/envs/dsienv/lib/python3.7/site-packages/ipykernel_launcher.py:16: DeprecationWarning: The truth value of an empty array is ambiguous. Returning False, but in future this will result in an error. Use `array.size > 0` to check that an array is not empty.\n",
      "  app.launch_new_instance()\n"
     ]
    }
   ],
   "source": [
    "for col in dict_.keys():\n",
    "    kwargs = dict_[col]\n",
    "    missing_val = kwargs['missing_value']\n",
    "    strategy = kwargs['strategy']\n",
    "    print(col, kwargs)\n",
    "\n",
    "    imp = SimpleImputer(missing_values=missing_val, strategy=strategy)\n",
    "    imp.fit(np.array(df[col].sample(10_000)).reshape(-1, 1))\n",
    "    \n",
    "    indicator = MissingIndicator(missing_values=missing_val)\n",
    "    \n",
    "    mask_missing = indicator.fit_transform(np.array(df[col]).reshape(-1, 1))\n",
    "    imputed = imp.transform(np.array(df[col]).reshape(-1, 1))\n",
    "    \n",
    "    try:\n",
    "        if mask_missing:\n",
    "            df['mask_missing_' + col] = mask_missing\n",
    "        else:\n",
    "            df['mask_missing_' + col] = np.zeros(df.shape[0])\n",
    "    except ValueError:\n",
    "        df['mask_missing_' + col] = np.zeros(df.shape[0])\n",
    "    df[col + '_' + strategy + '_imputed'] = imputed"
   ]
  },
  {
   "cell_type": "code",
   "execution_count": 247,
   "metadata": {},
   "outputs": [],
   "source": [
    "df.drop(labels=dict_.keys(), axis=1, inplace=True)"
   ]
  },
  {
   "cell_type": "code",
   "execution_count": 248,
   "metadata": {},
   "outputs": [
    {
     "name": "stdout",
     "output_type": "stream",
     "text": [
      "<class 'pandas.core.frame.DataFrame'>\n",
      "Int64Index: 2229246 entries, 0 to 2229318\n",
      "Data columns (total 39 columns):\n",
      " #   Column                                               Dtype  \n",
      "---  ------                                               -----  \n",
      " 0   credit_score                                         float64\n",
      " 1   first_time_homebuyer_flag                            object \n",
      " 2   mortgage_insurance_percentage_(mi_%)                 float64\n",
      " 3   original_upb                                         int64  \n",
      " 4   original_interest_rate                               float64\n",
      " 5   prepayment_penalty_mortgage_(ppm)_flag               object \n",
      " 6   amortization_type                                    object \n",
      " 7   property_state                                       object \n",
      " 8   postal_code                                          int64  \n",
      " 9   loan_sequence_number                                 object \n",
      " 10  original_loan_term                                   int64  \n",
      " 11  seller_name                                          object \n",
      " 12  servicer_name                                        object \n",
      " 13  program_indicator                                    object \n",
      " 14  property_valuation_method                            int64  \n",
      " 15  interest_only_indicator_(i/o_indicator)              object \n",
      " 16  target                                               float64\n",
      " 17  missing_credit_score                                 bool   \n",
      " 18  first_payment_date_year                              int64  \n",
      " 19  first_payment_date_month                             int64  \n",
      " 20  missing_mortgage_insurance_percentage_(mi_%)         bool   \n",
      " 21  mask_missing_number_of_units                         float64\n",
      " 22  number_of_units_mean_imputed                         float64\n",
      " 23  mask_missing_occupancy_status                        float64\n",
      " 24  occupancy_status_most_frequent_imputed               object \n",
      " 25  mask_missing_original_combined_loan-to-value_(cltv)  float64\n",
      " 26  original_combined_loan-to-value_(cltv)_mean_imputed  float64\n",
      " 27  mask_missing_original_debt-to-income_(dti)_ratio     float64\n",
      " 28  original_debt-to-income_(dti)_ratio_mean_imputed     float64\n",
      " 29  mask_missing_original_loan-to-value_(ltv)            float64\n",
      " 30  original_loan-to-value_(ltv)_mean_imputed            float64\n",
      " 31  mask_missing_channel                                 float64\n",
      " 32  channel_most_frequent_imputed                        object \n",
      " 33  mask_missing_property_type                           float64\n",
      " 34  property_type_most_frequent_imputed                  object \n",
      " 35  mask_missing_loan_purpose                            float64\n",
      " 36  loan_purpose_most_frequent_imputed                   object \n",
      " 37  mask_missing_number_of_borrowers                     float64\n",
      " 38  number_of_borrowers_mean_imputed                     float64\n",
      "dtypes: bool(2), float64(18), int64(6), object(13)\n",
      "memory usage: 650.5+ MB\n"
     ]
    }
   ],
   "source": [
    "df.info()"
   ]
  },
  {
   "cell_type": "code",
   "execution_count": 249,
   "metadata": {},
   "outputs": [],
   "source": [
    "dummy_cols = ['first_time_homebuyer_flag', 'prepayment_penalty_mortgage_(ppm)_flag'\n",
    "              , 'amortization_type', 'program_indicator', 'property_valuation_method'\n",
    "              , 'interest_only_indicator_(i/o_indicator)', 'occupancy_status_most_frequent_imputed'\n",
    "              , 'channel_most_frequent_imputed', 'property_type_most_frequent_imputed'\n",
    "              , 'loan_purpose_most_frequent_imputed']\n",
    "df = pd.get_dummies(df, columns=dummy_cols, drop_first=True, dummy_na=True)"
   ]
  },
  {
   "cell_type": "code",
   "execution_count": 250,
   "metadata": {},
   "outputs": [],
   "source": [
    "df.drop(labels=['property_state', 'postal_code', 'loan_sequence_number', 'seller_name', 'servicer_name']\n",
    "        , axis=1, inplace=True) # cardinaltiy too high"
   ]
  },
  {
   "cell_type": "code",
   "execution_count": 251,
   "metadata": {},
   "outputs": [
    {
     "data": {
      "text/plain": [
       "(2229246, 51)"
      ]
     },
     "execution_count": 251,
     "metadata": {},
     "output_type": "execute_result"
    }
   ],
   "source": [
    "df.shape"
   ]
  },
  {
   "cell_type": "code",
   "execution_count": 252,
   "metadata": {},
   "outputs": [
    {
     "name": "stdout",
     "output_type": "stream",
     "text": [
      "<class 'pandas.core.frame.DataFrame'>\n",
      "Int64Index: 2229246 entries, 0 to 2229318\n",
      "Data columns (total 51 columns):\n",
      " #   Column                                               Dtype  \n",
      "---  ------                                               -----  \n",
      " 0   credit_score                                         float64\n",
      " 1   mortgage_insurance_percentage_(mi_%)                 float64\n",
      " 2   original_upb                                         int64  \n",
      " 3   original_interest_rate                               float64\n",
      " 4   original_loan_term                                   int64  \n",
      " 5   target                                               float64\n",
      " 6   missing_credit_score                                 bool   \n",
      " 7   first_payment_date_year                              int64  \n",
      " 8   first_payment_date_month                             int64  \n",
      " 9   missing_mortgage_insurance_percentage_(mi_%)         bool   \n",
      " 10  mask_missing_number_of_units                         float64\n",
      " 11  number_of_units_mean_imputed                         float64\n",
      " 12  mask_missing_occupancy_status                        float64\n",
      " 13  mask_missing_original_combined_loan-to-value_(cltv)  float64\n",
      " 14  original_combined_loan-to-value_(cltv)_mean_imputed  float64\n",
      " 15  mask_missing_original_debt-to-income_(dti)_ratio     float64\n",
      " 16  original_debt-to-income_(dti)_ratio_mean_imputed     float64\n",
      " 17  mask_missing_original_loan-to-value_(ltv)            float64\n",
      " 18  original_loan-to-value_(ltv)_mean_imputed            float64\n",
      " 19  mask_missing_channel                                 float64\n",
      " 20  mask_missing_property_type                           float64\n",
      " 21  mask_missing_loan_purpose                            float64\n",
      " 22  mask_missing_number_of_borrowers                     float64\n",
      " 23  number_of_borrowers_mean_imputed                     float64\n",
      " 24  first_time_homebuyer_flag_Unknown                    uint8  \n",
      " 25  first_time_homebuyer_flag_Y                          uint8  \n",
      " 26  first_time_homebuyer_flag_nan                        uint8  \n",
      " 27  prepayment_penalty_mortgage_(ppm)_flag_Y             uint8  \n",
      " 28  prepayment_penalty_mortgage_(ppm)_flag_nan           uint8  \n",
      " 29  amortization_type_FRM                                uint8  \n",
      " 30  amortization_type_nan                                uint8  \n",
      " 31  program_indicator_Unknown                            uint8  \n",
      " 32  program_indicator_nan                                uint8  \n",
      " 33  property_valuation_method_nan                        uint8  \n",
      " 34  interest_only_indicator_(i/o_indicator)_Y            uint8  \n",
      " 35  interest_only_indicator_(i/o_indicator)_nan          uint8  \n",
      " 36  occupancy_status_most_frequent_imputed_P             uint8  \n",
      " 37  occupancy_status_most_frequent_imputed_S             uint8  \n",
      " 38  occupancy_status_most_frequent_imputed_nan           uint8  \n",
      " 39  channel_most_frequent_imputed_C                      uint8  \n",
      " 40  channel_most_frequent_imputed_R                      uint8  \n",
      " 41  channel_most_frequent_imputed_T                      uint8  \n",
      " 42  channel_most_frequent_imputed_nan                    uint8  \n",
      " 43  property_type_most_frequent_imputed_CP               uint8  \n",
      " 44  property_type_most_frequent_imputed_MH               uint8  \n",
      " 45  property_type_most_frequent_imputed_PU               uint8  \n",
      " 46  property_type_most_frequent_imputed_SF               uint8  \n",
      " 47  property_type_most_frequent_imputed_nan              uint8  \n",
      " 48  loan_purpose_most_frequent_imputed_N                 uint8  \n",
      " 49  loan_purpose_most_frequent_imputed_P                 uint8  \n",
      " 50  loan_purpose_most_frequent_imputed_nan               uint8  \n",
      "dtypes: bool(2), float64(18), int64(4), uint8(27)\n",
      "memory usage: 452.8 MB\n"
     ]
    }
   ],
   "source": [
    "df.info()"
   ]
  },
  {
   "cell_type": "code",
   "execution_count": 253,
   "metadata": {},
   "outputs": [
    {
     "data": {
      "text/plain": [
       "credit_score                                           0\n",
       "mortgage_insurance_percentage_(mi_%)                   0\n",
       "original_upb                                           0\n",
       "original_interest_rate                                 0\n",
       "original_loan_term                                     0\n",
       "target                                                 0\n",
       "missing_credit_score                                   0\n",
       "first_payment_date_year                                0\n",
       "first_payment_date_month                               0\n",
       "missing_mortgage_insurance_percentage_(mi_%)           0\n",
       "mask_missing_number_of_units                           0\n",
       "number_of_units_mean_imputed                           0\n",
       "mask_missing_occupancy_status                          0\n",
       "mask_missing_original_combined_loan-to-value_(cltv)    0\n",
       "original_combined_loan-to-value_(cltv)_mean_imputed    0\n",
       "mask_missing_original_debt-to-income_(dti)_ratio       0\n",
       "original_debt-to-income_(dti)_ratio_mean_imputed       0\n",
       "mask_missing_original_loan-to-value_(ltv)              0\n",
       "original_loan-to-value_(ltv)_mean_imputed              0\n",
       "mask_missing_channel                                   0\n",
       "mask_missing_property_type                             0\n",
       "mask_missing_loan_purpose                              0\n",
       "mask_missing_number_of_borrowers                       0\n",
       "number_of_borrowers_mean_imputed                       0\n",
       "first_time_homebuyer_flag_Unknown                      0\n",
       "first_time_homebuyer_flag_Y                            0\n",
       "first_time_homebuyer_flag_nan                          0\n",
       "prepayment_penalty_mortgage_(ppm)_flag_Y               0\n",
       "prepayment_penalty_mortgage_(ppm)_flag_nan             0\n",
       "amortization_type_FRM                                  0\n",
       "amortization_type_nan                                  0\n",
       "program_indicator_Unknown                              0\n",
       "program_indicator_nan                                  0\n",
       "property_valuation_method_nan                          0\n",
       "interest_only_indicator_(i/o_indicator)_Y              0\n",
       "interest_only_indicator_(i/o_indicator)_nan            0\n",
       "occupancy_status_most_frequent_imputed_P               0\n",
       "occupancy_status_most_frequent_imputed_S               0\n",
       "occupancy_status_most_frequent_imputed_nan             0\n",
       "channel_most_frequent_imputed_C                        0\n",
       "channel_most_frequent_imputed_R                        0\n",
       "channel_most_frequent_imputed_T                        0\n",
       "channel_most_frequent_imputed_nan                      0\n",
       "property_type_most_frequent_imputed_CP                 0\n",
       "property_type_most_frequent_imputed_MH                 0\n",
       "property_type_most_frequent_imputed_PU                 0\n",
       "property_type_most_frequent_imputed_SF                 0\n",
       "property_type_most_frequent_imputed_nan                0\n",
       "loan_purpose_most_frequent_imputed_N                   0\n",
       "loan_purpose_most_frequent_imputed_P                   0\n",
       "loan_purpose_most_frequent_imputed_nan                 0\n",
       "dtype: int64"
      ]
     },
     "execution_count": 253,
     "metadata": {},
     "output_type": "execute_result"
    }
   ],
   "source": [
    "df.isnull().sum()"
   ]
  },
  {
   "cell_type": "code",
   "execution_count": 254,
   "metadata": {},
   "outputs": [],
   "source": [
    "df.to_csv('../data/df_preprocessed_freddie_mac_2005.csv')"
   ]
  }
 ],
 "metadata": {
  "kernelspec": {
   "display_name": "Python 3",
   "language": "python",
   "name": "python3"
  },
  "language_info": {
   "codemirror_mode": {
    "name": "ipython",
    "version": 3
   },
   "file_extension": ".py",
   "mimetype": "text/x-python",
   "name": "python",
   "nbconvert_exporter": "python",
   "pygments_lexer": "ipython3",
   "version": "3.7.10"
  }
 },
 "nbformat": 4,
 "nbformat_minor": 4
}
