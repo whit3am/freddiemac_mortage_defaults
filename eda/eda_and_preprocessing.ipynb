{
 "cells": [
  {
   "cell_type": "code",
   "execution_count": 114,
   "metadata": {},
   "outputs": [],
   "source": [
    "import numpy as np\n",
    "import pandas as pd\n",
    "import matplotlib.pyplot as plt\n",
    "\n",
    "from sklearn.impute import SimpleImputer, MissingIndicator\n",
    "\n",
    "from tqdm import tqdm\n",
    "\n",
    "plt.style.use('ggplot')"
   ]
  },
  {
   "cell_type": "code",
   "execution_count": 115,
   "metadata": {
    "scrolled": true
   },
   "outputs": [
    {
     "name": "stderr",
     "output_type": "stream",
     "text": [
      "/home/austin/anaconda3/lib/python3.8/site-packages/IPython/core/interactiveshell.py:3146: DtypeWarning: Columns (28) have mixed types.Specify dtype option on import or set low_memory=False.\n",
      "  has_raised = await self.run_ast_nodes(code_ast.body, cell_name,\n"
     ]
    }
   ],
   "source": [
    "df = pd.read_csv('../data/df_freddie_mac.csv')"
   ]
  },
  {
   "cell_type": "code",
   "execution_count": 116,
   "metadata": {
    "scrolled": true
   },
   "outputs": [
    {
     "data": {
      "text/html": [
       "<div>\n",
       "<style scoped>\n",
       "    .dataframe tbody tr th:only-of-type {\n",
       "        vertical-align: middle;\n",
       "    }\n",
       "\n",
       "    .dataframe tbody tr th {\n",
       "        vertical-align: top;\n",
       "    }\n",
       "\n",
       "    .dataframe thead th {\n",
       "        text-align: right;\n",
       "    }\n",
       "</style>\n",
       "<table border=\"1\" class=\"dataframe\">\n",
       "  <thead>\n",
       "    <tr style=\"text-align: right;\">\n",
       "      <th></th>\n",
       "      <th>Unnamed: 0</th>\n",
       "      <th>credit_score</th>\n",
       "      <th>first_payment_date</th>\n",
       "      <th>first_time_homebuyer_flag</th>\n",
       "      <th>maturity_date</th>\n",
       "      <th>metropolitan_statistical_area_(msa)_or_metropolitan_division</th>\n",
       "      <th>mortgage_insurance_percentage_(mi_%)</th>\n",
       "      <th>number_of_units</th>\n",
       "      <th>occupancy_status</th>\n",
       "      <th>original_combined_loan-to-value_(cltv)</th>\n",
       "      <th>...</th>\n",
       "      <th>number_of_borrowers</th>\n",
       "      <th>seller_name</th>\n",
       "      <th>servicer_name</th>\n",
       "      <th>super_conforming_flag</th>\n",
       "      <th>pre-harp_loan_sequence_number</th>\n",
       "      <th>program_indicator</th>\n",
       "      <th>harp_indicator</th>\n",
       "      <th>property_valuation_method</th>\n",
       "      <th>interest_only_indicator_(i/o_indicator)</th>\n",
       "      <th>target</th>\n",
       "    </tr>\n",
       "  </thead>\n",
       "  <tbody>\n",
       "    <tr>\n",
       "      <th>0</th>\n",
       "      <td>0</td>\n",
       "      <td>801</td>\n",
       "      <td>200202</td>\n",
       "      <td>N</td>\n",
       "      <td>203101</td>\n",
       "      <td>NaN</td>\n",
       "      <td>0</td>\n",
       "      <td>1</td>\n",
       "      <td>P</td>\n",
       "      <td>63</td>\n",
       "      <td>...</td>\n",
       "      <td>2</td>\n",
       "      <td>Other sellers</td>\n",
       "      <td>Other servicers</td>\n",
       "      <td>NaN</td>\n",
       "      <td>NaN</td>\n",
       "      <td>9</td>\n",
       "      <td>NaN</td>\n",
       "      <td>9</td>\n",
       "      <td>N</td>\n",
       "      <td>0.0</td>\n",
       "    </tr>\n",
       "    <tr>\n",
       "      <th>1</th>\n",
       "      <td>1</td>\n",
       "      <td>776</td>\n",
       "      <td>200202</td>\n",
       "      <td>N</td>\n",
       "      <td>203101</td>\n",
       "      <td>NaN</td>\n",
       "      <td>0</td>\n",
       "      <td>1</td>\n",
       "      <td>P</td>\n",
       "      <td>77</td>\n",
       "      <td>...</td>\n",
       "      <td>2</td>\n",
       "      <td>Other sellers</td>\n",
       "      <td>Other servicers</td>\n",
       "      <td>NaN</td>\n",
       "      <td>NaN</td>\n",
       "      <td>9</td>\n",
       "      <td>NaN</td>\n",
       "      <td>9</td>\n",
       "      <td>N</td>\n",
       "      <td>0.0</td>\n",
       "    </tr>\n",
       "    <tr>\n",
       "      <th>2</th>\n",
       "      <td>2</td>\n",
       "      <td>754</td>\n",
       "      <td>200202</td>\n",
       "      <td>N</td>\n",
       "      <td>203012</td>\n",
       "      <td>38060.0</td>\n",
       "      <td>0</td>\n",
       "      <td>1</td>\n",
       "      <td>P</td>\n",
       "      <td>72</td>\n",
       "      <td>...</td>\n",
       "      <td>2</td>\n",
       "      <td>Other sellers</td>\n",
       "      <td>Other servicers</td>\n",
       "      <td>NaN</td>\n",
       "      <td>NaN</td>\n",
       "      <td>9</td>\n",
       "      <td>NaN</td>\n",
       "      <td>9</td>\n",
       "      <td>N</td>\n",
       "      <td>0.0</td>\n",
       "    </tr>\n",
       "    <tr>\n",
       "      <th>3</th>\n",
       "      <td>3</td>\n",
       "      <td>795</td>\n",
       "      <td>200203</td>\n",
       "      <td>N</td>\n",
       "      <td>203011</td>\n",
       "      <td>36780.0</td>\n",
       "      <td>0</td>\n",
       "      <td>1</td>\n",
       "      <td>P</td>\n",
       "      <td>74</td>\n",
       "      <td>...</td>\n",
       "      <td>2</td>\n",
       "      <td>Other sellers</td>\n",
       "      <td>Other servicers</td>\n",
       "      <td>NaN</td>\n",
       "      <td>NaN</td>\n",
       "      <td>9</td>\n",
       "      <td>NaN</td>\n",
       "      <td>9</td>\n",
       "      <td>N</td>\n",
       "      <td>0.0</td>\n",
       "    </tr>\n",
       "    <tr>\n",
       "      <th>4</th>\n",
       "      <td>4</td>\n",
       "      <td>716</td>\n",
       "      <td>200204</td>\n",
       "      <td>N</td>\n",
       "      <td>203011</td>\n",
       "      <td>NaN</td>\n",
       "      <td>0</td>\n",
       "      <td>1</td>\n",
       "      <td>P</td>\n",
       "      <td>61</td>\n",
       "      <td>...</td>\n",
       "      <td>2</td>\n",
       "      <td>Other sellers</td>\n",
       "      <td>Other servicers</td>\n",
       "      <td>NaN</td>\n",
       "      <td>NaN</td>\n",
       "      <td>9</td>\n",
       "      <td>NaN</td>\n",
       "      <td>9</td>\n",
       "      <td>N</td>\n",
       "      <td>0.0</td>\n",
       "    </tr>\n",
       "  </tbody>\n",
       "</table>\n",
       "<p>5 rows × 33 columns</p>\n",
       "</div>"
      ],
      "text/plain": [
       "   Unnamed: 0  credit_score  first_payment_date first_time_homebuyer_flag  \\\n",
       "0           0           801              200202                         N   \n",
       "1           1           776              200202                         N   \n",
       "2           2           754              200202                         N   \n",
       "3           3           795              200203                         N   \n",
       "4           4           716              200204                         N   \n",
       "\n",
       "   maturity_date  \\\n",
       "0         203101   \n",
       "1         203101   \n",
       "2         203012   \n",
       "3         203011   \n",
       "4         203011   \n",
       "\n",
       "   metropolitan_statistical_area_(msa)_or_metropolitan_division  \\\n",
       "0                                                NaN              \n",
       "1                                                NaN              \n",
       "2                                            38060.0              \n",
       "3                                            36780.0              \n",
       "4                                                NaN              \n",
       "\n",
       "   mortgage_insurance_percentage_(mi_%)  number_of_units occupancy_status  \\\n",
       "0                                     0                1                P   \n",
       "1                                     0                1                P   \n",
       "2                                     0                1                P   \n",
       "3                                     0                1                P   \n",
       "4                                     0                1                P   \n",
       "\n",
       "   original_combined_loan-to-value_(cltv)  ...  number_of_borrowers  \\\n",
       "0                                      63  ...                    2   \n",
       "1                                      77  ...                    2   \n",
       "2                                      72  ...                    2   \n",
       "3                                      74  ...                    2   \n",
       "4                                      61  ...                    2   \n",
       "\n",
       "     seller_name    servicer_name  super_conforming_flag  \\\n",
       "0  Other sellers  Other servicers                    NaN   \n",
       "1  Other sellers  Other servicers                    NaN   \n",
       "2  Other sellers  Other servicers                    NaN   \n",
       "3  Other sellers  Other servicers                    NaN   \n",
       "4  Other sellers  Other servicers                    NaN   \n",
       "\n",
       "  pre-harp_loan_sequence_number program_indicator harp_indicator  \\\n",
       "0                           NaN                 9            NaN   \n",
       "1                           NaN                 9            NaN   \n",
       "2                           NaN                 9            NaN   \n",
       "3                           NaN                 9            NaN   \n",
       "4                           NaN                 9            NaN   \n",
       "\n",
       "  property_valuation_method interest_only_indicator_(i/o_indicator)  target  \n",
       "0                         9                                       N     0.0  \n",
       "1                         9                                       N     0.0  \n",
       "2                         9                                       N     0.0  \n",
       "3                         9                                       N     0.0  \n",
       "4                         9                                       N     0.0  \n",
       "\n",
       "[5 rows x 33 columns]"
      ]
     },
     "execution_count": 116,
     "metadata": {},
     "output_type": "execute_result"
    }
   ],
   "source": [
    "df.head()"
   ]
  },
  {
   "cell_type": "code",
   "execution_count": 117,
   "metadata": {},
   "outputs": [
    {
     "name": "stdout",
     "output_type": "stream",
     "text": [
      "<class 'pandas.core.frame.DataFrame'>\n",
      "RangeIndex: 5991476 entries, 0 to 5991475\n",
      "Data columns (total 33 columns):\n",
      " #   Column                                                        Dtype  \n",
      "---  ------                                                        -----  \n",
      " 0   Unnamed: 0                                                    int64  \n",
      " 1   credit_score                                                  int64  \n",
      " 2   first_payment_date                                            int64  \n",
      " 3   first_time_homebuyer_flag                                     object \n",
      " 4   maturity_date                                                 int64  \n",
      " 5   metropolitan_statistical_area_(msa)_or_metropolitan_division  float64\n",
      " 6   mortgage_insurance_percentage_(mi_%)                          int64  \n",
      " 7   number_of_units                                               int64  \n",
      " 8   occupancy_status                                              object \n",
      " 9   original_combined_loan-to-value_(cltv)                        int64  \n",
      " 10  original_debt-to-income_(dti)_ratio                           int64  \n",
      " 11  original_upb                                                  int64  \n",
      " 12  original_loan-to-value_(ltv)                                  int64  \n",
      " 13  original_interest_rate                                        float64\n",
      " 14  channel                                                       object \n",
      " 15  prepayment_penalty_mortgage_(ppm)_flag                        object \n",
      " 16  amortization_type                                             object \n",
      " 17  property_state                                                object \n",
      " 18  property_type                                                 object \n",
      " 19  postal_code                                                   int64  \n",
      " 20  loan_sequence_number                                          object \n",
      " 21  loan_purpose                                                  object \n",
      " 22  original_loan_term                                            int64  \n",
      " 23  number_of_borrowers                                           int64  \n",
      " 24  seller_name                                                   object \n",
      " 25  servicer_name                                                 object \n",
      " 26  super_conforming_flag                                         float64\n",
      " 27  pre-harp_loan_sequence_number                                 float64\n",
      " 28  program_indicator                                             object \n",
      " 29  harp_indicator                                                float64\n",
      " 30  property_valuation_method                                     int64  \n",
      " 31  interest_only_indicator_(i/o_indicator)                       object \n",
      " 32  target                                                        float64\n",
      "dtypes: float64(6), int64(14), object(13)\n",
      "memory usage: 1.5+ GB\n"
     ]
    }
   ],
   "source": [
    "df.info()"
   ]
  },
  {
   "cell_type": "code",
   "execution_count": 118,
   "metadata": {},
   "outputs": [
    {
     "data": {
      "text/plain": [
       "N    3799343\n",
       "9    1571317\n",
       "Y     620816\n",
       "Name: first_time_homebuyer_flag, dtype: int64"
      ]
     },
     "execution_count": 118,
     "metadata": {},
     "output_type": "execute_result"
    }
   ],
   "source": [
    "df['first_time_homebuyer_flag'].value_counts()"
   ]
  },
  {
   "cell_type": "code",
   "execution_count": 119,
   "metadata": {
    "code_folding": []
   },
   "outputs": [
    {
     "data": {
      "text/plain": [
       "N          3799343\n",
       "Unknown    1571317\n",
       "Y           620816\n",
       "Name: first_time_homebuyer_flag, dtype: int64"
      ]
     },
     "execution_count": 119,
     "metadata": {},
     "output_type": "execute_result"
    }
   ],
   "source": [
    "first_time_homebuyer_map = {'N': 'N'\n",
    "                           , '9': 'Unknown'\n",
    "                           , 'Y': 'Y'}\n",
    "df['first_time_homebuyer_flag'] = df['first_time_homebuyer_flag'].map(first_time_homebuyer_map)\n",
    "df['first_time_homebuyer_flag'].value_counts()"
   ]
  },
  {
   "cell_type": "code",
   "execution_count": 120,
   "metadata": {},
   "outputs": [
    {
     "data": {
      "text/plain": [
       "P    5547822\n",
       "I     244697\n",
       "S     190413\n",
       "9       8544\n",
       "Name: occupancy_status, dtype: int64"
      ]
     },
     "execution_count": 120,
     "metadata": {},
     "output_type": "execute_result"
    }
   ],
   "source": [
    "df['occupancy_status'].value_counts()"
   ]
  },
  {
   "cell_type": "code",
   "execution_count": 121,
   "metadata": {},
   "outputs": [
    {
     "data": {
      "text/plain": [
       "P          5547822\n",
       "I           244697\n",
       "S           190413\n",
       "Unknown       8544\n",
       "Name: occupancy_status, dtype: int64"
      ]
     },
     "execution_count": 121,
     "metadata": {},
     "output_type": "execute_result"
    }
   ],
   "source": [
    "occupancy_status_map = {'P': 'P'\n",
    "                        , '9': 'Unknown'\n",
    "                        , 'I': 'I'\n",
    "                        , 'S': 'S'}\n",
    "occupancy_status = df['occupancy_status'].map(occupancy_status_map)\n",
    "occupancy_status.value_counts()"
   ]
  },
  {
   "cell_type": "code",
   "execution_count": 122,
   "metadata": {},
   "outputs": [],
   "source": [
    "df['occupancy_status'] = occupancy_status"
   ]
  },
  {
   "cell_type": "code",
   "execution_count": 123,
   "metadata": {},
   "outputs": [
    {
     "data": {
      "text/plain": [
       "T    2998655\n",
       "R    2985327\n",
       "C       2946\n",
       "B       2440\n",
       "9       2108\n",
       "Name: channel, dtype: int64"
      ]
     },
     "execution_count": 123,
     "metadata": {},
     "output_type": "execute_result"
    }
   ],
   "source": [
    "df['channel'].value_counts()"
   ]
  },
  {
   "cell_type": "code",
   "execution_count": 124,
   "metadata": {},
   "outputs": [
    {
     "data": {
      "text/plain": [
       "T          2998655\n",
       "R          2985327\n",
       "C             2946\n",
       "B             2440\n",
       "Unknown       2108\n",
       "Name: channel, dtype: int64"
      ]
     },
     "execution_count": 124,
     "metadata": {},
     "output_type": "execute_result"
    }
   ],
   "source": [
    "channel_map = {'T': 'T'\n",
    "               , 'R': 'R'\n",
    "               , 'C': 'C'\n",
    "               , 'B': 'B'\n",
    "               , '9': 'Unknown'}\n",
    "channel = df['channel'].map(channel_map)\n",
    "channel.value_counts()"
   ]
  },
  {
   "cell_type": "code",
   "execution_count": 125,
   "metadata": {},
   "outputs": [
    {
     "data": {
      "text/plain": [
       "N    5948328\n",
       "Y      43148\n",
       "Name: prepayment_penalty_mortgage_(ppm)_flag, dtype: int64"
      ]
     },
     "execution_count": 125,
     "metadata": {},
     "output_type": "execute_result"
    }
   ],
   "source": [
    "df['prepayment_penalty_mortgage_(ppm)_flag'].value_counts()"
   ]
  },
  {
   "cell_type": "code",
   "execution_count": 126,
   "metadata": {},
   "outputs": [
    {
     "data": {
      "text/plain": [
       "FRM    5723147\n",
       "ARM     268329\n",
       "Name: amortization_type, dtype: int64"
      ]
     },
     "execution_count": 126,
     "metadata": {},
     "output_type": "execute_result"
    }
   ],
   "source": [
    "df['amortization_type'].value_counts()"
   ]
  },
  {
   "cell_type": "code",
   "execution_count": 127,
   "metadata": {},
   "outputs": [
    {
     "data": {
      "text/plain": [
       "CA    691161\n",
       "FL    381862\n",
       "IL    336799\n",
       "MI    316179\n",
       "TX    292304\n",
       "OH    274687\n",
       "MN    207999\n",
       "NY    203844\n",
       "NC    201785\n",
       "GA    196787\n",
       "PA    179264\n",
       "CO    179225\n",
       "VA    169909\n",
       "AZ    164756\n",
       "NJ    157526\n",
       "IN    154656\n",
       "WI    152684\n",
       "WA    151252\n",
       "MO    142375\n",
       "MA    124442\n",
       "MD    118863\n",
       "OR    103643\n",
       "KY     95588\n",
       "SC     93499\n",
       "TN     84628\n",
       "IA     66363\n",
       "UT     63719\n",
       "AL     63658\n",
       "NV     60888\n",
       "CT     56835\n",
       "KS     53631\n",
       "OK     42629\n",
       "NE     36327\n",
       "ID     36129\n",
       "NH     33864\n",
       "NM     31645\n",
       "LA     31174\n",
       "PR     23174\n",
       "AR     22825\n",
       "ME     21126\n",
       "DE     19488\n",
       "VT     18944\n",
       "MT     18912\n",
       "WV     18507\n",
       "RI     17465\n",
       "MS     16272\n",
       "SD     13471\n",
       "HI     10429\n",
       "WY      9903\n",
       "DC      9895\n",
       "AK      9317\n",
       "ND      7995\n",
       "GU      1158\n",
       "VI        16\n",
       "Name: property_state, dtype: int64"
      ]
     },
     "execution_count": 127,
     "metadata": {},
     "output_type": "execute_result"
    }
   ],
   "source": [
    "df['property_state'].value_counts()"
   ]
  },
  {
   "cell_type": "code",
   "execution_count": 128,
   "metadata": {},
   "outputs": [
    {
     "data": {
      "text/plain": [
       "SF    4933461\n",
       "PU     610997\n",
       "CO     413097\n",
       "MH      28010\n",
       "CP       4812\n",
       "99       1099\n",
       "Name: property_type, dtype: int64"
      ]
     },
     "execution_count": 128,
     "metadata": {},
     "output_type": "execute_result"
    }
   ],
   "source": [
    "df['property_type'].value_counts()"
   ]
  },
  {
   "cell_type": "code",
   "execution_count": 129,
   "metadata": {},
   "outputs": [
    {
     "data": {
      "text/plain": [
       "SF         4933461\n",
       "PU          610997\n",
       "CO          413097\n",
       "MH           28010\n",
       "CP            4812\n",
       "Unknown       1099\n",
       "Name: property_type, dtype: int64"
      ]
     },
     "execution_count": 129,
     "metadata": {},
     "output_type": "execute_result"
    }
   ],
   "source": [
    "property_type_map = {'SF': 'SF'\n",
    "                     , 'PU': 'PU'\n",
    "                     , 'CO': 'CO'\n",
    "                     , 'MH': 'MH'\n",
    "                     , 'CP': 'CP'\n",
    "                     , '99': 'Unknown'}\n",
    "property_type = df['property_type'].map(property_type_map)\n",
    "property_type.value_counts()"
   ]
  },
  {
   "cell_type": "code",
   "execution_count": 130,
   "metadata": {},
   "outputs": [],
   "source": [
    "df['property_type'] = property_type"
   ]
  },
  {
   "cell_type": "code",
   "execution_count": 131,
   "metadata": {},
   "outputs": [
    {
     "data": {
      "text/plain": [
       "1"
      ]
     },
     "execution_count": 131,
     "metadata": {},
     "output_type": "execute_result"
    }
   ],
   "source": [
    "df['loan_sequence_number'].value_counts().max()"
   ]
  },
  {
   "cell_type": "code",
   "execution_count": 132,
   "metadata": {},
   "outputs": [
    {
     "data": {
      "text/plain": [
       "P    2653163\n",
       "N    1915111\n",
       "C    1414579\n",
       "9       8623\n",
       "Name: loan_purpose, dtype: int64"
      ]
     },
     "execution_count": 132,
     "metadata": {},
     "output_type": "execute_result"
    }
   ],
   "source": [
    "df['loan_purpose'].value_counts()"
   ]
  },
  {
   "cell_type": "code",
   "execution_count": 133,
   "metadata": {
    "scrolled": false
   },
   "outputs": [
    {
     "data": {
      "text/plain": [
       "Other sellers                                                   1343774\n",
       "WELLS FARGO HOME MORTGAGE, INC.                                 1026626\n",
       "ABN AMRO MORTGAGE GROUP, INC.                                    604674\n",
       "BANK OF AMERICA, N.A.                                            465277\n",
       "NORWEST MORTGAGE, INC.                                           384485\n",
       "PRINCIPAL RESIDENTIAL MORTGAGE, INC.                             234997\n",
       "FIFTH THIRD BANK                                                 170928\n",
       "COUNTRYWIDE HOME LOANS, INC.                                     159078\n",
       "NATIONAL CITY MORTGAGE CO.                                       148824\n",
       "CHASE MANHATTAN MORTGAGE CORPORATION                             139536\n",
       "FIRSTAR BANK, N.A.                                               119868\n",
       "SUNTRUST MORTGAGE, INC.                                          116106\n",
       "WASHINGTON MUTUAL BANK                                           108106\n",
       "NATIONAL CITY MORTGAGE COMPANY                                    94628\n",
       "FLAGSTAR BANK, FSB                                                88037\n",
       "GREENPOINT MORTGAGE FUNDING, INC                                  81691\n",
       "BRANCH BANKING & TRUST COMPANY                                    80495\n",
       "LASALLE BANK, FSB                                                 71999\n",
       "CENDANT MORTGAGE CORPORATION, DBA PHH MORTGAGE SERVICES, INC      64106\n",
       "NATIONSBANK, N.A.,DBA BANK OF AMERICA MORTGAGE                    58275\n",
       "FIRST UNION MORTGAGE CORPORATION                                  58176\n",
       "NATIONSBANK, N.A.                                                 57751\n",
       "PROVIDENT FUNDING ASSOCIATES, L.P.                                42688\n",
       "HSBC BANK USA                                                     40735\n",
       "FLEET MORTGAGE CORPORATION                                        28616\n",
       "GMAC MORTGAGE CORPORATION                                         28274\n",
       "GUARANTY BANK, SSB                                                22426\n",
       "DIME SAVINGS BANK OF NEW YORK, FSB                                21132\n",
       "GE CAPITAL MORTGAGE SERVICES, INC.                                18771\n",
       "SOUTHTRUST MORTGAGE CORPORATION                                   15920\n",
       "CRESCENT BANK & TRUST COMPANY DBA CRESCENT MORTGAGE               15369\n",
       "FT MORTGAGE COMPANIES                                             12727\n",
       "WITMER FUNDING, LLC                                               10865\n",
       "FIRST HORIZON HOME LOAN CORPORATION                                9601\n",
       "HSBC BANK                                                          9005\n",
       "HEADLANDS MORTGAGE COMPANY                                         6589\n",
       "MARINE MIDLAND BANK                                                6569\n",
       "MIDLAND MORTGAGE COMPANY                                           5921\n",
       "CHARTER ONE MORTGAGE CORPORATION                                   4343\n",
       "HOMESIDE LENDING, INC.                                             3972\n",
       "RESOURCE BANCSHARES MORTGAGE GROUP, INC.                           3702\n",
       "COLONIAL MORTGAGE COMPANY, INC.                                    2446\n",
       "CTX MORTGAGE                                                       2401\n",
       "REGIONS MORTGAGE, INC.                                             1967\n",
       "Name: seller_name, dtype: int64"
      ]
     },
     "execution_count": 133,
     "metadata": {},
     "output_type": "execute_result"
    }
   ],
   "source": [
    "df['seller_name'].value_counts()"
   ]
  },
  {
   "cell_type": "code",
   "execution_count": 134,
   "metadata": {},
   "outputs": [
    {
     "data": {
      "text/plain": [
       "Other servicers                                                 1253697\n",
       "WELLS FARGO HOME MORTGAGE, INC.                                 1082991\n",
       "BANK OF AMERICA, N.A.                                            708759\n",
       "ABN AMRO MORTGAGE GROUP, INC.                                    480626\n",
       "CHASE MANHATTAN MORTGAGE CORPORATION                             418318\n",
       "WELLS FARGO BANK, N.A.                                           316813\n",
       "WASHINGTON MUTUAL BANK                                           236607\n",
       "NATIONAL CITY MORTGAGE CO.                                       235774\n",
       "PRINCIPAL RESIDENTIAL MORTGAGE, INC.                             184002\n",
       "GMAC MORTGAGE CORPORATION                                        152636\n",
       "FIFTH THIRD BANK                                                 147931\n",
       "CITIMORTGAGE, INC.                                               143835\n",
       "COUNTRYWIDE HOME LOANS, INC.                                     143744\n",
       "BRANCH BANKING & TRUST COMPANY                                    89802\n",
       "SUNTRUST MORTGAGE, INC.                                           85075\n",
       "CHASE HOME FINANCE LLC                                            61215\n",
       "GREENPOINT MORTGAGE FUNDING, INC                                  49433\n",
       "PROVIDENT FUNDING ASSOCIATES, L.P.                                38747\n",
       "CENDANT MORTGAGE CORPORATION, DBA PHH MORTGAGE SERVICES, INC      34359\n",
       "FIRST HORIZON HOME LOAN CORPORATION                               21202\n",
       "HSBC BANK USA                                                     21169\n",
       "JPMORGAN CHASE BANK, N.A.                                         15819\n",
       "WASHINGTON MUTUAL BANK, F.A.                                      12070\n",
       "PRINCIPAL RESIDENTIAL MORTGAGE SERVICING, LLC                     10923\n",
       "U.S. BANK, N.A.                                                    9293\n",
       "U.S. BANK N.A.                                                     8477\n",
       "FIRST NATIONWIDE MORTGAGE CORPORATION                              8078\n",
       "HOMESIDE LENDING, INC.                                             5581\n",
       "FLAGSTAR BANK, FSB                                                 5103\n",
       "MIDLAND MORTGAGE COMPANY                                           4685\n",
       "DIME SAVINGS BANK OF NEW YORK, FSB                                 2163\n",
       "REGIONS MORTGAGE, INC.                                             1624\n",
       "FIRSTAR BANK, N.A.                                                  925\n",
       "Name: servicer_name, dtype: int64"
      ]
     },
     "execution_count": 134,
     "metadata": {},
     "output_type": "execute_result"
    }
   ],
   "source": [
    "df['servicer_name'].value_counts()"
   ]
  },
  {
   "cell_type": "code",
   "execution_count": 135,
   "metadata": {},
   "outputs": [
    {
     "data": {
      "text/plain": [
       "Other servicers                                                 1253697\n",
       "WELLS FARGO HOME MORTGAGE, INC.                                 1082991\n",
       "BANK OF AMERICA, N.A.                                            708759\n",
       "ABN AMRO MORTGAGE GROUP, INC.                                    480626\n",
       "CHASE MANHATTAN MORTGAGE CORPORATION                             418318\n",
       "WELLS FARGO BANK, N.A.                                           316813\n",
       "WASHINGTON MUTUAL BANK                                           236607\n",
       "NATIONAL CITY MORTGAGE CO.                                       235774\n",
       "PRINCIPAL RESIDENTIAL MORTGAGE, INC.                             184002\n",
       "GMAC MORTGAGE CORPORATION                                        152636\n",
       "FIFTH THIRD BANK                                                 147931\n",
       "CITIMORTGAGE, INC.                                               143835\n",
       "COUNTRYWIDE HOME LOANS, INC.                                     143744\n",
       "BRANCH BANKING & TRUST COMPANY                                    89802\n",
       "SUNTRUST MORTGAGE, INC.                                           85075\n",
       "CHASE HOME FINANCE LLC                                            61215\n",
       "GREENPOINT MORTGAGE FUNDING, INC                                  49433\n",
       "PROVIDENT FUNDING ASSOCIATES, L.P.                                38747\n",
       "CENDANT MORTGAGE CORPORATION, DBA PHH MORTGAGE SERVICES, INC      34359\n",
       "FIRST HORIZON HOME LOAN CORPORATION                               21202\n",
       "HSBC BANK USA                                                     21169\n",
       "U.S. BANK, N.A.                                                   17770\n",
       "JPMORGAN CHASE BANK, N.A.                                         15819\n",
       "WASHINGTON MUTUAL BANK, F.A.                                      12070\n",
       "PRINCIPAL RESIDENTIAL MORTGAGE SERVICING, LLC                     10923\n",
       "FIRST NATIONWIDE MORTGAGE CORPORATION                              8078\n",
       "HOMESIDE LENDING, INC.                                             5581\n",
       "FLAGSTAR BANK, FSB                                                 5103\n",
       "MIDLAND MORTGAGE COMPANY                                           4685\n",
       "DIME SAVINGS BANK OF NEW YORK, FSB                                 2163\n",
       "REGIONS MORTGAGE, INC.                                             1624\n",
       "FIRSTAR BANK, N.A.                                                  925\n",
       "Name: servicer_name, dtype: int64"
      ]
     },
     "execution_count": 135,
     "metadata": {},
     "output_type": "execute_result"
    }
   ],
   "source": [
    "servicer_name_map = {}\n",
    "for name in df['servicer_name'].value_counts().index.unique():\n",
    "    if name == 'U.S. BANK N.A.':\n",
    "        servicer_name_map[name] = 'U.S. BANK, N.A.'\n",
    "    else:\n",
    "        servicer_name_map[name] = name\n",
    "        \n",
    "servicer_name = df['servicer_name'].map(servicer_name_map)\n",
    "servicer_name.value_counts()"
   ]
  },
  {
   "cell_type": "code",
   "execution_count": 136,
   "metadata": {},
   "outputs": [],
   "source": [
    "df['servicer_name'] = servicer_name"
   ]
  },
  {
   "cell_type": "code",
   "execution_count": 137,
   "metadata": {},
   "outputs": [
    {
     "data": {
      "text/plain": [
       "9    4800512\n",
       "9    1190447\n",
       "H        517\n",
       "Name: program_indicator, dtype: int64"
      ]
     },
     "execution_count": 137,
     "metadata": {},
     "output_type": "execute_result"
    }
   ],
   "source": [
    "df['program_indicator'].value_counts()"
   ]
  },
  {
   "cell_type": "code",
   "execution_count": 138,
   "metadata": {},
   "outputs": [
    {
     "data": {
      "text/plain": [
       "Unknown    5990959\n",
       "H              517\n",
       "Name: program_indicator, dtype: int64"
      ]
     },
     "execution_count": 138,
     "metadata": {},
     "output_type": "execute_result"
    }
   ],
   "source": [
    "program_indicator_map = {9: 'Unknown'\n",
    "                        , '9': 'Unknown'\n",
    "                        , 'H': 'H'}\n",
    "        \n",
    "program_indicator = df['program_indicator'].map(program_indicator_map)\n",
    "program_indicator.value_counts()"
   ]
  },
  {
   "cell_type": "code",
   "execution_count": 139,
   "metadata": {},
   "outputs": [],
   "source": [
    "df['program_indicator'] = program_indicator"
   ]
  },
  {
   "cell_type": "code",
   "execution_count": 140,
   "metadata": {},
   "outputs": [
    {
     "data": {
      "text/plain": [
       "N    5991473\n",
       "Y          3\n",
       "Name: interest_only_indicator_(i/o_indicator), dtype: int64"
      ]
     },
     "execution_count": 140,
     "metadata": {},
     "output_type": "execute_result"
    }
   ],
   "source": [
    "df['interest_only_indicator_(i/o_indicator)'].value_counts()"
   ]
  },
  {
   "cell_type": "code",
   "execution_count": 141,
   "metadata": {},
   "outputs": [
    {
     "data": {
      "text/plain": [
       "Unnamed: 0                                                      0.000000\n",
       "credit_score                                                    0.000000\n",
       "first_payment_date                                              0.000000\n",
       "first_time_homebuyer_flag                                       0.000000\n",
       "maturity_date                                                   0.000000\n",
       "metropolitan_statistical_area_(msa)_or_metropolitan_division    0.476779\n",
       "mortgage_insurance_percentage_(mi_%)                            0.000000\n",
       "number_of_units                                                 0.000000\n",
       "occupancy_status                                                0.000000\n",
       "original_combined_loan-to-value_(cltv)                          0.000000\n",
       "original_debt-to-income_(dti)_ratio                             0.000000\n",
       "original_upb                                                    0.000000\n",
       "original_loan-to-value_(ltv)                                    0.000000\n",
       "original_interest_rate                                          0.000000\n",
       "channel                                                         0.000000\n",
       "prepayment_penalty_mortgage_(ppm)_flag                          0.000000\n",
       "amortization_type                                               0.000000\n",
       "property_state                                                  0.000000\n",
       "property_type                                                   0.000000\n",
       "postal_code                                                     0.000000\n",
       "loan_sequence_number                                            0.000000\n",
       "loan_purpose                                                    0.000000\n",
       "original_loan_term                                              0.000000\n",
       "number_of_borrowers                                             0.000000\n",
       "seller_name                                                     0.000000\n",
       "servicer_name                                                   0.000000\n",
       "super_conforming_flag                                           1.000000\n",
       "pre-harp_loan_sequence_number                                   1.000000\n",
       "program_indicator                                               0.000000\n",
       "harp_indicator                                                  1.000000\n",
       "property_valuation_method                                       0.000000\n",
       "interest_only_indicator_(i/o_indicator)                         0.000000\n",
       "target                                                          0.000030\n",
       "dtype: float64"
      ]
     },
     "execution_count": 141,
     "metadata": {},
     "output_type": "execute_result"
    }
   ],
   "source": [
    "df.isnull().sum()/df.shape[0]"
   ]
  },
  {
   "cell_type": "code",
   "execution_count": 142,
   "metadata": {},
   "outputs": [],
   "source": [
    "labels = ['pre-harp_loan_sequence_number', 'harp_indicator'\n",
    "         , 'super_conforming_flag', 'metropolitan_statistical_area_(msa)_or_metropolitan_division']\n",
    "df.drop(labels=labels, axis=1, inplace=True)"
   ]
  },
  {
   "cell_type": "code",
   "execution_count": 143,
   "metadata": {},
   "outputs": [],
   "source": [
    "df.dropna(subset=['target'], inplace=True)"
   ]
  },
  {
   "cell_type": "code",
   "execution_count": 144,
   "metadata": {},
   "outputs": [
    {
     "data": {
      "text/plain": [
       "Unnamed: 0                                 0.0\n",
       "credit_score                               0.0\n",
       "first_payment_date                         0.0\n",
       "first_time_homebuyer_flag                  0.0\n",
       "maturity_date                              0.0\n",
       "mortgage_insurance_percentage_(mi_%)       0.0\n",
       "number_of_units                            0.0\n",
       "occupancy_status                           0.0\n",
       "original_combined_loan-to-value_(cltv)     0.0\n",
       "original_debt-to-income_(dti)_ratio        0.0\n",
       "original_upb                               0.0\n",
       "original_loan-to-value_(ltv)               0.0\n",
       "original_interest_rate                     0.0\n",
       "channel                                    0.0\n",
       "prepayment_penalty_mortgage_(ppm)_flag     0.0\n",
       "amortization_type                          0.0\n",
       "property_state                             0.0\n",
       "property_type                              0.0\n",
       "postal_code                                0.0\n",
       "loan_sequence_number                       0.0\n",
       "loan_purpose                               0.0\n",
       "original_loan_term                         0.0\n",
       "number_of_borrowers                        0.0\n",
       "seller_name                                0.0\n",
       "servicer_name                              0.0\n",
       "program_indicator                          0.0\n",
       "property_valuation_method                  0.0\n",
       "interest_only_indicator_(i/o_indicator)    0.0\n",
       "target                                     0.0\n",
       "dtype: float64"
      ]
     },
     "execution_count": 144,
     "metadata": {},
     "output_type": "execute_result"
    }
   ],
   "source": [
    "df.isnull().sum()/df.shape[0]"
   ]
  },
  {
   "cell_type": "code",
   "execution_count": 145,
   "metadata": {},
   "outputs": [
    {
     "data": {
      "text/html": [
       "<div>\n",
       "<style scoped>\n",
       "    .dataframe tbody tr th:only-of-type {\n",
       "        vertical-align: middle;\n",
       "    }\n",
       "\n",
       "    .dataframe tbody tr th {\n",
       "        vertical-align: top;\n",
       "    }\n",
       "\n",
       "    .dataframe thead th {\n",
       "        text-align: right;\n",
       "    }\n",
       "</style>\n",
       "<table border=\"1\" class=\"dataframe\">\n",
       "  <thead>\n",
       "    <tr style=\"text-align: right;\">\n",
       "      <th></th>\n",
       "      <th>Unnamed: 0</th>\n",
       "      <th>credit_score</th>\n",
       "      <th>first_payment_date</th>\n",
       "      <th>maturity_date</th>\n",
       "      <th>mortgage_insurance_percentage_(mi_%)</th>\n",
       "      <th>number_of_units</th>\n",
       "      <th>original_combined_loan-to-value_(cltv)</th>\n",
       "      <th>original_debt-to-income_(dti)_ratio</th>\n",
       "      <th>original_upb</th>\n",
       "      <th>original_loan-to-value_(ltv)</th>\n",
       "      <th>original_interest_rate</th>\n",
       "      <th>postal_code</th>\n",
       "      <th>original_loan_term</th>\n",
       "      <th>number_of_borrowers</th>\n",
       "      <th>property_valuation_method</th>\n",
       "      <th>target</th>\n",
       "    </tr>\n",
       "  </thead>\n",
       "  <tbody>\n",
       "    <tr>\n",
       "      <th>count</th>\n",
       "      <td>5.991294e+06</td>\n",
       "      <td>5.991294e+06</td>\n",
       "      <td>5.991294e+06</td>\n",
       "      <td>5.991294e+06</td>\n",
       "      <td>5.991294e+06</td>\n",
       "      <td>5.991294e+06</td>\n",
       "      <td>5.991294e+06</td>\n",
       "      <td>5.991294e+06</td>\n",
       "      <td>5.991294e+06</td>\n",
       "      <td>5.991294e+06</td>\n",
       "      <td>5.991294e+06</td>\n",
       "      <td>5.991294e+06</td>\n",
       "      <td>5.991294e+06</td>\n",
       "      <td>5.991294e+06</td>\n",
       "      <td>5991294.0</td>\n",
       "      <td>5.991294e+06</td>\n",
       "    </tr>\n",
       "    <tr>\n",
       "      <th>mean</th>\n",
       "      <td>2.077777e+05</td>\n",
       "      <td>7.897567e+02</td>\n",
       "      <td>2.000472e+05</td>\n",
       "      <td>2.025930e+05</td>\n",
       "      <td>7.166120e+01</td>\n",
       "      <td>1.033193e+00</td>\n",
       "      <td>7.518439e+01</td>\n",
       "      <td>8.557874e+01</td>\n",
       "      <td>1.300426e+05</td>\n",
       "      <td>7.483373e+01</td>\n",
       "      <td>7.198174e+00</td>\n",
       "      <td>5.257954e+04</td>\n",
       "      <td>3.066553e+02</td>\n",
       "      <td>1.784436e+00</td>\n",
       "      <td>9.0</td>\n",
       "      <td>8.952841e-02</td>\n",
       "    </tr>\n",
       "    <tr>\n",
       "      <th>std</th>\n",
       "      <td>1.993797e+05</td>\n",
       "      <td>8.303318e+02</td>\n",
       "      <td>1.023623e+02</td>\n",
       "      <td>7.032023e+02</td>\n",
       "      <td>2.461848e+02</td>\n",
       "      <td>6.273808e-01</td>\n",
       "      <td>4.027103e+01</td>\n",
       "      <td>2.208458e+02</td>\n",
       "      <td>6.265705e+04</td>\n",
       "      <td>4.007959e+01</td>\n",
       "      <td>7.721498e-01</td>\n",
       "      <td>2.870343e+04</td>\n",
       "      <td>8.441195e+01</td>\n",
       "      <td>3.942738e+00</td>\n",
       "      <td>0.0</td>\n",
       "      <td>2.855050e-01</td>\n",
       "    </tr>\n",
       "    <tr>\n",
       "      <th>min</th>\n",
       "      <td>0.000000e+00</td>\n",
       "      <td>3.000000e+02</td>\n",
       "      <td>1.999010e+05</td>\n",
       "      <td>2.000040e+05</td>\n",
       "      <td>0.000000e+00</td>\n",
       "      <td>1.000000e+00</td>\n",
       "      <td>6.000000e+00</td>\n",
       "      <td>1.000000e+00</td>\n",
       "      <td>2.000000e+03</td>\n",
       "      <td>6.000000e+00</td>\n",
       "      <td>1.750000e+00</td>\n",
       "      <td>0.000000e+00</td>\n",
       "      <td>-1.000000e+00</td>\n",
       "      <td>1.000000e+00</td>\n",
       "      <td>9.0</td>\n",
       "      <td>0.000000e+00</td>\n",
       "    </tr>\n",
       "    <tr>\n",
       "      <th>25%</th>\n",
       "      <td>6.241000e+04</td>\n",
       "      <td>6.790000e+02</td>\n",
       "      <td>1.999110e+05</td>\n",
       "      <td>2.017020e+05</td>\n",
       "      <td>0.000000e+00</td>\n",
       "      <td>1.000000e+00</td>\n",
       "      <td>6.500000e+01</td>\n",
       "      <td>2.500000e+01</td>\n",
       "      <td>8.000000e+04</td>\n",
       "      <td>6.500000e+01</td>\n",
       "      <td>6.750000e+00</td>\n",
       "      <td>3.000000e+04</td>\n",
       "      <td>1.820000e+02</td>\n",
       "      <td>1.000000e+00</td>\n",
       "      <td>9.0</td>\n",
       "      <td>0.000000e+00</td>\n",
       "    </tr>\n",
       "    <tr>\n",
       "      <th>50%</th>\n",
       "      <td>1.332840e+05</td>\n",
       "      <td>7.240000e+02</td>\n",
       "      <td>2.001030e+05</td>\n",
       "      <td>2.030010e+05</td>\n",
       "      <td>0.000000e+00</td>\n",
       "      <td>1.000000e+00</td>\n",
       "      <td>7.900000e+01</td>\n",
       "      <td>3.300000e+01</td>\n",
       "      <td>1.200000e+05</td>\n",
       "      <td>7.900000e+01</td>\n",
       "      <td>7.000000e+00</td>\n",
       "      <td>4.930000e+04</td>\n",
       "      <td>3.600000e+02</td>\n",
       "      <td>2.000000e+00</td>\n",
       "      <td>9.0</td>\n",
       "      <td>0.000000e+00</td>\n",
       "    </tr>\n",
       "    <tr>\n",
       "      <th>75%</th>\n",
       "      <td>3.050280e+05</td>\n",
       "      <td>7.610000e+02</td>\n",
       "      <td>2.001100e+05</td>\n",
       "      <td>2.031050e+05</td>\n",
       "      <td>2.000000e+01</td>\n",
       "      <td>1.000000e+00</td>\n",
       "      <td>8.500000e+01</td>\n",
       "      <td>4.200000e+01</td>\n",
       "      <td>1.700000e+05</td>\n",
       "      <td>8.300000e+01</td>\n",
       "      <td>7.750000e+00</td>\n",
       "      <td>8.000000e+04</td>\n",
       "      <td>3.600000e+02</td>\n",
       "      <td>2.000000e+00</td>\n",
       "      <td>9.0</td>\n",
       "      <td>0.000000e+00</td>\n",
       "    </tr>\n",
       "    <tr>\n",
       "      <th>max</th>\n",
       "      <td>9.217240e+05</td>\n",
       "      <td>9.999000e+03</td>\n",
       "      <td>2.017070e+05</td>\n",
       "      <td>2.055050e+05</td>\n",
       "      <td>9.990000e+02</td>\n",
       "      <td>9.900000e+01</td>\n",
       "      <td>9.990000e+02</td>\n",
       "      <td>9.990000e+02</td>\n",
       "      <td>5.780000e+05</td>\n",
       "      <td>9.990000e+02</td>\n",
       "      <td>1.405000e+01</td>\n",
       "      <td>9.990000e+04</td>\n",
       "      <td>5.840000e+02</td>\n",
       "      <td>9.900000e+01</td>\n",
       "      <td>9.0</td>\n",
       "      <td>1.000000e+00</td>\n",
       "    </tr>\n",
       "  </tbody>\n",
       "</table>\n",
       "</div>"
      ],
      "text/plain": [
       "         Unnamed: 0  credit_score  first_payment_date  maturity_date  \\\n",
       "count  5.991294e+06  5.991294e+06        5.991294e+06   5.991294e+06   \n",
       "mean   2.077777e+05  7.897567e+02        2.000472e+05   2.025930e+05   \n",
       "std    1.993797e+05  8.303318e+02        1.023623e+02   7.032023e+02   \n",
       "min    0.000000e+00  3.000000e+02        1.999010e+05   2.000040e+05   \n",
       "25%    6.241000e+04  6.790000e+02        1.999110e+05   2.017020e+05   \n",
       "50%    1.332840e+05  7.240000e+02        2.001030e+05   2.030010e+05   \n",
       "75%    3.050280e+05  7.610000e+02        2.001100e+05   2.031050e+05   \n",
       "max    9.217240e+05  9.999000e+03        2.017070e+05   2.055050e+05   \n",
       "\n",
       "       mortgage_insurance_percentage_(mi_%)  number_of_units  \\\n",
       "count                          5.991294e+06     5.991294e+06   \n",
       "mean                           7.166120e+01     1.033193e+00   \n",
       "std                            2.461848e+02     6.273808e-01   \n",
       "min                            0.000000e+00     1.000000e+00   \n",
       "25%                            0.000000e+00     1.000000e+00   \n",
       "50%                            0.000000e+00     1.000000e+00   \n",
       "75%                            2.000000e+01     1.000000e+00   \n",
       "max                            9.990000e+02     9.900000e+01   \n",
       "\n",
       "       original_combined_loan-to-value_(cltv)  \\\n",
       "count                            5.991294e+06   \n",
       "mean                             7.518439e+01   \n",
       "std                              4.027103e+01   \n",
       "min                              6.000000e+00   \n",
       "25%                              6.500000e+01   \n",
       "50%                              7.900000e+01   \n",
       "75%                              8.500000e+01   \n",
       "max                              9.990000e+02   \n",
       "\n",
       "       original_debt-to-income_(dti)_ratio  original_upb  \\\n",
       "count                         5.991294e+06  5.991294e+06   \n",
       "mean                          8.557874e+01  1.300426e+05   \n",
       "std                           2.208458e+02  6.265705e+04   \n",
       "min                           1.000000e+00  2.000000e+03   \n",
       "25%                           2.500000e+01  8.000000e+04   \n",
       "50%                           3.300000e+01  1.200000e+05   \n",
       "75%                           4.200000e+01  1.700000e+05   \n",
       "max                           9.990000e+02  5.780000e+05   \n",
       "\n",
       "       original_loan-to-value_(ltv)  original_interest_rate   postal_code  \\\n",
       "count                  5.991294e+06            5.991294e+06  5.991294e+06   \n",
       "mean                   7.483373e+01            7.198174e+00  5.257954e+04   \n",
       "std                    4.007959e+01            7.721498e-01  2.870343e+04   \n",
       "min                    6.000000e+00            1.750000e+00  0.000000e+00   \n",
       "25%                    6.500000e+01            6.750000e+00  3.000000e+04   \n",
       "50%                    7.900000e+01            7.000000e+00  4.930000e+04   \n",
       "75%                    8.300000e+01            7.750000e+00  8.000000e+04   \n",
       "max                    9.990000e+02            1.405000e+01  9.990000e+04   \n",
       "\n",
       "       original_loan_term  number_of_borrowers  property_valuation_method  \\\n",
       "count        5.991294e+06         5.991294e+06                  5991294.0   \n",
       "mean         3.066553e+02         1.784436e+00                        9.0   \n",
       "std          8.441195e+01         3.942738e+00                        0.0   \n",
       "min         -1.000000e+00         1.000000e+00                        9.0   \n",
       "25%          1.820000e+02         1.000000e+00                        9.0   \n",
       "50%          3.600000e+02         2.000000e+00                        9.0   \n",
       "75%          3.600000e+02         2.000000e+00                        9.0   \n",
       "max          5.840000e+02         9.900000e+01                        9.0   \n",
       "\n",
       "             target  \n",
       "count  5.991294e+06  \n",
       "mean   8.952841e-02  \n",
       "std    2.855050e-01  \n",
       "min    0.000000e+00  \n",
       "25%    0.000000e+00  \n",
       "50%    0.000000e+00  \n",
       "75%    0.000000e+00  \n",
       "max    1.000000e+00  "
      ]
     },
     "execution_count": 145,
     "metadata": {},
     "output_type": "execute_result"
    }
   ],
   "source": [
    "df.describe()"
   ]
  },
  {
   "cell_type": "code",
   "execution_count": 146,
   "metadata": {},
   "outputs": [
    {
     "data": {
      "text/plain": [
       "<AxesSubplot:>"
      ]
     },
     "execution_count": 146,
     "metadata": {},
     "output_type": "execute_result"
    },
    {
     "data": {
      "image/png": "[encoded data removed]",
      "text/plain": [
       "<Figure size 432x288 with 1 Axes>"
      ]
     },
     "metadata": {},
     "output_type": "display_data"
    }
   ],
   "source": [
    "df['credit_score'].hist()"
   ]
  },
  {
   "cell_type": "code",
   "execution_count": 147,
   "metadata": {
    "scrolled": true
   },
   "outputs": [
    {
     "data": {
      "text/plain": [
       "0.10411944519536692"
      ]
     },
     "execution_count": 147,
     "metadata": {},
     "output_type": "execute_result"
    }
   ],
   "source": [
    "df[df['credit_score'] > 1000]['target'].sum()/df[df['credit_score'] > 1000]['target'].count()\n",
    "# percent postive when credit score > 1000"
   ]
  },
  {
   "cell_type": "code",
   "execution_count": 148,
   "metadata": {},
   "outputs": [
    {
     "data": {
      "text/plain": [
       "0.08941034340898556"
      ]
     },
     "execution_count": 148,
     "metadata": {},
     "output_type": "execute_result"
    }
   ],
   "source": [
    "df[df['credit_score'] <= 1000]['target'].sum()/df[df['credit_score'] <= 1000]['target'].count()\n",
    "# percent postive when credit score <= 1000"
   ]
  },
  {
   "cell_type": "code",
   "execution_count": 149,
   "metadata": {},
   "outputs": [
    {
     "data": {
      "text/plain": [
       "0.008026479755458504"
      ]
     },
     "execution_count": 149,
     "metadata": {},
     "output_type": "execute_result"
    }
   ],
   "source": [
    "df[df['credit_score'] > 1000]['target'].count() / df.shape[0]"
   ]
  },
  {
   "cell_type": "code",
   "execution_count": 150,
   "metadata": {},
   "outputs": [
    {
     "data": {
      "text/html": [
       "<div>\n",
       "<style scoped>\n",
       "    .dataframe tbody tr th:only-of-type {\n",
       "        vertical-align: middle;\n",
       "    }\n",
       "\n",
       "    .dataframe tbody tr th {\n",
       "        vertical-align: top;\n",
       "    }\n",
       "\n",
       "    .dataframe thead th {\n",
       "        text-align: right;\n",
       "    }\n",
       "</style>\n",
       "<table border=\"1\" class=\"dataframe\">\n",
       "  <thead>\n",
       "    <tr style=\"text-align: right;\">\n",
       "      <th></th>\n",
       "      <th>Unnamed: 0</th>\n",
       "      <th>credit_score</th>\n",
       "      <th>first_payment_date</th>\n",
       "      <th>first_time_homebuyer_flag</th>\n",
       "      <th>maturity_date</th>\n",
       "      <th>mortgage_insurance_percentage_(mi_%)</th>\n",
       "      <th>number_of_units</th>\n",
       "      <th>occupancy_status</th>\n",
       "      <th>original_combined_loan-to-value_(cltv)</th>\n",
       "      <th>original_debt-to-income_(dti)_ratio</th>\n",
       "      <th>...</th>\n",
       "      <th>loan_sequence_number</th>\n",
       "      <th>loan_purpose</th>\n",
       "      <th>original_loan_term</th>\n",
       "      <th>number_of_borrowers</th>\n",
       "      <th>seller_name</th>\n",
       "      <th>servicer_name</th>\n",
       "      <th>program_indicator</th>\n",
       "      <th>property_valuation_method</th>\n",
       "      <th>interest_only_indicator_(i/o_indicator)</th>\n",
       "      <th>target</th>\n",
       "    </tr>\n",
       "  </thead>\n",
       "  <tbody>\n",
       "    <tr>\n",
       "      <th>121</th>\n",
       "      <td>121</td>\n",
       "      <td>9999</td>\n",
       "      <td>200101</td>\n",
       "      <td>Unknown</td>\n",
       "      <td>203012</td>\n",
       "      <td>0</td>\n",
       "      <td>1</td>\n",
       "      <td>S</td>\n",
       "      <td>44</td>\n",
       "      <td>43</td>\n",
       "      <td>...</td>\n",
       "      <td>F00Q40000173</td>\n",
       "      <td>C</td>\n",
       "      <td>360</td>\n",
       "      <td>2</td>\n",
       "      <td>BANK OF AMERICA, N.A.</td>\n",
       "      <td>BANK OF AMERICA, N.A.</td>\n",
       "      <td>Unknown</td>\n",
       "      <td>9</td>\n",
       "      <td>N</td>\n",
       "      <td>0.0</td>\n",
       "    </tr>\n",
       "    <tr>\n",
       "      <th>475</th>\n",
       "      <td>475</td>\n",
       "      <td>9999</td>\n",
       "      <td>200101</td>\n",
       "      <td>N</td>\n",
       "      <td>203012</td>\n",
       "      <td>0</td>\n",
       "      <td>1</td>\n",
       "      <td>P</td>\n",
       "      <td>80</td>\n",
       "      <td>42</td>\n",
       "      <td>...</td>\n",
       "      <td>F00Q40000589</td>\n",
       "      <td>P</td>\n",
       "      <td>360</td>\n",
       "      <td>1</td>\n",
       "      <td>Other sellers</td>\n",
       "      <td>CHASE MANHATTAN MORTGAGE CORPORATION</td>\n",
       "      <td>Unknown</td>\n",
       "      <td>9</td>\n",
       "      <td>N</td>\n",
       "      <td>1.0</td>\n",
       "    </tr>\n",
       "    <tr>\n",
       "      <th>491</th>\n",
       "      <td>491</td>\n",
       "      <td>9999</td>\n",
       "      <td>200101</td>\n",
       "      <td>Y</td>\n",
       "      <td>203012</td>\n",
       "      <td>999</td>\n",
       "      <td>2</td>\n",
       "      <td>P</td>\n",
       "      <td>90</td>\n",
       "      <td>40</td>\n",
       "      <td>...</td>\n",
       "      <td>F00Q40000607</td>\n",
       "      <td>P</td>\n",
       "      <td>360</td>\n",
       "      <td>2</td>\n",
       "      <td>Other sellers</td>\n",
       "      <td>GMAC MORTGAGE CORPORATION</td>\n",
       "      <td>Unknown</td>\n",
       "      <td>9</td>\n",
       "      <td>N</td>\n",
       "      <td>1.0</td>\n",
       "    </tr>\n",
       "    <tr>\n",
       "      <th>668</th>\n",
       "      <td>668</td>\n",
       "      <td>9999</td>\n",
       "      <td>200012</td>\n",
       "      <td>N</td>\n",
       "      <td>201511</td>\n",
       "      <td>0</td>\n",
       "      <td>1</td>\n",
       "      <td>P</td>\n",
       "      <td>80</td>\n",
       "      <td>41</td>\n",
       "      <td>...</td>\n",
       "      <td>F00Q40000845</td>\n",
       "      <td>P</td>\n",
       "      <td>180</td>\n",
       "      <td>2</td>\n",
       "      <td>Other sellers</td>\n",
       "      <td>Other servicers</td>\n",
       "      <td>Unknown</td>\n",
       "      <td>9</td>\n",
       "      <td>N</td>\n",
       "      <td>0.0</td>\n",
       "    </tr>\n",
       "    <tr>\n",
       "      <th>724</th>\n",
       "      <td>724</td>\n",
       "      <td>9999</td>\n",
       "      <td>200101</td>\n",
       "      <td>Unknown</td>\n",
       "      <td>203012</td>\n",
       "      <td>0</td>\n",
       "      <td>2</td>\n",
       "      <td>S</td>\n",
       "      <td>79</td>\n",
       "      <td>25</td>\n",
       "      <td>...</td>\n",
       "      <td>F00Q40000901</td>\n",
       "      <td>P</td>\n",
       "      <td>360</td>\n",
       "      <td>2</td>\n",
       "      <td>WELLS FARGO HOME MORTGAGE, INC.</td>\n",
       "      <td>WELLS FARGO HOME MORTGAGE, INC.</td>\n",
       "      <td>Unknown</td>\n",
       "      <td>9</td>\n",
       "      <td>N</td>\n",
       "      <td>0.0</td>\n",
       "    </tr>\n",
       "    <tr>\n",
       "      <th>...</th>\n",
       "      <td>...</td>\n",
       "      <td>...</td>\n",
       "      <td>...</td>\n",
       "      <td>...</td>\n",
       "      <td>...</td>\n",
       "      <td>...</td>\n",
       "      <td>...</td>\n",
       "      <td>...</td>\n",
       "      <td>...</td>\n",
       "      <td>...</td>\n",
       "      <td>...</td>\n",
       "      <td>...</td>\n",
       "      <td>...</td>\n",
       "      <td>...</td>\n",
       "      <td>...</td>\n",
       "      <td>...</td>\n",
       "      <td>...</td>\n",
       "      <td>...</td>\n",
       "      <td>...</td>\n",
       "      <td>...</td>\n",
       "      <td>...</td>\n",
       "    </tr>\n",
       "    <tr>\n",
       "      <th>5989131</th>\n",
       "      <td>134968</td>\n",
       "      <td>9999</td>\n",
       "      <td>200106</td>\n",
       "      <td>N</td>\n",
       "      <td>203105</td>\n",
       "      <td>0</td>\n",
       "      <td>1</td>\n",
       "      <td>I</td>\n",
       "      <td>66</td>\n",
       "      <td>20</td>\n",
       "      <td>...</td>\n",
       "      <td>A01Q20020233</td>\n",
       "      <td>N</td>\n",
       "      <td>360</td>\n",
       "      <td>1</td>\n",
       "      <td>FIFTH THIRD BANK</td>\n",
       "      <td>FIFTH THIRD BANK</td>\n",
       "      <td>Unknown</td>\n",
       "      <td>9</td>\n",
       "      <td>N</td>\n",
       "      <td>1.0</td>\n",
       "    </tr>\n",
       "    <tr>\n",
       "      <th>5990449</th>\n",
       "      <td>136286</td>\n",
       "      <td>9999</td>\n",
       "      <td>200108</td>\n",
       "      <td>Unknown</td>\n",
       "      <td>203107</td>\n",
       "      <td>0</td>\n",
       "      <td>1</td>\n",
       "      <td>P</td>\n",
       "      <td>98</td>\n",
       "      <td>999</td>\n",
       "      <td>...</td>\n",
       "      <td>F01Q20745127</td>\n",
       "      <td>P</td>\n",
       "      <td>360</td>\n",
       "      <td>1</td>\n",
       "      <td>Other sellers</td>\n",
       "      <td>Other servicers</td>\n",
       "      <td>Unknown</td>\n",
       "      <td>9</td>\n",
       "      <td>N</td>\n",
       "      <td>0.0</td>\n",
       "    </tr>\n",
       "    <tr>\n",
       "      <th>5990869</th>\n",
       "      <td>136706</td>\n",
       "      <td>9999</td>\n",
       "      <td>200105</td>\n",
       "      <td>Unknown</td>\n",
       "      <td>201604</td>\n",
       "      <td>0</td>\n",
       "      <td>99</td>\n",
       "      <td>P</td>\n",
       "      <td>100</td>\n",
       "      <td>999</td>\n",
       "      <td>...</td>\n",
       "      <td>F01Q20745683</td>\n",
       "      <td>N</td>\n",
       "      <td>180</td>\n",
       "      <td>1</td>\n",
       "      <td>BANK OF AMERICA, N.A.</td>\n",
       "      <td>BANK OF AMERICA, N.A.</td>\n",
       "      <td>Unknown</td>\n",
       "      <td>9</td>\n",
       "      <td>N</td>\n",
       "      <td>1.0</td>\n",
       "    </tr>\n",
       "    <tr>\n",
       "      <th>5990925</th>\n",
       "      <td>136762</td>\n",
       "      <td>9999</td>\n",
       "      <td>200106</td>\n",
       "      <td>Unknown</td>\n",
       "      <td>203105</td>\n",
       "      <td>0</td>\n",
       "      <td>1</td>\n",
       "      <td>P</td>\n",
       "      <td>100</td>\n",
       "      <td>999</td>\n",
       "      <td>...</td>\n",
       "      <td>F01Q20745739</td>\n",
       "      <td>P</td>\n",
       "      <td>360</td>\n",
       "      <td>1</td>\n",
       "      <td>Other sellers</td>\n",
       "      <td>Other servicers</td>\n",
       "      <td>Unknown</td>\n",
       "      <td>9</td>\n",
       "      <td>N</td>\n",
       "      <td>1.0</td>\n",
       "    </tr>\n",
       "    <tr>\n",
       "      <th>5991188</th>\n",
       "      <td>137025</td>\n",
       "      <td>9999</td>\n",
       "      <td>200108</td>\n",
       "      <td>Unknown</td>\n",
       "      <td>203107</td>\n",
       "      <td>0</td>\n",
       "      <td>1</td>\n",
       "      <td>P</td>\n",
       "      <td>100</td>\n",
       "      <td>999</td>\n",
       "      <td>...</td>\n",
       "      <td>F01Q20746285</td>\n",
       "      <td>P</td>\n",
       "      <td>360</td>\n",
       "      <td>1</td>\n",
       "      <td>Other sellers</td>\n",
       "      <td>Other servicers</td>\n",
       "      <td>Unknown</td>\n",
       "      <td>9</td>\n",
       "      <td>N</td>\n",
       "      <td>0.0</td>\n",
       "    </tr>\n",
       "  </tbody>\n",
       "</table>\n",
       "<p>48089 rows × 29 columns</p>\n",
       "</div>"
      ],
      "text/plain": [
       "         Unnamed: 0  credit_score  first_payment_date  \\\n",
       "121             121          9999              200101   \n",
       "475             475          9999              200101   \n",
       "491             491          9999              200101   \n",
       "668             668          9999              200012   \n",
       "724             724          9999              200101   \n",
       "...             ...           ...                 ...   \n",
       "5989131      134968          9999              200106   \n",
       "5990449      136286          9999              200108   \n",
       "5990869      136706          9999              200105   \n",
       "5990925      136762          9999              200106   \n",
       "5991188      137025          9999              200108   \n",
       "\n",
       "        first_time_homebuyer_flag  maturity_date  \\\n",
       "121                       Unknown         203012   \n",
       "475                             N         203012   \n",
       "491                             Y         203012   \n",
       "668                             N         201511   \n",
       "724                       Unknown         203012   \n",
       "...                           ...            ...   \n",
       "5989131                         N         203105   \n",
       "5990449                   Unknown         203107   \n",
       "5990869                   Unknown         201604   \n",
       "5990925                   Unknown         203105   \n",
       "5991188                   Unknown         203107   \n",
       "\n",
       "         mortgage_insurance_percentage_(mi_%)  number_of_units  \\\n",
       "121                                         0                1   \n",
       "475                                         0                1   \n",
       "491                                       999                2   \n",
       "668                                         0                1   \n",
       "724                                         0                2   \n",
       "...                                       ...              ...   \n",
       "5989131                                     0                1   \n",
       "5990449                                     0                1   \n",
       "5990869                                     0               99   \n",
       "5990925                                     0                1   \n",
       "5991188                                     0                1   \n",
       "\n",
       "        occupancy_status  original_combined_loan-to-value_(cltv)  \\\n",
       "121                    S                                      44   \n",
       "475                    P                                      80   \n",
       "491                    P                                      90   \n",
       "668                    P                                      80   \n",
       "724                    S                                      79   \n",
       "...                  ...                                     ...   \n",
       "5989131                I                                      66   \n",
       "5990449                P                                      98   \n",
       "5990869                P                                     100   \n",
       "5990925                P                                     100   \n",
       "5991188                P                                     100   \n",
       "\n",
       "         original_debt-to-income_(dti)_ratio  ...  loan_sequence_number  \\\n",
       "121                                       43  ...          F00Q40000173   \n",
       "475                                       42  ...          F00Q40000589   \n",
       "491                                       40  ...          F00Q40000607   \n",
       "668                                       41  ...          F00Q40000845   \n",
       "724                                       25  ...          F00Q40000901   \n",
       "...                                      ...  ...                   ...   \n",
       "5989131                                   20  ...          A01Q20020233   \n",
       "5990449                                  999  ...          F01Q20745127   \n",
       "5990869                                  999  ...          F01Q20745683   \n",
       "5990925                                  999  ...          F01Q20745739   \n",
       "5991188                                  999  ...          F01Q20746285   \n",
       "\n",
       "         loan_purpose  original_loan_term number_of_borrowers  \\\n",
       "121                 C                 360                   2   \n",
       "475                 P                 360                   1   \n",
       "491                 P                 360                   2   \n",
       "668                 P                 180                   2   \n",
       "724                 P                 360                   2   \n",
       "...               ...                 ...                 ...   \n",
       "5989131             N                 360                   1   \n",
       "5990449             P                 360                   1   \n",
       "5990869             N                 180                   1   \n",
       "5990925             P                 360                   1   \n",
       "5991188             P                 360                   1   \n",
       "\n",
       "                             seller_name  \\\n",
       "121                BANK OF AMERICA, N.A.   \n",
       "475                        Other sellers   \n",
       "491                        Other sellers   \n",
       "668                        Other sellers   \n",
       "724      WELLS FARGO HOME MORTGAGE, INC.   \n",
       "...                                  ...   \n",
       "5989131                 FIFTH THIRD BANK   \n",
       "5990449                    Other sellers   \n",
       "5990869            BANK OF AMERICA, N.A.   \n",
       "5990925                    Other sellers   \n",
       "5991188                    Other sellers   \n",
       "\n",
       "                                servicer_name program_indicator  \\\n",
       "121                     BANK OF AMERICA, N.A.           Unknown   \n",
       "475      CHASE MANHATTAN MORTGAGE CORPORATION           Unknown   \n",
       "491                 GMAC MORTGAGE CORPORATION           Unknown   \n",
       "668                           Other servicers           Unknown   \n",
       "724           WELLS FARGO HOME MORTGAGE, INC.           Unknown   \n",
       "...                                       ...               ...   \n",
       "5989131                      FIFTH THIRD BANK           Unknown   \n",
       "5990449                       Other servicers           Unknown   \n",
       "5990869                 BANK OF AMERICA, N.A.           Unknown   \n",
       "5990925                       Other servicers           Unknown   \n",
       "5991188                       Other servicers           Unknown   \n",
       "\n",
       "        property_valuation_method  interest_only_indicator_(i/o_indicator)  \\\n",
       "121                             9                                        N   \n",
       "475                             9                                        N   \n",
       "491                             9                                        N   \n",
       "668                             9                                        N   \n",
       "724                             9                                        N   \n",
       "...                           ...                                      ...   \n",
       "5989131                         9                                        N   \n",
       "5990449                         9                                        N   \n",
       "5990869                         9                                        N   \n",
       "5990925                         9                                        N   \n",
       "5991188                         9                                        N   \n",
       "\n",
       "        target  \n",
       "121        0.0  \n",
       "475        1.0  \n",
       "491        1.0  \n",
       "668        0.0  \n",
       "724        0.0  \n",
       "...        ...  \n",
       "5989131    1.0  \n",
       "5990449    0.0  \n",
       "5990869    1.0  \n",
       "5990925    1.0  \n",
       "5991188    0.0  \n",
       "\n",
       "[48089 rows x 29 columns]"
      ]
     },
     "execution_count": 150,
     "metadata": {},
     "output_type": "execute_result"
    }
   ],
   "source": [
    "df[df['credit_score'] > 1000]"
   ]
  },
  {
   "cell_type": "code",
   "execution_count": 151,
   "metadata": {},
   "outputs": [],
   "source": [
    "imp = SimpleImputer(missing_values=9999, strategy='mean')\n",
    "imp.fit(np.array(df['credit_score']).reshape(-1, 1))\n",
    "indicator = MissingIndicator(missing_values=9999)\n",
    "mask_missing_cs = indicator.fit_transform(np.array(df['credit_score']).reshape(-1, 1))\n",
    "credit_score_mean_imputed = imp.transform(np.array(df['credit_score']).reshape(-1, 1))\n"
   ]
  },
  {
   "cell_type": "code",
   "execution_count": 152,
   "metadata": {},
   "outputs": [],
   "source": [
    "df['missing_credit_score'] = mask_missing_cs\n",
    "df['credit_score'] = credit_score_mean_imputed\n"
   ]
  },
  {
   "cell_type": "code",
   "execution_count": 153,
   "metadata": {},
   "outputs": [
    {
     "data": {
      "text/plain": [
       "850.0"
      ]
     },
     "execution_count": 153,
     "metadata": {},
     "output_type": "execute_result"
    }
   ],
   "source": [
    "df['credit_score'].max()"
   ]
  },
  {
   "cell_type": "code",
   "execution_count": 154,
   "metadata": {},
   "outputs": [
    {
     "data": {
      "text/plain": [
       "300.0"
      ]
     },
     "execution_count": 154,
     "metadata": {},
     "output_type": "execute_result"
    }
   ],
   "source": [
    "df['credit_score'].min()"
   ]
  },
  {
   "cell_type": "code",
   "execution_count": 155,
   "metadata": {},
   "outputs": [
    {
     "data": {
      "text/plain": [
       "<AxesSubplot:>"
      ]
     },
     "execution_count": 155,
     "metadata": {},
     "output_type": "execute_result"
    },
    {
     "data": {
      "image/png": "[encoded data removed]",
      "text/plain": [
       "<Figure size 432x288 with 1 Axes>"
      ]
     },
     "metadata": {},
     "output_type": "display_data"
    }
   ],
   "source": [
    "df['first_payment_date'] = pd.to_datetime(df['first_payment_date'], format='%Y%m')\n",
    "df['first_payment_date'].hist()"
   ]
  },
  {
   "cell_type": "code",
   "execution_count": 156,
   "metadata": {},
   "outputs": [],
   "source": [
    "df['first_payment_date_year'] = df['first_payment_date'].dt.year\n",
    "df['first_payment_date_month'] = df['first_payment_date'].dt.month"
   ]
  },
  {
   "cell_type": "code",
   "execution_count": 157,
   "metadata": {},
   "outputs": [
    {
     "data": {
      "text/plain": [
       "<AxesSubplot:>"
      ]
     },
     "execution_count": 157,
     "metadata": {},
     "output_type": "execute_result"
    },
    {
     "data": {
      "image/png": "[encoded data removed]",
      "text/plain": [
       "<Figure size 432x288 with 1 Axes>"
      ]
     },
     "metadata": {},
     "output_type": "display_data"
    }
   ],
   "source": [
    "df['first_payment_date_year'].hist()"
   ]
  },
  {
   "cell_type": "code",
   "execution_count": 158,
   "metadata": {
    "scrolled": true
   },
   "outputs": [
    {
     "data": {
      "text/plain": [
       "<AxesSubplot:>"
      ]
     },
     "execution_count": 158,
     "metadata": {},
     "output_type": "execute_result"
    },
    {
     "data": {
      "image/png": "[encoded data removed]",
      "text/plain": [
       "<Figure size 432x288 with 1 Axes>"
      ]
     },
     "metadata": {},
     "output_type": "display_data"
    }
   ],
   "source": [
    "df['first_payment_date_month'].hist()"
   ]
  },
  {
   "cell_type": "code",
   "execution_count": 159,
   "metadata": {},
   "outputs": [],
   "source": [
    "df.drop(labels='first_payment_date', axis=1, inplace=True)"
   ]
  },
  {
   "cell_type": "code",
   "execution_count": 160,
   "metadata": {},
   "outputs": [],
   "source": [
    "df.drop(labels='maturity_date', axis=1, inplace=True)"
   ]
  },
  {
   "cell_type": "code",
   "execution_count": 161,
   "metadata": {},
   "outputs": [
    {
     "data": {
      "text/plain": [
       "<AxesSubplot:>"
      ]
     },
     "execution_count": 161,
     "metadata": {},
     "output_type": "execute_result"
    },
    {
     "data": {
      "image/png": "[encoded data removed]",
      "text/plain": [
       "<Figure size 432x288 with 1 Axes>"
      ]
     },
     "metadata": {},
     "output_type": "display_data"
    }
   ],
   "source": [
    "df['mortgage_insurance_percentage_(mi_%)'].hist()"
   ]
  },
  {
   "cell_type": "code",
   "execution_count": 162,
   "metadata": {},
   "outputs": [],
   "source": [
    "col = 'mortgage_insurance_percentage_(mi_%)'\n",
    "imp = SimpleImputer(missing_values=999, strategy='mean')\n",
    "imp.fit(np.array(df[col]).reshape(-1, 1))\n",
    "indicator = MissingIndicator(missing_values=999)\n",
    "mask_missing_mi = indicator.fit_transform(np.array(df[col]).reshape(-1, 1))\n",
    "mi_mean_imputed = imp.transform(np.array(df[col]).reshape(-1, 1))"
   ]
  },
  {
   "cell_type": "code",
   "execution_count": 163,
   "metadata": {},
   "outputs": [],
   "source": [
    "df['missing_' + col] = mask_missing_mi\n",
    "df[col] = mi_mean_imputed"
   ]
  },
  {
   "cell_type": "code",
   "execution_count": 164,
   "metadata": {},
   "outputs": [
    {
     "name": "stdout",
     "output_type": "stream",
     "text": [
      "<class 'pandas.core.frame.DataFrame'>\n",
      "Int64Index: 5991294 entries, 0 to 5991475\n",
      "Data columns (total 31 columns):\n",
      " #   Column                                        Dtype  \n",
      "---  ------                                        -----  \n",
      " 0   Unnamed: 0                                    int64  \n",
      " 1   credit_score                                  float64\n",
      " 2   first_time_homebuyer_flag                     object \n",
      " 3   mortgage_insurance_percentage_(mi_%)          float64\n",
      " 4   number_of_units                               int64  \n",
      " 5   occupancy_status                              object \n",
      " 6   original_combined_loan-to-value_(cltv)        int64  \n",
      " 7   original_debt-to-income_(dti)_ratio           int64  \n",
      " 8   original_upb                                  int64  \n",
      " 9   original_loan-to-value_(ltv)                  int64  \n",
      " 10  original_interest_rate                        float64\n",
      " 11  channel                                       object \n",
      " 12  prepayment_penalty_mortgage_(ppm)_flag        object \n",
      " 13  amortization_type                             object \n",
      " 14  property_state                                object \n",
      " 15  property_type                                 object \n",
      " 16  postal_code                                   int64  \n",
      " 17  loan_sequence_number                          object \n",
      " 18  loan_purpose                                  object \n",
      " 19  original_loan_term                            int64  \n",
      " 20  number_of_borrowers                           int64  \n",
      " 21  seller_name                                   object \n",
      " 22  servicer_name                                 object \n",
      " 23  program_indicator                             object \n",
      " 24  property_valuation_method                     int64  \n",
      " 25  interest_only_indicator_(i/o_indicator)       object \n",
      " 26  target                                        float64\n",
      " 27  missing_credit_score                          bool   \n",
      " 28  first_payment_date_year                       int64  \n",
      " 29  first_payment_date_month                      int64  \n",
      " 30  missing_mortgage_insurance_percentage_(mi_%)  bool   \n",
      "dtypes: bool(2), float64(4), int64(12), object(13)\n",
      "memory usage: 1.4+ GB\n"
     ]
    }
   ],
   "source": [
    "df.info()"
   ]
  },
  {
   "cell_type": "code",
   "execution_count": 165,
   "metadata": {},
   "outputs": [],
   "source": [
    "df.drop('Unnamed: 0', axis=1, inplace=True)"
   ]
  },
  {
   "cell_type": "code",
   "execution_count": 166,
   "metadata": {},
   "outputs": [],
   "source": [
    "dict_ = {'number_of_units': {'missing_value': 99, 'strategy':'mean'}\n",
    "        , 'occupancy_status': {'missing_value': 'Unknown', 'strategy':'most_frequent'}\n",
    "        , 'original_combined_loan-to-value_(cltv)': {'missing_value': 999, 'strategy':'mean'}\n",
    "        , 'original_debt-to-income_(dti)_ratio': {'missing_value': 999, 'strategy':'mean'}\n",
    "        , 'original_loan-to-value_(ltv)': {'missing_value': 999, 'strategy':'mean'}\n",
    "        , 'channel': {'missing_value': '9', 'strategy':'most_frequent'}\n",
    "        , 'property_type': {'missing_value': 'Unknown', 'strategy':'most_frequent'}\n",
    "        , 'loan_purpose': {'missing_value': '9', 'strategy':'most_frequent'}\n",
    "        , 'number_of_borrowers': {'missing_value': 99, 'strategy':'mean'}}\n",
    "\n",
    "\n",
    "    "
   ]
  },
  {
   "cell_type": "code",
   "execution_count": 167,
   "metadata": {},
   "outputs": [
    {
     "data": {
      "text/html": [
       "<div>\n",
       "<style scoped>\n",
       "    .dataframe tbody tr th:only-of-type {\n",
       "        vertical-align: middle;\n",
       "    }\n",
       "\n",
       "    .dataframe tbody tr th {\n",
       "        vertical-align: top;\n",
       "    }\n",
       "\n",
       "    .dataframe thead th {\n",
       "        text-align: right;\n",
       "    }\n",
       "</style>\n",
       "<table border=\"1\" class=\"dataframe\">\n",
       "  <thead>\n",
       "    <tr style=\"text-align: right;\">\n",
       "      <th></th>\n",
       "      <th>number_of_units</th>\n",
       "      <th>occupancy_status</th>\n",
       "      <th>original_combined_loan-to-value_(cltv)</th>\n",
       "      <th>original_debt-to-income_(dti)_ratio</th>\n",
       "      <th>original_loan-to-value_(ltv)</th>\n",
       "      <th>channel</th>\n",
       "      <th>property_type</th>\n",
       "      <th>loan_purpose</th>\n",
       "      <th>number_of_borrowers</th>\n",
       "    </tr>\n",
       "  </thead>\n",
       "  <tbody>\n",
       "    <tr>\n",
       "      <th>0</th>\n",
       "      <td>1</td>\n",
       "      <td>P</td>\n",
       "      <td>63</td>\n",
       "      <td>35</td>\n",
       "      <td>63</td>\n",
       "      <td>T</td>\n",
       "      <td>SF</td>\n",
       "      <td>P</td>\n",
       "      <td>2</td>\n",
       "    </tr>\n",
       "    <tr>\n",
       "      <th>1</th>\n",
       "      <td>1</td>\n",
       "      <td>P</td>\n",
       "      <td>77</td>\n",
       "      <td>34</td>\n",
       "      <td>76</td>\n",
       "      <td>T</td>\n",
       "      <td>SF</td>\n",
       "      <td>P</td>\n",
       "      <td>2</td>\n",
       "    </tr>\n",
       "    <tr>\n",
       "      <th>2</th>\n",
       "      <td>1</td>\n",
       "      <td>P</td>\n",
       "      <td>72</td>\n",
       "      <td>42</td>\n",
       "      <td>72</td>\n",
       "      <td>T</td>\n",
       "      <td>SF</td>\n",
       "      <td>P</td>\n",
       "      <td>2</td>\n",
       "    </tr>\n",
       "    <tr>\n",
       "      <th>3</th>\n",
       "      <td>1</td>\n",
       "      <td>P</td>\n",
       "      <td>74</td>\n",
       "      <td>38</td>\n",
       "      <td>74</td>\n",
       "      <td>T</td>\n",
       "      <td>SF</td>\n",
       "      <td>P</td>\n",
       "      <td>2</td>\n",
       "    </tr>\n",
       "    <tr>\n",
       "      <th>4</th>\n",
       "      <td>1</td>\n",
       "      <td>P</td>\n",
       "      <td>61</td>\n",
       "      <td>37</td>\n",
       "      <td>61</td>\n",
       "      <td>T</td>\n",
       "      <td>SF</td>\n",
       "      <td>P</td>\n",
       "      <td>2</td>\n",
       "    </tr>\n",
       "    <tr>\n",
       "      <th>...</th>\n",
       "      <td>...</td>\n",
       "      <td>...</td>\n",
       "      <td>...</td>\n",
       "      <td>...</td>\n",
       "      <td>...</td>\n",
       "      <td>...</td>\n",
       "      <td>...</td>\n",
       "      <td>...</td>\n",
       "      <td>...</td>\n",
       "    </tr>\n",
       "    <tr>\n",
       "      <th>5991471</th>\n",
       "      <td>1</td>\n",
       "      <td>P</td>\n",
       "      <td>106</td>\n",
       "      <td>23</td>\n",
       "      <td>96</td>\n",
       "      <td>R</td>\n",
       "      <td>SF</td>\n",
       "      <td>P</td>\n",
       "      <td>1</td>\n",
       "    </tr>\n",
       "    <tr>\n",
       "      <th>5991472</th>\n",
       "      <td>1</td>\n",
       "      <td>P</td>\n",
       "      <td>83</td>\n",
       "      <td>999</td>\n",
       "      <td>83</td>\n",
       "      <td>R</td>\n",
       "      <td>SF</td>\n",
       "      <td>N</td>\n",
       "      <td>2</td>\n",
       "    </tr>\n",
       "    <tr>\n",
       "      <th>5991473</th>\n",
       "      <td>1</td>\n",
       "      <td>P</td>\n",
       "      <td>69</td>\n",
       "      <td>60</td>\n",
       "      <td>69</td>\n",
       "      <td>R</td>\n",
       "      <td>SF</td>\n",
       "      <td>P</td>\n",
       "      <td>1</td>\n",
       "    </tr>\n",
       "    <tr>\n",
       "      <th>5991474</th>\n",
       "      <td>1</td>\n",
       "      <td>P</td>\n",
       "      <td>100</td>\n",
       "      <td>40</td>\n",
       "      <td>100</td>\n",
       "      <td>R</td>\n",
       "      <td>SF</td>\n",
       "      <td>P</td>\n",
       "      <td>1</td>\n",
       "    </tr>\n",
       "    <tr>\n",
       "      <th>5991475</th>\n",
       "      <td>1</td>\n",
       "      <td>P</td>\n",
       "      <td>95</td>\n",
       "      <td>43</td>\n",
       "      <td>95</td>\n",
       "      <td>R</td>\n",
       "      <td>SF</td>\n",
       "      <td>C</td>\n",
       "      <td>1</td>\n",
       "    </tr>\n",
       "  </tbody>\n",
       "</table>\n",
       "<p>5991294 rows × 9 columns</p>\n",
       "</div>"
      ],
      "text/plain": [
       "         number_of_units occupancy_status  \\\n",
       "0                      1                P   \n",
       "1                      1                P   \n",
       "2                      1                P   \n",
       "3                      1                P   \n",
       "4                      1                P   \n",
       "...                  ...              ...   \n",
       "5991471                1                P   \n",
       "5991472                1                P   \n",
       "5991473                1                P   \n",
       "5991474                1                P   \n",
       "5991475                1                P   \n",
       "\n",
       "         original_combined_loan-to-value_(cltv)  \\\n",
       "0                                            63   \n",
       "1                                            77   \n",
       "2                                            72   \n",
       "3                                            74   \n",
       "4                                            61   \n",
       "...                                         ...   \n",
       "5991471                                     106   \n",
       "5991472                                      83   \n",
       "5991473                                      69   \n",
       "5991474                                     100   \n",
       "5991475                                      95   \n",
       "\n",
       "         original_debt-to-income_(dti)_ratio  original_loan-to-value_(ltv)  \\\n",
       "0                                         35                            63   \n",
       "1                                         34                            76   \n",
       "2                                         42                            72   \n",
       "3                                         38                            74   \n",
       "4                                         37                            61   \n",
       "...                                      ...                           ...   \n",
       "5991471                                   23                            96   \n",
       "5991472                                  999                            83   \n",
       "5991473                                   60                            69   \n",
       "5991474                                   40                           100   \n",
       "5991475                                   43                            95   \n",
       "\n",
       "        channel property_type loan_purpose  number_of_borrowers  \n",
       "0             T            SF            P                    2  \n",
       "1             T            SF            P                    2  \n",
       "2             T            SF            P                    2  \n",
       "3             T            SF            P                    2  \n",
       "4             T            SF            P                    2  \n",
       "...         ...           ...          ...                  ...  \n",
       "5991471       R            SF            P                    1  \n",
       "5991472       R            SF            N                    2  \n",
       "5991473       R            SF            P                    1  \n",
       "5991474       R            SF            P                    1  \n",
       "5991475       R            SF            C                    1  \n",
       "\n",
       "[5991294 rows x 9 columns]"
      ]
     },
     "execution_count": 167,
     "metadata": {},
     "output_type": "execute_result"
    }
   ],
   "source": [
    "df[dict_.keys()]"
   ]
  },
  {
   "cell_type": "code",
   "execution_count": 168,
   "metadata": {
    "scrolled": true
   },
   "outputs": [
    {
     "name": "stdout",
     "output_type": "stream",
     "text": [
      "number_of_units {'missing_value': 99, 'strategy': 'mean'}\n",
      "occupancy_status {'missing_value': 'Unknown', 'strategy': 'most_frequent'}\n",
      "original_combined_loan-to-value_(cltv) {'missing_value': 999, 'strategy': 'mean'}\n",
      "original_debt-to-income_(dti)_ratio {'missing_value': 999, 'strategy': 'mean'}\n",
      "original_loan-to-value_(ltv) {'missing_value': 999, 'strategy': 'mean'}\n",
      "channel {'missing_value': '9', 'strategy': 'most_frequent'}\n",
      "property_type {'missing_value': 'Unknown', 'strategy': 'most_frequent'}\n",
      "loan_purpose {'missing_value': '9', 'strategy': 'most_frequent'}\n",
      "number_of_borrowers {'missing_value': 99, 'strategy': 'mean'}\n"
     ]
    }
   ],
   "source": [
    "for col in dict_.keys():\n",
    "    kwargs = dict_[col]\n",
    "    missing_val = kwargs['missing_value']\n",
    "    strategy = kwargs['strategy']\n",
    "    print(col, kwargs)\n",
    "\n",
    "    \n",
    "    imp = SimpleImputer(missing_values=missing_val, strategy=strategy)\n",
    "    imp.fit(np.array(df[col].sample(10_000)).reshape(-1, 1))\n",
    "    \n",
    "    indicator = MissingIndicator(missing_values=missing_val)\n",
    "    \n",
    "    mask_missing = indicator.fit_transform(np.array(df[col]).reshape(-1, 1))\n",
    "    mean_imputed = imp.transform(np.array(df[col]).reshape(-1, 1))\n",
    "    \n",
    "    df['mask_missing_' + col] = mask_missing\n",
    "    df[col + '_' + strategy + '_imputed'] = mean_imputed"
   ]
  },
  {
   "cell_type": "code",
   "execution_count": 169,
   "metadata": {},
   "outputs": [],
   "source": [
    "df.drop(labels=dict_.keys(), axis=1, inplace=True)"
   ]
  },
  {
   "cell_type": "code",
   "execution_count": 170,
   "metadata": {},
   "outputs": [
    {
     "name": "stdout",
     "output_type": "stream",
     "text": [
      "<class 'pandas.core.frame.DataFrame'>\n",
      "Int64Index: 5991294 entries, 0 to 5991475\n",
      "Data columns (total 39 columns):\n",
      " #   Column                                               Dtype  \n",
      "---  ------                                               -----  \n",
      " 0   credit_score                                         float64\n",
      " 1   first_time_homebuyer_flag                            object \n",
      " 2   mortgage_insurance_percentage_(mi_%)                 float64\n",
      " 3   original_upb                                         int64  \n",
      " 4   original_interest_rate                               float64\n",
      " 5   prepayment_penalty_mortgage_(ppm)_flag               object \n",
      " 6   amortization_type                                    object \n",
      " 7   property_state                                       object \n",
      " 8   postal_code                                          int64  \n",
      " 9   loan_sequence_number                                 object \n",
      " 10  original_loan_term                                   int64  \n",
      " 11  seller_name                                          object \n",
      " 12  servicer_name                                        object \n",
      " 13  program_indicator                                    object \n",
      " 14  property_valuation_method                            int64  \n",
      " 15  interest_only_indicator_(i/o_indicator)              object \n",
      " 16  target                                               float64\n",
      " 17  missing_credit_score                                 bool   \n",
      " 18  first_payment_date_year                              int64  \n",
      " 19  first_payment_date_month                             int64  \n",
      " 20  missing_mortgage_insurance_percentage_(mi_%)         bool   \n",
      " 21  mask_missing_number_of_units                         bool   \n",
      " 22  number_of_units_mean_imputed                         float64\n",
      " 23  mask_missing_occupancy_status                        bool   \n",
      " 24  occupancy_status_most_frequent_imputed               object \n",
      " 25  mask_missing_original_combined_loan-to-value_(cltv)  bool   \n",
      " 26  original_combined_loan-to-value_(cltv)_mean_imputed  float64\n",
      " 27  mask_missing_original_debt-to-income_(dti)_ratio     bool   \n",
      " 28  original_debt-to-income_(dti)_ratio_mean_imputed     float64\n",
      " 29  mask_missing_original_loan-to-value_(ltv)            bool   \n",
      " 30  original_loan-to-value_(ltv)_mean_imputed            float64\n",
      " 31  mask_missing_channel                                 bool   \n",
      " 32  channel_most_frequent_imputed                        object \n",
      " 33  mask_missing_property_type                           bool   \n",
      " 34  property_type_most_frequent_imputed                  object \n",
      " 35  mask_missing_loan_purpose                            bool   \n",
      " 36  loan_purpose_most_frequent_imputed                   object \n",
      " 37  mask_missing_number_of_borrowers                     bool   \n",
      " 38  number_of_borrowers_mean_imputed                     float64\n",
      "dtypes: bool(11), float64(9), int64(6), object(13)\n",
      "memory usage: 1.4+ GB\n"
     ]
    }
   ],
   "source": [
    "df.info()"
   ]
  },
  {
   "cell_type": "code",
   "execution_count": 174,
   "metadata": {},
   "outputs": [],
   "source": [
    "dummy_cols = ['first_time_homebuyer_flag', 'prepayment_penalty_mortgage_(ppm)_flag'\n",
    "              , 'amortization_type', 'program_indicator', 'property_valuation_method'\n",
    "              , 'interest_only_indicator_(i/o_indicator)', 'occupancy_status_most_frequent_imputed'\n",
    "              , 'channel_most_frequent_imputed', 'property_type_most_frequent_imputed'\n",
    "              , 'loan_purpose_most_frequent_imputed']\n",
    "df = pd.get_dummies(df, columns=dummy_cols, drop_first=True, dummy_na=True)"
   ]
  },
  {
   "cell_type": "code",
   "execution_count": null,
   "metadata": {},
   "outputs": [],
   "source": [
    "df.drop(labels=['property_state', 'postal_code', 'loan_sequence_number', 'seller_name', 'servicer_name']\n",
    "        , axis=1, inplace=True) # cardinaltiy too high"
   ]
  },
  {
   "cell_type": "code",
   "execution_count": 176,
   "metadata": {},
   "outputs": [
    {
     "data": {
      "text/plain": [
       "(5991294, 51)"
      ]
     },
     "execution_count": 176,
     "metadata": {},
     "output_type": "execute_result"
    }
   ],
   "source": [
    "df.shape"
   ]
  },
  {
   "cell_type": "code",
   "execution_count": 177,
   "metadata": {},
   "outputs": [
    {
     "name": "stdout",
     "output_type": "stream",
     "text": [
      "<class 'pandas.core.frame.DataFrame'>\n",
      "Int64Index: 5991294 entries, 0 to 5991475\n",
      "Data columns (total 51 columns):\n",
      " #   Column                                               Dtype  \n",
      "---  ------                                               -----  \n",
      " 0   credit_score                                         float64\n",
      " 1   mortgage_insurance_percentage_(mi_%)                 float64\n",
      " 2   original_upb                                         int64  \n",
      " 3   original_interest_rate                               float64\n",
      " 4   original_loan_term                                   int64  \n",
      " 5   target                                               float64\n",
      " 6   missing_credit_score                                 bool   \n",
      " 7   first_payment_date_year                              int64  \n",
      " 8   first_payment_date_month                             int64  \n",
      " 9   missing_mortgage_insurance_percentage_(mi_%)         bool   \n",
      " 10  mask_missing_number_of_units                         bool   \n",
      " 11  number_of_units_mean_imputed                         float64\n",
      " 12  mask_missing_occupancy_status                        bool   \n",
      " 13  mask_missing_original_combined_loan-to-value_(cltv)  bool   \n",
      " 14  original_combined_loan-to-value_(cltv)_mean_imputed  float64\n",
      " 15  mask_missing_original_debt-to-income_(dti)_ratio     bool   \n",
      " 16  original_debt-to-income_(dti)_ratio_mean_imputed     float64\n",
      " 17  mask_missing_original_loan-to-value_(ltv)            bool   \n",
      " 18  original_loan-to-value_(ltv)_mean_imputed            float64\n",
      " 19  mask_missing_channel                                 bool   \n",
      " 20  mask_missing_property_type                           bool   \n",
      " 21  mask_missing_loan_purpose                            bool   \n",
      " 22  mask_missing_number_of_borrowers                     bool   \n",
      " 23  number_of_borrowers_mean_imputed                     float64\n",
      " 24  first_time_homebuyer_flag_Unknown                    uint8  \n",
      " 25  first_time_homebuyer_flag_Y                          uint8  \n",
      " 26  first_time_homebuyer_flag_nan                        uint8  \n",
      " 27  prepayment_penalty_mortgage_(ppm)_flag_Y             uint8  \n",
      " 28  prepayment_penalty_mortgage_(ppm)_flag_nan           uint8  \n",
      " 29  amortization_type_FRM                                uint8  \n",
      " 30  amortization_type_nan                                uint8  \n",
      " 31  program_indicator_Unknown                            uint8  \n",
      " 32  program_indicator_nan                                uint8  \n",
      " 33  property_valuation_method_nan                        uint8  \n",
      " 34  interest_only_indicator_(i/o_indicator)_Y            uint8  \n",
      " 35  interest_only_indicator_(i/o_indicator)_nan          uint8  \n",
      " 36  occupancy_status_most_frequent_imputed_P             uint8  \n",
      " 37  occupancy_status_most_frequent_imputed_S             uint8  \n",
      " 38  occupancy_status_most_frequent_imputed_nan           uint8  \n",
      " 39  channel_most_frequent_imputed_C                      uint8  \n",
      " 40  channel_most_frequent_imputed_R                      uint8  \n",
      " 41  channel_most_frequent_imputed_T                      uint8  \n",
      " 42  channel_most_frequent_imputed_nan                    uint8  \n",
      " 43  property_type_most_frequent_imputed_CP               uint8  \n",
      " 44  property_type_most_frequent_imputed_MH               uint8  \n",
      " 45  property_type_most_frequent_imputed_PU               uint8  \n",
      " 46  property_type_most_frequent_imputed_SF               uint8  \n",
      " 47  property_type_most_frequent_imputed_nan              uint8  \n",
      " 48  loan_purpose_most_frequent_imputed_N                 uint8  \n",
      " 49  loan_purpose_most_frequent_imputed_P                 uint8  \n",
      " 50  loan_purpose_most_frequent_imputed_nan               uint8  \n",
      "dtypes: bool(11), float64(9), int64(4), uint8(27)\n",
      "memory usage: 857.1 MB\n"
     ]
    }
   ],
   "source": [
    "df.info()"
   ]
  },
  {
   "cell_type": "code",
   "execution_count": 179,
   "metadata": {},
   "outputs": [
    {
     "data": {
      "text/plain": [
       "credit_score                                           0\n",
       "mortgage_insurance_percentage_(mi_%)                   0\n",
       "original_upb                                           0\n",
       "original_interest_rate                                 0\n",
       "original_loan_term                                     0\n",
       "target                                                 0\n",
       "missing_credit_score                                   0\n",
       "first_payment_date_year                                0\n",
       "first_payment_date_month                               0\n",
       "missing_mortgage_insurance_percentage_(mi_%)           0\n",
       "mask_missing_number_of_units                           0\n",
       "number_of_units_mean_imputed                           0\n",
       "mask_missing_occupancy_status                          0\n",
       "mask_missing_original_combined_loan-to-value_(cltv)    0\n",
       "original_combined_loan-to-value_(cltv)_mean_imputed    0\n",
       "mask_missing_original_debt-to-income_(dti)_ratio       0\n",
       "original_debt-to-income_(dti)_ratio_mean_imputed       0\n",
       "mask_missing_original_loan-to-value_(ltv)              0\n",
       "original_loan-to-value_(ltv)_mean_imputed              0\n",
       "mask_missing_channel                                   0\n",
       "mask_missing_property_type                             0\n",
       "mask_missing_loan_purpose                              0\n",
       "mask_missing_number_of_borrowers                       0\n",
       "number_of_borrowers_mean_imputed                       0\n",
       "first_time_homebuyer_flag_Unknown                      0\n",
       "first_time_homebuyer_flag_Y                            0\n",
       "first_time_homebuyer_flag_nan                          0\n",
       "prepayment_penalty_mortgage_(ppm)_flag_Y               0\n",
       "prepayment_penalty_mortgage_(ppm)_flag_nan             0\n",
       "amortization_type_FRM                                  0\n",
       "amortization_type_nan                                  0\n",
       "program_indicator_Unknown                              0\n",
       "program_indicator_nan                                  0\n",
       "property_valuation_method_nan                          0\n",
       "interest_only_indicator_(i/o_indicator)_Y              0\n",
       "interest_only_indicator_(i/o_indicator)_nan            0\n",
       "occupancy_status_most_frequent_imputed_P               0\n",
       "occupancy_status_most_frequent_imputed_S               0\n",
       "occupancy_status_most_frequent_imputed_nan             0\n",
       "channel_most_frequent_imputed_C                        0\n",
       "channel_most_frequent_imputed_R                        0\n",
       "channel_most_frequent_imputed_T                        0\n",
       "channel_most_frequent_imputed_nan                      0\n",
       "property_type_most_frequent_imputed_CP                 0\n",
       "property_type_most_frequent_imputed_MH                 0\n",
       "property_type_most_frequent_imputed_PU                 0\n",
       "property_type_most_frequent_imputed_SF                 0\n",
       "property_type_most_frequent_imputed_nan                0\n",
       "loan_purpose_most_frequent_imputed_N                   0\n",
       "loan_purpose_most_frequent_imputed_P                   0\n",
       "loan_purpose_most_frequent_imputed_nan                 0\n",
       "dtype: int64"
      ]
     },
     "execution_count": 179,
     "metadata": {},
     "output_type": "execute_result"
    }
   ],
   "source": [
    "df.isnull().sum()"
   ]
  },
  {
   "cell_type": "code",
   "execution_count": 178,
   "metadata": {},
   "outputs": [],
   "source": [
    "df.to_csv('../data/df_preprocessed_freddie_mac.csv')"
   ]
  }
 ],
 "metadata": {
  "kernelspec": {
   "display_name": "Python 3",
   "language": "python",
   "name": "python3"
  },
  "language_info": {
   "codemirror_mode": {
    "name": "ipython",
    "version": 3
   },
   "file_extension": ".py",
   "mimetype": "text/x-python",
   "name": "python",
   "nbconvert_exporter": "python",
   "pygments_lexer": "ipython3",
   "version": "3.7.10"
  }
 },
 "nbformat": 4,
 "nbformat_minor": 4
}
