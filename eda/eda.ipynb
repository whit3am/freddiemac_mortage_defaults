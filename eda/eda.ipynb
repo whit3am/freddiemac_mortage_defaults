{
 "cells": [
  {
   "cell_type": "code",
   "execution_count": 1,
   "metadata": {},
   "outputs": [],
   "source": [
    "import pandas as pd\n",
    "import matplotlib.pyplot as plt\n",
    "from tqdm import tqdm\n",
    "\n",
    "from sklearn.model_selection import train_test_split, GridSearchCV\n",
    "from sklearn.linear_model import LogisticRegression\n",
    "from sklearn.ensemble import RandomForestClassifier\n",
    "from sklearn.metrics import precision_score, recall_score, f1_score \n",
    "\n",
    "from imblearn.pipeline import Pipeline\n",
    "from imblearn.over_sampling import SMOTE\n",
    "\n",
    "from notify_run import Notify\n",
    "\n",
    "plt.style.use('ggplot')"
   ]
  },
  {
   "cell_type": "code",
   "execution_count": 3,
   "metadata": {},
   "outputs": [
    {
     "name": "stderr",
     "output_type": "stream",
     "text": [
      "/home/austin/anaconda3/envs/dsienv/lib/python3.7/site-packages/IPython/core/interactiveshell.py:3166: DtypeWarning: Columns (28) have mixed types.Specify dtype option on import or set low_memory=False.\n",
      "  interactivity=interactivity, compiler=compiler, result=result)\n"
     ]
    }
   ],
   "source": [
    "X = pd.read_csv('../data/df_freddie_mac.csv')"
   ]
  },
  {
   "cell_type": "code",
   "execution_count": 4,
   "metadata": {
    "scrolled": true
   },
   "outputs": [
    {
     "data": {
      "text/html": [
       "<div>\n",
       "<style scoped>\n",
       "    .dataframe tbody tr th:only-of-type {\n",
       "        vertical-align: middle;\n",
       "    }\n",
       "\n",
       "    .dataframe tbody tr th {\n",
       "        vertical-align: top;\n",
       "    }\n",
       "\n",
       "    .dataframe thead th {\n",
       "        text-align: right;\n",
       "    }\n",
       "</style>\n",
       "<table border=\"1\" class=\"dataframe\">\n",
       "  <thead>\n",
       "    <tr style=\"text-align: right;\">\n",
       "      <th></th>\n",
       "      <th>Unnamed: 0</th>\n",
       "      <th>credit_score</th>\n",
       "      <th>first_payment_date</th>\n",
       "      <th>first_time_homebuyer_flag</th>\n",
       "      <th>maturity_date</th>\n",
       "      <th>metropolitan_statistical_area_(msa)_or_metropolitan_division</th>\n",
       "      <th>mortgage_insurance_percentage_(mi_%)</th>\n",
       "      <th>number_of_units</th>\n",
       "      <th>occupancy_status</th>\n",
       "      <th>original_combined_loan-to-value_(cltv)</th>\n",
       "      <th>...</th>\n",
       "      <th>number_of_borrowers</th>\n",
       "      <th>seller_name</th>\n",
       "      <th>servicer_name</th>\n",
       "      <th>super_conforming_flag</th>\n",
       "      <th>pre-harp_loan_sequence_number</th>\n",
       "      <th>program_indicator</th>\n",
       "      <th>harp_indicator</th>\n",
       "      <th>property_valuation_method</th>\n",
       "      <th>interest_only_indicator_(i/o_indicator)</th>\n",
       "      <th>target</th>\n",
       "    </tr>\n",
       "  </thead>\n",
       "  <tbody>\n",
       "    <tr>\n",
       "      <th>0</th>\n",
       "      <td>0</td>\n",
       "      <td>801</td>\n",
       "      <td>200202</td>\n",
       "      <td>N</td>\n",
       "      <td>203101</td>\n",
       "      <td>NaN</td>\n",
       "      <td>0</td>\n",
       "      <td>1</td>\n",
       "      <td>P</td>\n",
       "      <td>63</td>\n",
       "      <td>...</td>\n",
       "      <td>2</td>\n",
       "      <td>Other sellers</td>\n",
       "      <td>Other servicers</td>\n",
       "      <td>NaN</td>\n",
       "      <td>NaN</td>\n",
       "      <td>9</td>\n",
       "      <td>NaN</td>\n",
       "      <td>9</td>\n",
       "      <td>N</td>\n",
       "      <td>0.0</td>\n",
       "    </tr>\n",
       "    <tr>\n",
       "      <th>1</th>\n",
       "      <td>1</td>\n",
       "      <td>776</td>\n",
       "      <td>200202</td>\n",
       "      <td>N</td>\n",
       "      <td>203101</td>\n",
       "      <td>NaN</td>\n",
       "      <td>0</td>\n",
       "      <td>1</td>\n",
       "      <td>P</td>\n",
       "      <td>77</td>\n",
       "      <td>...</td>\n",
       "      <td>2</td>\n",
       "      <td>Other sellers</td>\n",
       "      <td>Other servicers</td>\n",
       "      <td>NaN</td>\n",
       "      <td>NaN</td>\n",
       "      <td>9</td>\n",
       "      <td>NaN</td>\n",
       "      <td>9</td>\n",
       "      <td>N</td>\n",
       "      <td>0.0</td>\n",
       "    </tr>\n",
       "    <tr>\n",
       "      <th>2</th>\n",
       "      <td>2</td>\n",
       "      <td>754</td>\n",
       "      <td>200202</td>\n",
       "      <td>N</td>\n",
       "      <td>203012</td>\n",
       "      <td>38060.0</td>\n",
       "      <td>0</td>\n",
       "      <td>1</td>\n",
       "      <td>P</td>\n",
       "      <td>72</td>\n",
       "      <td>...</td>\n",
       "      <td>2</td>\n",
       "      <td>Other sellers</td>\n",
       "      <td>Other servicers</td>\n",
       "      <td>NaN</td>\n",
       "      <td>NaN</td>\n",
       "      <td>9</td>\n",
       "      <td>NaN</td>\n",
       "      <td>9</td>\n",
       "      <td>N</td>\n",
       "      <td>0.0</td>\n",
       "    </tr>\n",
       "    <tr>\n",
       "      <th>3</th>\n",
       "      <td>3</td>\n",
       "      <td>795</td>\n",
       "      <td>200203</td>\n",
       "      <td>N</td>\n",
       "      <td>203011</td>\n",
       "      <td>36780.0</td>\n",
       "      <td>0</td>\n",
       "      <td>1</td>\n",
       "      <td>P</td>\n",
       "      <td>74</td>\n",
       "      <td>...</td>\n",
       "      <td>2</td>\n",
       "      <td>Other sellers</td>\n",
       "      <td>Other servicers</td>\n",
       "      <td>NaN</td>\n",
       "      <td>NaN</td>\n",
       "      <td>9</td>\n",
       "      <td>NaN</td>\n",
       "      <td>9</td>\n",
       "      <td>N</td>\n",
       "      <td>0.0</td>\n",
       "    </tr>\n",
       "    <tr>\n",
       "      <th>4</th>\n",
       "      <td>4</td>\n",
       "      <td>716</td>\n",
       "      <td>200204</td>\n",
       "      <td>N</td>\n",
       "      <td>203011</td>\n",
       "      <td>NaN</td>\n",
       "      <td>0</td>\n",
       "      <td>1</td>\n",
       "      <td>P</td>\n",
       "      <td>61</td>\n",
       "      <td>...</td>\n",
       "      <td>2</td>\n",
       "      <td>Other sellers</td>\n",
       "      <td>Other servicers</td>\n",
       "      <td>NaN</td>\n",
       "      <td>NaN</td>\n",
       "      <td>9</td>\n",
       "      <td>NaN</td>\n",
       "      <td>9</td>\n",
       "      <td>N</td>\n",
       "      <td>0.0</td>\n",
       "    </tr>\n",
       "  </tbody>\n",
       "</table>\n",
       "<p>5 rows × 33 columns</p>\n",
       "</div>"
      ],
      "text/plain": [
       "   Unnamed: 0  credit_score  first_payment_date first_time_homebuyer_flag  \\\n",
       "0           0           801              200202                         N   \n",
       "1           1           776              200202                         N   \n",
       "2           2           754              200202                         N   \n",
       "3           3           795              200203                         N   \n",
       "4           4           716              200204                         N   \n",
       "\n",
       "   maturity_date  \\\n",
       "0         203101   \n",
       "1         203101   \n",
       "2         203012   \n",
       "3         203011   \n",
       "4         203011   \n",
       "\n",
       "   metropolitan_statistical_area_(msa)_or_metropolitan_division  \\\n",
       "0                                                NaN              \n",
       "1                                                NaN              \n",
       "2                                            38060.0              \n",
       "3                                            36780.0              \n",
       "4                                                NaN              \n",
       "\n",
       "   mortgage_insurance_percentage_(mi_%)  number_of_units occupancy_status  \\\n",
       "0                                     0                1                P   \n",
       "1                                     0                1                P   \n",
       "2                                     0                1                P   \n",
       "3                                     0                1                P   \n",
       "4                                     0                1                P   \n",
       "\n",
       "   original_combined_loan-to-value_(cltv)  ...  number_of_borrowers  \\\n",
       "0                                      63  ...                    2   \n",
       "1                                      77  ...                    2   \n",
       "2                                      72  ...                    2   \n",
       "3                                      74  ...                    2   \n",
       "4                                      61  ...                    2   \n",
       "\n",
       "     seller_name    servicer_name  super_conforming_flag  \\\n",
       "0  Other sellers  Other servicers                    NaN   \n",
       "1  Other sellers  Other servicers                    NaN   \n",
       "2  Other sellers  Other servicers                    NaN   \n",
       "3  Other sellers  Other servicers                    NaN   \n",
       "4  Other sellers  Other servicers                    NaN   \n",
       "\n",
       "  pre-harp_loan_sequence_number program_indicator harp_indicator  \\\n",
       "0                           NaN                 9            NaN   \n",
       "1                           NaN                 9            NaN   \n",
       "2                           NaN                 9            NaN   \n",
       "3                           NaN                 9            NaN   \n",
       "4                           NaN                 9            NaN   \n",
       "\n",
       "  property_valuation_method interest_only_indicator_(i/o_indicator)  target  \n",
       "0                         9                                       N     0.0  \n",
       "1                         9                                       N     0.0  \n",
       "2                         9                                       N     0.0  \n",
       "3                         9                                       N     0.0  \n",
       "4                         9                                       N     0.0  \n",
       "\n",
       "[5 rows x 33 columns]"
      ]
     },
     "execution_count": 4,
     "metadata": {},
     "output_type": "execute_result"
    }
   ],
   "source": [
    "X.head()"
   ]
  },
  {
   "cell_type": "code",
   "execution_count": 5,
   "metadata": {},
   "outputs": [
    {
     "data": {
      "text/plain": [
       "200201    389060\n",
       "200202    354373\n",
       "200112    310105\n",
       "200107    261200\n",
       "200106    253948\n",
       "           ...  \n",
       "201001         1\n",
       "201003         1\n",
       "200911         1\n",
       "200906         1\n",
       "201605         1\n",
       "Name: first_payment_date, Length: 159, dtype: int64"
      ]
     },
     "execution_count": 5,
     "metadata": {},
     "output_type": "execute_result"
    }
   ],
   "source": [
    "X['first_payment_date'].value_counts()"
   ]
  },
  {
   "cell_type": "code",
   "execution_count": 6,
   "metadata": {},
   "outputs": [
    {
     "data": {
      "text/plain": [
       "(5991476, 33)"
      ]
     },
     "execution_count": 6,
     "metadata": {},
     "output_type": "execute_result"
    }
   ],
   "source": [
    "X.shape"
   ]
  },
  {
   "cell_type": "code",
   "execution_count": 7,
   "metadata": {},
   "outputs": [
    {
     "ename": "FileNotFoundError",
     "evalue": "[Errno 2] No such file or directory: '../data/y_pre_09.csv'",
     "output_type": "error",
     "traceback": [
      "\u001b[0;31m---------------------------------------------------------------------------\u001b[0m",
      "\u001b[0;31mFileNotFoundError\u001b[0m                         Traceback (most recent call last)",
      "\u001b[0;32m<ipython-input-7-621d9d9c4291>\u001b[0m in \u001b[0;36m<module>\u001b[0;34m\u001b[0m\n\u001b[0;32m----> 1\u001b[0;31m \u001b[0my\u001b[0m \u001b[0;34m=\u001b[0m \u001b[0mpd\u001b[0m\u001b[0;34m.\u001b[0m\u001b[0mread_csv\u001b[0m\u001b[0;34m(\u001b[0m\u001b[0;34m'../data/y_pre_09.csv'\u001b[0m\u001b[0;34m)\u001b[0m\u001b[0;34m\u001b[0m\u001b[0;34m\u001b[0m\u001b[0m\n\u001b[0m",
      "\u001b[0;32m~/anaconda3/envs/dsienv/lib/python3.7/site-packages/pandas/io/parsers.py\u001b[0m in \u001b[0;36mread_csv\u001b[0;34m(filepath_or_buffer, sep, delimiter, header, names, index_col, usecols, squeeze, prefix, mangle_dupe_cols, dtype, engine, converters, true_values, false_values, skipinitialspace, skiprows, skipfooter, nrows, na_values, keep_default_na, na_filter, verbose, skip_blank_lines, parse_dates, infer_datetime_format, keep_date_col, date_parser, dayfirst, cache_dates, iterator, chunksize, compression, thousands, decimal, lineterminator, quotechar, quoting, doublequote, escapechar, comment, encoding, dialect, error_bad_lines, warn_bad_lines, delim_whitespace, low_memory, memory_map, float_precision, storage_options)\u001b[0m\n\u001b[1;32m    608\u001b[0m     \u001b[0mkwds\u001b[0m\u001b[0;34m.\u001b[0m\u001b[0mupdate\u001b[0m\u001b[0;34m(\u001b[0m\u001b[0mkwds_defaults\u001b[0m\u001b[0;34m)\u001b[0m\u001b[0;34m\u001b[0m\u001b[0;34m\u001b[0m\u001b[0m\n\u001b[1;32m    609\u001b[0m \u001b[0;34m\u001b[0m\u001b[0m\n\u001b[0;32m--> 610\u001b[0;31m     \u001b[0;32mreturn\u001b[0m \u001b[0m_read\u001b[0m\u001b[0;34m(\u001b[0m\u001b[0mfilepath_or_buffer\u001b[0m\u001b[0;34m,\u001b[0m \u001b[0mkwds\u001b[0m\u001b[0;34m)\u001b[0m\u001b[0;34m\u001b[0m\u001b[0;34m\u001b[0m\u001b[0m\n\u001b[0m\u001b[1;32m    611\u001b[0m \u001b[0;34m\u001b[0m\u001b[0m\n\u001b[1;32m    612\u001b[0m \u001b[0;34m\u001b[0m\u001b[0m\n",
      "\u001b[0;32m~/anaconda3/envs/dsienv/lib/python3.7/site-packages/pandas/io/parsers.py\u001b[0m in \u001b[0;36m_read\u001b[0;34m(filepath_or_buffer, kwds)\u001b[0m\n\u001b[1;32m    460\u001b[0m \u001b[0;34m\u001b[0m\u001b[0m\n\u001b[1;32m    461\u001b[0m     \u001b[0;31m# Create the parser.\u001b[0m\u001b[0;34m\u001b[0m\u001b[0;34m\u001b[0m\u001b[0;34m\u001b[0m\u001b[0m\n\u001b[0;32m--> 462\u001b[0;31m     \u001b[0mparser\u001b[0m \u001b[0;34m=\u001b[0m \u001b[0mTextFileReader\u001b[0m\u001b[0;34m(\u001b[0m\u001b[0mfilepath_or_buffer\u001b[0m\u001b[0;34m,\u001b[0m \u001b[0;34m**\u001b[0m\u001b[0mkwds\u001b[0m\u001b[0;34m)\u001b[0m\u001b[0;34m\u001b[0m\u001b[0;34m\u001b[0m\u001b[0m\n\u001b[0m\u001b[1;32m    463\u001b[0m \u001b[0;34m\u001b[0m\u001b[0m\n\u001b[1;32m    464\u001b[0m     \u001b[0;32mif\u001b[0m \u001b[0mchunksize\u001b[0m \u001b[0;32mor\u001b[0m \u001b[0miterator\u001b[0m\u001b[0;34m:\u001b[0m\u001b[0;34m\u001b[0m\u001b[0;34m\u001b[0m\u001b[0m\n",
      "\u001b[0;32m~/anaconda3/envs/dsienv/lib/python3.7/site-packages/pandas/io/parsers.py\u001b[0m in \u001b[0;36m__init__\u001b[0;34m(self, f, engine, **kwds)\u001b[0m\n\u001b[1;32m    817\u001b[0m             \u001b[0mself\u001b[0m\u001b[0;34m.\u001b[0m\u001b[0moptions\u001b[0m\u001b[0;34m[\u001b[0m\u001b[0;34m\"has_index_names\"\u001b[0m\u001b[0;34m]\u001b[0m \u001b[0;34m=\u001b[0m \u001b[0mkwds\u001b[0m\u001b[0;34m[\u001b[0m\u001b[0;34m\"has_index_names\"\u001b[0m\u001b[0;34m]\u001b[0m\u001b[0;34m\u001b[0m\u001b[0;34m\u001b[0m\u001b[0m\n\u001b[1;32m    818\u001b[0m \u001b[0;34m\u001b[0m\u001b[0m\n\u001b[0;32m--> 819\u001b[0;31m         \u001b[0mself\u001b[0m\u001b[0;34m.\u001b[0m\u001b[0m_engine\u001b[0m \u001b[0;34m=\u001b[0m \u001b[0mself\u001b[0m\u001b[0;34m.\u001b[0m\u001b[0m_make_engine\u001b[0m\u001b[0;34m(\u001b[0m\u001b[0mself\u001b[0m\u001b[0;34m.\u001b[0m\u001b[0mengine\u001b[0m\u001b[0;34m)\u001b[0m\u001b[0;34m\u001b[0m\u001b[0;34m\u001b[0m\u001b[0m\n\u001b[0m\u001b[1;32m    820\u001b[0m \u001b[0;34m\u001b[0m\u001b[0m\n\u001b[1;32m    821\u001b[0m     \u001b[0;32mdef\u001b[0m \u001b[0mclose\u001b[0m\u001b[0;34m(\u001b[0m\u001b[0mself\u001b[0m\u001b[0;34m)\u001b[0m\u001b[0;34m:\u001b[0m\u001b[0;34m\u001b[0m\u001b[0;34m\u001b[0m\u001b[0m\n",
      "\u001b[0;32m~/anaconda3/envs/dsienv/lib/python3.7/site-packages/pandas/io/parsers.py\u001b[0m in \u001b[0;36m_make_engine\u001b[0;34m(self, engine)\u001b[0m\n\u001b[1;32m   1048\u001b[0m             )\n\u001b[1;32m   1049\u001b[0m         \u001b[0;31m# error: Too many arguments for \"ParserBase\"\u001b[0m\u001b[0;34m\u001b[0m\u001b[0;34m\u001b[0m\u001b[0;34m\u001b[0m\u001b[0m\n\u001b[0;32m-> 1050\u001b[0;31m         \u001b[0;32mreturn\u001b[0m \u001b[0mmapping\u001b[0m\u001b[0;34m[\u001b[0m\u001b[0mengine\u001b[0m\u001b[0;34m]\u001b[0m\u001b[0;34m(\u001b[0m\u001b[0mself\u001b[0m\u001b[0;34m.\u001b[0m\u001b[0mf\u001b[0m\u001b[0;34m,\u001b[0m \u001b[0;34m**\u001b[0m\u001b[0mself\u001b[0m\u001b[0;34m.\u001b[0m\u001b[0moptions\u001b[0m\u001b[0;34m)\u001b[0m  \u001b[0;31m# type: ignore[call-arg]\u001b[0m\u001b[0;34m\u001b[0m\u001b[0;34m\u001b[0m\u001b[0m\n\u001b[0m\u001b[1;32m   1051\u001b[0m \u001b[0;34m\u001b[0m\u001b[0m\n\u001b[1;32m   1052\u001b[0m     \u001b[0;32mdef\u001b[0m \u001b[0m_failover_to_python\u001b[0m\u001b[0;34m(\u001b[0m\u001b[0mself\u001b[0m\u001b[0;34m)\u001b[0m\u001b[0;34m:\u001b[0m\u001b[0;34m\u001b[0m\u001b[0;34m\u001b[0m\u001b[0m\n",
      "\u001b[0;32m~/anaconda3/envs/dsienv/lib/python3.7/site-packages/pandas/io/parsers.py\u001b[0m in \u001b[0;36m__init__\u001b[0;34m(self, src, **kwds)\u001b[0m\n\u001b[1;32m   1865\u001b[0m \u001b[0;34m\u001b[0m\u001b[0m\n\u001b[1;32m   1866\u001b[0m         \u001b[0;31m# open handles\u001b[0m\u001b[0;34m\u001b[0m\u001b[0;34m\u001b[0m\u001b[0;34m\u001b[0m\u001b[0m\n\u001b[0;32m-> 1867\u001b[0;31m         \u001b[0mself\u001b[0m\u001b[0;34m.\u001b[0m\u001b[0m_open_handles\u001b[0m\u001b[0;34m(\u001b[0m\u001b[0msrc\u001b[0m\u001b[0;34m,\u001b[0m \u001b[0mkwds\u001b[0m\u001b[0;34m)\u001b[0m\u001b[0;34m\u001b[0m\u001b[0;34m\u001b[0m\u001b[0m\n\u001b[0m\u001b[1;32m   1868\u001b[0m         \u001b[0;32massert\u001b[0m \u001b[0mself\u001b[0m\u001b[0;34m.\u001b[0m\u001b[0mhandles\u001b[0m \u001b[0;32mis\u001b[0m \u001b[0;32mnot\u001b[0m \u001b[0;32mNone\u001b[0m\u001b[0;34m\u001b[0m\u001b[0;34m\u001b[0m\u001b[0m\n\u001b[1;32m   1869\u001b[0m         \u001b[0;32mfor\u001b[0m \u001b[0mkey\u001b[0m \u001b[0;32min\u001b[0m \u001b[0;34m(\u001b[0m\u001b[0;34m\"storage_options\"\u001b[0m\u001b[0;34m,\u001b[0m \u001b[0;34m\"encoding\"\u001b[0m\u001b[0;34m,\u001b[0m \u001b[0;34m\"memory_map\"\u001b[0m\u001b[0;34m,\u001b[0m \u001b[0;34m\"compression\"\u001b[0m\u001b[0;34m)\u001b[0m\u001b[0;34m:\u001b[0m\u001b[0;34m\u001b[0m\u001b[0;34m\u001b[0m\u001b[0m\n",
      "\u001b[0;32m~/anaconda3/envs/dsienv/lib/python3.7/site-packages/pandas/io/parsers.py\u001b[0m in \u001b[0;36m_open_handles\u001b[0;34m(self, src, kwds)\u001b[0m\n\u001b[1;32m   1366\u001b[0m             \u001b[0mcompression\u001b[0m\u001b[0;34m=\u001b[0m\u001b[0mkwds\u001b[0m\u001b[0;34m.\u001b[0m\u001b[0mget\u001b[0m\u001b[0;34m(\u001b[0m\u001b[0;34m\"compression\"\u001b[0m\u001b[0;34m,\u001b[0m \u001b[0;32mNone\u001b[0m\u001b[0;34m)\u001b[0m\u001b[0;34m,\u001b[0m\u001b[0;34m\u001b[0m\u001b[0;34m\u001b[0m\u001b[0m\n\u001b[1;32m   1367\u001b[0m             \u001b[0mmemory_map\u001b[0m\u001b[0;34m=\u001b[0m\u001b[0mkwds\u001b[0m\u001b[0;34m.\u001b[0m\u001b[0mget\u001b[0m\u001b[0;34m(\u001b[0m\u001b[0;34m\"memory_map\"\u001b[0m\u001b[0;34m,\u001b[0m \u001b[0;32mFalse\u001b[0m\u001b[0;34m)\u001b[0m\u001b[0;34m,\u001b[0m\u001b[0;34m\u001b[0m\u001b[0;34m\u001b[0m\u001b[0m\n\u001b[0;32m-> 1368\u001b[0;31m             \u001b[0mstorage_options\u001b[0m\u001b[0;34m=\u001b[0m\u001b[0mkwds\u001b[0m\u001b[0;34m.\u001b[0m\u001b[0mget\u001b[0m\u001b[0;34m(\u001b[0m\u001b[0;34m\"storage_options\"\u001b[0m\u001b[0;34m,\u001b[0m \u001b[0;32mNone\u001b[0m\u001b[0;34m)\u001b[0m\u001b[0;34m,\u001b[0m\u001b[0;34m\u001b[0m\u001b[0;34m\u001b[0m\u001b[0m\n\u001b[0m\u001b[1;32m   1369\u001b[0m         )\n\u001b[1;32m   1370\u001b[0m \u001b[0;34m\u001b[0m\u001b[0m\n",
      "\u001b[0;32m~/anaconda3/envs/dsienv/lib/python3.7/site-packages/pandas/io/common.py\u001b[0m in \u001b[0;36mget_handle\u001b[0;34m(path_or_buf, mode, encoding, compression, memory_map, is_text, errors, storage_options)\u001b[0m\n\u001b[1;32m    645\u001b[0m                 \u001b[0mencoding\u001b[0m\u001b[0;34m=\u001b[0m\u001b[0mioargs\u001b[0m\u001b[0;34m.\u001b[0m\u001b[0mencoding\u001b[0m\u001b[0;34m,\u001b[0m\u001b[0;34m\u001b[0m\u001b[0;34m\u001b[0m\u001b[0m\n\u001b[1;32m    646\u001b[0m                 \u001b[0merrors\u001b[0m\u001b[0;34m=\u001b[0m\u001b[0merrors\u001b[0m\u001b[0;34m,\u001b[0m\u001b[0;34m\u001b[0m\u001b[0;34m\u001b[0m\u001b[0m\n\u001b[0;32m--> 647\u001b[0;31m                 \u001b[0mnewline\u001b[0m\u001b[0;34m=\u001b[0m\u001b[0;34m\"\"\u001b[0m\u001b[0;34m,\u001b[0m\u001b[0;34m\u001b[0m\u001b[0;34m\u001b[0m\u001b[0m\n\u001b[0m\u001b[1;32m    648\u001b[0m             )\n\u001b[1;32m    649\u001b[0m         \u001b[0;32melse\u001b[0m\u001b[0;34m:\u001b[0m\u001b[0;34m\u001b[0m\u001b[0;34m\u001b[0m\u001b[0m\n",
      "\u001b[0;31mFileNotFoundError\u001b[0m: [Errno 2] No such file or directory: '../data/y_pre_09.csv'"
     ]
    }
   ],
   "source": [
    "y = pd.read_csv('../data/y_pre_09.csv')"
   ]
  },
  {
   "cell_type": "code",
   "execution_count": null,
   "metadata": {},
   "outputs": [],
   "source": [
    "y.head()"
   ]
  },
  {
   "cell_type": "code",
   "execution_count": null,
   "metadata": {},
   "outputs": [],
   "source": [
    "y_dict = {}\n",
    "for index, row in tqdm(y.iterrows()):\n",
    "    idx = row['Unnamed: 0']\n",
    "    y_dict[idx] = row['y']"
   ]
  },
  {
   "cell_type": "code",
   "execution_count": null,
   "metadata": {},
   "outputs": [],
   "source": [
    "X['target'] = X['loan_sequence_number'].map(y_dict)"
   ]
  },
  {
   "cell_type": "code",
   "execution_count": null,
   "metadata": {},
   "outputs": [],
   "source": [
    "X.to_csv('data_with_target.csv')"
   ]
  },
  {
   "cell_type": "code",
   "execution_count": 8,
   "metadata": {},
   "outputs": [
    {
     "data": {
      "text/plain": [
       "0.0    5454903\n",
       "1.0     536391\n",
       "Name: target, dtype: int64"
      ]
     },
     "execution_count": 8,
     "metadata": {},
     "output_type": "execute_result"
    }
   ],
   "source": [
    "X['target'].value_counts()"
   ]
  },
  {
   "cell_type": "code",
   "execution_count": 9,
   "metadata": {},
   "outputs": [
    {
     "data": {
      "text/plain": [
       "9    4800512\n",
       "9    1190447\n",
       "H        517\n",
       "Name: program_indicator, dtype: int64"
      ]
     },
     "execution_count": 9,
     "metadata": {},
     "output_type": "execute_result"
    }
   ],
   "source": [
    "X['program_indicator'].value_counts()"
   ]
  },
  {
   "cell_type": "code",
   "execution_count": 10,
   "metadata": {},
   "outputs": [],
   "source": [
    "late_payments_by_cohort = X.groupby('first_payment_date').agg('sum')['target'] / X.groupby('first_payment_date').agg('count')['target']"
   ]
  },
  {
   "cell_type": "code",
   "execution_count": 11,
   "metadata": {},
   "outputs": [],
   "source": [
    "first_payment_date_counts = X.groupby('first_payment_date').agg('count')['target']"
   ]
  },
  {
   "cell_type": "code",
   "execution_count": 12,
   "metadata": {},
   "outputs": [
    {
     "data": {
      "text/plain": [
       "<AxesSubplot:xlabel='first_payment_date'>"
      ]
     },
     "execution_count": 12,
     "metadata": {},
     "output_type": "execute_result"
    },
    {
     "data": {
      "image/png": "[encoded data removed]",
      "text/plain": [
       "<Figure size 432x288 with 1 Axes>"
      ]
     },
     "metadata": {},
     "output_type": "display_data"
    }
   ],
   "source": [
    "first_payment_date_counts.index = pd.to_datetime(first_payment_date_counts.index, format='%Y%m')\n",
    "first_payment_date_counts.plot()"
   ]
  },
  {
   "cell_type": "code",
   "execution_count": 13,
   "metadata": {},
   "outputs": [
    {
     "data": {
      "text/plain": [
       "[<matplotlib.lines.Line2D at 0x7f19a5505310>]"
      ]
     },
     "execution_count": 13,
     "metadata": {},
     "output_type": "execute_result"
    },
    {
     "data": {
      "image/png": "[encoded data removed]",
      "text/plain": [
       "<Figure size 432x288 with 1 Axes>"
      ]
     },
     "metadata": {},
     "output_type": "display_data"
    }
   ],
   "source": [
    "#late_payments_by_cohort.index = pd.to_datetime(late_payments_by_cohort.index, format='%Y%m')\n",
    "\n",
    "\n",
    "plt.plot(late_payments_by_cohort)"
   ]
  },
  {
   "cell_type": "code",
   "execution_count": 14,
   "metadata": {},
   "outputs": [
    {
     "data": {
      "text/html": [
       "<div>\n",
       "<style scoped>\n",
       "    .dataframe tbody tr th:only-of-type {\n",
       "        vertical-align: middle;\n",
       "    }\n",
       "\n",
       "    .dataframe tbody tr th {\n",
       "        vertical-align: top;\n",
       "    }\n",
       "\n",
       "    .dataframe thead th {\n",
       "        text-align: right;\n",
       "    }\n",
       "</style>\n",
       "<table border=\"1\" class=\"dataframe\">\n",
       "  <thead>\n",
       "    <tr style=\"text-align: right;\">\n",
       "      <th></th>\n",
       "      <th>loan_sequence_number</th>\n",
       "      <th>first_payment_date</th>\n",
       "    </tr>\n",
       "  </thead>\n",
       "  <tbody>\n",
       "    <tr>\n",
       "      <th>0</th>\n",
       "      <td>F00Q40000004</td>\n",
       "      <td>200202</td>\n",
       "    </tr>\n",
       "    <tr>\n",
       "      <th>1</th>\n",
       "      <td>F00Q40000005</td>\n",
       "      <td>200202</td>\n",
       "    </tr>\n",
       "    <tr>\n",
       "      <th>2</th>\n",
       "      <td>F00Q40000006</td>\n",
       "      <td>200202</td>\n",
       "    </tr>\n",
       "    <tr>\n",
       "      <th>3</th>\n",
       "      <td>F00Q40000009</td>\n",
       "      <td>200203</td>\n",
       "    </tr>\n",
       "    <tr>\n",
       "      <th>4</th>\n",
       "      <td>F00Q40000010</td>\n",
       "      <td>200204</td>\n",
       "    </tr>\n",
       "    <tr>\n",
       "      <th>...</th>\n",
       "      <td>...</td>\n",
       "      <td>...</td>\n",
       "    </tr>\n",
       "    <tr>\n",
       "      <th>5991471</th>\n",
       "      <td>F01Q20746672</td>\n",
       "      <td>200108</td>\n",
       "    </tr>\n",
       "    <tr>\n",
       "      <th>5991472</th>\n",
       "      <td>F01Q20746673</td>\n",
       "      <td>200108</td>\n",
       "    </tr>\n",
       "    <tr>\n",
       "      <th>5991473</th>\n",
       "      <td>F01Q20746676</td>\n",
       "      <td>200107</td>\n",
       "    </tr>\n",
       "    <tr>\n",
       "      <th>5991474</th>\n",
       "      <td>F01Q20746682</td>\n",
       "      <td>200108</td>\n",
       "    </tr>\n",
       "    <tr>\n",
       "      <th>5991475</th>\n",
       "      <td>F01Q20746683</td>\n",
       "      <td>200107</td>\n",
       "    </tr>\n",
       "  </tbody>\n",
       "</table>\n",
       "<p>5991476 rows × 2 columns</p>\n",
       "</div>"
      ],
      "text/plain": [
       "        loan_sequence_number  first_payment_date\n",
       "0               F00Q40000004              200202\n",
       "1               F00Q40000005              200202\n",
       "2               F00Q40000006              200202\n",
       "3               F00Q40000009              200203\n",
       "4               F00Q40000010              200204\n",
       "...                      ...                 ...\n",
       "5991471         F01Q20746672              200108\n",
       "5991472         F01Q20746673              200108\n",
       "5991473         F01Q20746676              200107\n",
       "5991474         F01Q20746682              200108\n",
       "5991475         F01Q20746683              200107\n",
       "\n",
       "[5991476 rows x 2 columns]"
      ]
     },
     "execution_count": 14,
     "metadata": {},
     "output_type": "execute_result"
    }
   ],
   "source": [
    "X[['loan_sequence_number', 'first_payment_date']]"
   ]
  },
  {
   "cell_type": "code",
   "execution_count": 15,
   "metadata": {},
   "outputs": [
    {
     "data": {
      "text/plain": [
       " 360    4155281\n",
       " 180    1286175\n",
       " 240     241850\n",
       " 120      79761\n",
       " 84       71750\n",
       "         ...   \n",
       " 21           1\n",
       " 20           1\n",
       " 19           1\n",
       " 15           1\n",
       "-1            1\n",
       "Name: original_loan_term, Length: 360, dtype: int64"
      ]
     },
     "execution_count": 15,
     "metadata": {},
     "output_type": "execute_result"
    }
   ],
   "source": [
    "X['original_loan_term'].value_counts()"
   ]
  },
  {
   "cell_type": "code",
   "execution_count": 16,
   "metadata": {},
   "outputs": [],
   "source": [
    "X_15yr_loan = X[X['original_loan_term'] == 180] "
   ]
  },
  {
   "cell_type": "code",
   "execution_count": 17,
   "metadata": {},
   "outputs": [],
   "source": [
    "late_payments_by_cohort_15yr = X_15yr_loan.groupby('first_payment_date').agg('sum')['target'] / X_15yr_loan.groupby('first_payment_date').agg('count')['target']"
   ]
  },
  {
   "cell_type": "code",
   "execution_count": 18,
   "metadata": {},
   "outputs": [
    {
     "data": {
      "text/plain": [
       "<AxesSubplot:xlabel='first_payment_date'>"
      ]
     },
     "execution_count": 18,
     "metadata": {},
     "output_type": "execute_result"
    },
    {
     "data": {
      "image/png": "[encoded data removed]",
      "text/plain": [
       "<Figure size 432x288 with 1 Axes>"
      ]
     },
     "metadata": {},
     "output_type": "display_data"
    }
   ],
   "source": [
    "late_payments_by_cohort_15yr.index = pd.to_datetime(late_payments_by_cohort_15yr.index, format='%Y%m')\n",
    "late_payments_by_cohort_15yr.plot()"
   ]
  },
  {
   "cell_type": "code",
   "execution_count": 19,
   "metadata": {},
   "outputs": [
    {
     "data": {
      "text/plain": [
       "(1286175, 33)"
      ]
     },
     "execution_count": 19,
     "metadata": {},
     "output_type": "execute_result"
    }
   ],
   "source": [
    "X_15yr_loan.shape"
   ]
  },
  {
   "cell_type": "code",
   "execution_count": 20,
   "metadata": {},
   "outputs": [
    {
     "data": {
      "text/html": [
       "<div>\n",
       "<style scoped>\n",
       "    .dataframe tbody tr th:only-of-type {\n",
       "        vertical-align: middle;\n",
       "    }\n",
       "\n",
       "    .dataframe tbody tr th {\n",
       "        vertical-align: top;\n",
       "    }\n",
       "\n",
       "    .dataframe thead th {\n",
       "        text-align: right;\n",
       "    }\n",
       "</style>\n",
       "<table border=\"1\" class=\"dataframe\">\n",
       "  <thead>\n",
       "    <tr style=\"text-align: right;\">\n",
       "      <th></th>\n",
       "      <th>Unnamed: 0</th>\n",
       "      <th>credit_score</th>\n",
       "      <th>first_payment_date</th>\n",
       "      <th>first_time_homebuyer_flag</th>\n",
       "      <th>maturity_date</th>\n",
       "      <th>metropolitan_statistical_area_(msa)_or_metropolitan_division</th>\n",
       "      <th>mortgage_insurance_percentage_(mi_%)</th>\n",
       "      <th>number_of_units</th>\n",
       "      <th>occupancy_status</th>\n",
       "      <th>original_combined_loan-to-value_(cltv)</th>\n",
       "      <th>...</th>\n",
       "      <th>number_of_borrowers</th>\n",
       "      <th>seller_name</th>\n",
       "      <th>servicer_name</th>\n",
       "      <th>super_conforming_flag</th>\n",
       "      <th>pre-harp_loan_sequence_number</th>\n",
       "      <th>program_indicator</th>\n",
       "      <th>harp_indicator</th>\n",
       "      <th>property_valuation_method</th>\n",
       "      <th>interest_only_indicator_(i/o_indicator)</th>\n",
       "      <th>target</th>\n",
       "    </tr>\n",
       "  </thead>\n",
       "  <tbody>\n",
       "    <tr>\n",
       "      <th>4471708</th>\n",
       "      <td>38</td>\n",
       "      <td>742</td>\n",
       "      <td>199910</td>\n",
       "      <td>N</td>\n",
       "      <td>202909</td>\n",
       "      <td>NaN</td>\n",
       "      <td>0</td>\n",
       "      <td>1</td>\n",
       "      <td>P</td>\n",
       "      <td>68</td>\n",
       "      <td>...</td>\n",
       "      <td>2</td>\n",
       "      <td>FIFTH THIRD BANK</td>\n",
       "      <td>FIFTH THIRD BANK</td>\n",
       "      <td>NaN</td>\n",
       "      <td>NaN</td>\n",
       "      <td>9</td>\n",
       "      <td>NaN</td>\n",
       "      <td>9</td>\n",
       "      <td>N</td>\n",
       "      <td>0.0</td>\n",
       "    </tr>\n",
       "  </tbody>\n",
       "</table>\n",
       "<p>1 rows × 33 columns</p>\n",
       "</div>"
      ],
      "text/plain": [
       "         Unnamed: 0  credit_score  first_payment_date  \\\n",
       "4471708          38           742              199910   \n",
       "\n",
       "        first_time_homebuyer_flag  maturity_date  \\\n",
       "4471708                         N         202909   \n",
       "\n",
       "         metropolitan_statistical_area_(msa)_or_metropolitan_division  \\\n",
       "4471708                                                NaN              \n",
       "\n",
       "         mortgage_insurance_percentage_(mi_%)  number_of_units  \\\n",
       "4471708                                     0                1   \n",
       "\n",
       "        occupancy_status  original_combined_loan-to-value_(cltv)  ...  \\\n",
       "4471708                P                                      68  ...   \n",
       "\n",
       "         number_of_borrowers       seller_name     servicer_name  \\\n",
       "4471708                    2  FIFTH THIRD BANK  FIFTH THIRD BANK   \n",
       "\n",
       "         super_conforming_flag pre-harp_loan_sequence_number  \\\n",
       "4471708                    NaN                           NaN   \n",
       "\n",
       "        program_indicator harp_indicator property_valuation_method  \\\n",
       "4471708                 9            NaN                         9   \n",
       "\n",
       "        interest_only_indicator_(i/o_indicator)  target  \n",
       "4471708                                       N     0.0  \n",
       "\n",
       "[1 rows x 33 columns]"
      ]
     },
     "execution_count": 20,
     "metadata": {},
     "output_type": "execute_result"
    }
   ],
   "source": [
    "X[X['loan_sequence_number'] == 'A99Q30000001']"
   ]
  },
  {
   "cell_type": "code",
   "execution_count": 21,
   "metadata": {},
   "outputs": [
    {
     "name": "stdout",
     "output_type": "stream",
     "text": [
      "<class 'pandas.core.frame.DataFrame'>\n",
      "Int64Index: 1286175 entries, 17 to 5991470\n",
      "Data columns (total 33 columns):\n",
      " #   Column                                                        Non-Null Count    Dtype  \n",
      "---  ------                                                        --------------    -----  \n",
      " 0   Unnamed: 0                                                    1286175 non-null  int64  \n",
      " 1   credit_score                                                  1286175 non-null  int64  \n",
      " 2   first_payment_date                                            1286175 non-null  int64  \n",
      " 3   first_time_homebuyer_flag                                     1286175 non-null  object \n",
      " 4   maturity_date                                                 1286175 non-null  int64  \n",
      " 5   metropolitan_statistical_area_(msa)_or_metropolitan_division  855 non-null      float64\n",
      " 6   mortgage_insurance_percentage_(mi_%)                          1286175 non-null  int64  \n",
      " 7   number_of_units                                               1286175 non-null  int64  \n",
      " 8   occupancy_status                                              1286175 non-null  object \n",
      " 9   original_combined_loan-to-value_(cltv)                        1286175 non-null  int64  \n",
      " 10  original_debt-to-income_(dti)_ratio                           1286175 non-null  int64  \n",
      " 11  original_upb                                                  1286175 non-null  int64  \n",
      " 12  original_loan-to-value_(ltv)                                  1286175 non-null  int64  \n",
      " 13  original_interest_rate                                        1286175 non-null  float64\n",
      " 14  channel                                                       1286175 non-null  object \n",
      " 15  prepayment_penalty_mortgage_(ppm)_flag                        1286175 non-null  object \n",
      " 16  amortization_type                                             1286175 non-null  object \n",
      " 17  property_state                                                1286175 non-null  object \n",
      " 18  property_type                                                 1286175 non-null  object \n",
      " 19  postal_code                                                   1286175 non-null  int64  \n",
      " 20  loan_sequence_number                                          1286175 non-null  object \n",
      " 21  loan_purpose                                                  1286175 non-null  object \n",
      " 22  original_loan_term                                            1286175 non-null  int64  \n",
      " 23  number_of_borrowers                                           1286175 non-null  int64  \n",
      " 24  seller_name                                                   1286175 non-null  object \n",
      " 25  servicer_name                                                 1286175 non-null  object \n",
      " 26  super_conforming_flag                                         0 non-null        float64\n",
      " 27  pre-harp_loan_sequence_number                                 0 non-null        float64\n",
      " 28  program_indicator                                             1286175 non-null  object \n",
      " 29  harp_indicator                                                0 non-null        float64\n",
      " 30  property_valuation_method                                     1286175 non-null  int64  \n",
      " 31  interest_only_indicator_(i/o_indicator)                       1286175 non-null  object \n",
      " 32  target                                                        1286120 non-null  float64\n",
      "dtypes: float64(6), int64(14), object(13)\n",
      "memory usage: 333.6+ MB\n"
     ]
    }
   ],
   "source": [
    "X_15yr_loan.info()"
   ]
  },
  {
   "cell_type": "code",
   "execution_count": 22,
   "metadata": {},
   "outputs": [],
   "source": [
    "X_15yr_loan = X_15yr_loan.dropna(subset=['target'])"
   ]
  },
  {
   "cell_type": "code",
   "execution_count": 23,
   "metadata": {},
   "outputs": [],
   "source": [
    "y_ = X_15yr_loan.pop('target')"
   ]
  },
  {
   "cell_type": "code",
   "execution_count": 24,
   "metadata": {},
   "outputs": [
    {
     "data": {
      "text/plain": [
       "(1286120, 32)"
      ]
     },
     "execution_count": 24,
     "metadata": {},
     "output_type": "execute_result"
    }
   ],
   "source": [
    "X_15yr_loan.shape"
   ]
  },
  {
   "cell_type": "code",
   "execution_count": 25,
   "metadata": {},
   "outputs": [
    {
     "data": {
      "text/plain": [
       "(1286120,)"
      ]
     },
     "execution_count": 25,
     "metadata": {},
     "output_type": "execute_result"
    }
   ],
   "source": [
    "y_.shape"
   ]
  },
  {
   "cell_type": "code",
   "execution_count": 46,
   "metadata": {},
   "outputs": [],
   "source": [
    "X_15yr_loan_subset = X_15yr_loan.sample(100_000)\n",
    "y_subset = y_.sample(100_000)"
   ]
  },
  {
   "cell_type": "markdown",
   "metadata": {},
   "source": [
    "## No Preprocessing"
   ]
  },
  {
   "cell_type": "code",
   "execution_count": 59,
   "metadata": {},
   "outputs": [],
   "source": [
    "cols = ['original_combined_loan-to-value_(cltv)', 'original_debt-to-income_(dti)_ratio'\n",
    "        , 'original_upb', 'original_loan-to-value_(ltv)', 'credit_score', 'number_of_units'\n",
    "        , 'original_interest_rate', 'number_of_borrowers']\n"
   ]
  },
  {
   "cell_type": "code",
   "execution_count": 60,
   "metadata": {},
   "outputs": [],
   "source": [
    "x_train, x_test, y_train, y_test = train_test_split(X_15yr_loan[cols]\n",
    "                                                    , y_)"
   ]
  },
  {
   "cell_type": "code",
   "execution_count": 61,
   "metadata": {},
   "outputs": [
    {
     "data": {
      "text/plain": [
       "original_combined_loan-to-value_(cltv)    0\n",
       "original_debt-to-income_(dti)_ratio       0\n",
       "original_upb                              0\n",
       "original_loan-to-value_(ltv)              0\n",
       "credit_score                              0\n",
       "number_of_units                           0\n",
       "original_interest_rate                    0\n",
       "number_of_borrowers                       0\n",
       "dtype: int64"
      ]
     },
     "execution_count": 61,
     "metadata": {},
     "output_type": "execute_result"
    }
   ],
   "source": [
    "x_train.isnull().sum()"
   ]
  },
  {
   "cell_type": "code",
   "execution_count": 82,
   "metadata": {},
   "outputs": [
    {
     "name": "stdout",
     "output_type": "stream",
     "text": [
      "original_combined_loan-to-value_(cltv) False\n",
      "original_debt-to-income_(dti)_ratio False\n",
      "original_upb False\n",
      "original_loan-to-value_(ltv) False\n",
      "credit_score False\n",
      "number_of_units False\n",
      "original_interest_rate False\n",
      "number_of_borrowers False\n"
     ]
    },
    {
     "name": "stderr",
     "output_type": "stream",
     "text": [
      "/home/austin/anaconda3/envs/dsienv/lib/python3.7/site-packages/ipykernel_launcher.py:3: FutureWarning: elementwise comparison failed; returning scalar instead, but in the future will perform elementwise comparison\n",
      "  This is separate from the ipykernel package so we can avoid doing imports until\n"
     ]
    }
   ],
   "source": [
    "for col in x_train.columns:\n",
    "    unique = x_train[col].value_counts().index.values\n",
    "    print(col, True if 'N' in unique else False)\n",
    "#x_train['original_combined_loan-to-value_(cltv)'].value_counts()"
   ]
  },
  {
   "cell_type": "code",
   "execution_count": 62,
   "metadata": {},
   "outputs": [
    {
     "data": {
      "text/plain": [
       "0"
      ]
     },
     "execution_count": 62,
     "metadata": {},
     "output_type": "execute_result"
    }
   ],
   "source": [
    "y_train.isnull().sum()"
   ]
  },
  {
   "cell_type": "code",
   "execution_count": 63,
   "metadata": {},
   "outputs": [
    {
     "data": {
      "text/plain": [
       "0.16222125462631792"
      ]
     },
     "execution_count": 63,
     "metadata": {},
     "output_type": "execute_result"
    }
   ],
   "source": [
    "y_train.sum() / y_train.count()"
   ]
  },
  {
   "cell_type": "code",
   "execution_count": 64,
   "metadata": {
    "scrolled": true
   },
   "outputs": [
    {
     "data": {
      "text/plain": [
       "0.1630081174384972"
      ]
     },
     "execution_count": 64,
     "metadata": {},
     "output_type": "execute_result"
    }
   ],
   "source": [
    "y_test.sum() / y_test.count()"
   ]
  },
  {
   "cell_type": "code",
   "execution_count": 65,
   "metadata": {},
   "outputs": [],
   "source": [
    "from scipy.stats import binom\n",
    "base_line_model = binom.rvs(1, p=y_train.sum()/y_train.count(), size=y_test.shape[0])"
   ]
  },
  {
   "cell_type": "code",
   "execution_count": 66,
   "metadata": {},
   "outputs": [
    {
     "data": {
      "text/plain": [
       "0.16274898878119515"
      ]
     },
     "execution_count": 66,
     "metadata": {},
     "output_type": "execute_result"
    }
   ],
   "source": [
    "recall_score(y_test, base_line_model)"
   ]
  },
  {
   "cell_type": "code",
   "execution_count": 67,
   "metadata": {},
   "outputs": [
    {
     "data": {
      "text/plain": [
       "0.16316927138129578"
      ]
     },
     "execution_count": 67,
     "metadata": {},
     "output_type": "execute_result"
    }
   ],
   "source": [
    "f1_score(y_test, base_line_model)"
   ]
  },
  {
   "cell_type": "code",
   "execution_count": 68,
   "metadata": {},
   "outputs": [
    {
     "data": {
      "text/plain": [
       "0.16359173027501822"
      ]
     },
     "execution_count": 68,
     "metadata": {},
     "output_type": "execute_result"
    }
   ],
   "source": [
    "precision_score(y_test, base_line_model)"
   ]
  },
  {
   "cell_type": "code",
   "execution_count": 69,
   "metadata": {},
   "outputs": [],
   "source": [
    "from imblearn.pipeline import Pipeline\n",
    "from imblearn.over_sampling import SMOTE, RandomOverSampler, ADASYN\n",
    "from imblearn.under_sampling import RandomUnderSampler, NearMiss, ClusterCentroids"
   ]
  },
  {
   "cell_type": "code",
   "execution_count": 83,
   "metadata": {},
   "outputs": [
    {
     "name": "stdout",
     "output_type": "stream",
     "text": [
      "Fitting 5 folds for each of 40 candidates, totalling 200 fits\n",
      "0.47708333333333336 0.004369228420972296 0.008659154503516599\n"
     ]
    }
   ],
   "source": [
    "# no over or under sampling\n",
    "model = Pipeline([\n",
    "        ('classification', RandomForestClassifier(n_jobs = -1))\n",
    "    ])\n",
    "\n",
    "\n",
    "params = [{'classification__criterion': ['gini', 'entropy']\n",
    "          , 'classification__max_depth': [2, 3, 4, 5, None]\n",
    "          , 'classification__max_features' : ['sqrt', 'log2', 5, None]}]\n",
    "\n",
    "\n",
    "grid = GridSearchCV(model, params, verbose=2)\n",
    "grid.fit(x_train, y_train)\n",
    "\n",
    "y_hat = grid.predict(x_test)\n",
    "\n",
    "print(precision_score(y_test, y_hat), recall_score(y_test, y_hat), f1_score(y_test, y_hat))"
   ]
  },
  {
   "cell_type": "code",
   "execution_count": 84,
   "metadata": {},
   "outputs": [
    {
     "data": {
      "text/plain": [
       "{'classification__criterion': 'gini',\n",
       " 'classification__max_depth': 5,\n",
       " 'classification__max_features': None}"
      ]
     },
     "execution_count": 84,
     "metadata": {},
     "output_type": "execute_result"
    }
   ],
   "source": [
    "grid.best_params_"
   ]
  },
  {
   "cell_type": "code",
   "execution_count": 86,
   "metadata": {},
   "outputs": [
    {
     "name": "stdout",
     "output_type": "stream",
     "text": [
      "Fitting 5 folds for each of 1 candidates, totalling 5 fits\n",
      "[CV] END classification__criterion=gini, classification__max_depth=5, classification__max_features=None; total time=  38.3s\n",
      "[CV] END classification__criterion=gini, classification__max_depth=5, classification__max_features=None; total time=  37.5s\n",
      "[CV] END classification__criterion=gini, classification__max_depth=5, classification__max_features=None; total time=  37.6s\n",
      "[CV] END classification__criterion=gini, classification__max_depth=5, classification__max_features=None; total time=  37.4s\n",
      "[CV] END classification__criterion=gini, classification__max_depth=5, classification__max_features=None; total time=  37.5s\n",
      "0.2391382467188008 0.5332748225597191 0.33020261090436526\n"
     ]
    }
   ],
   "source": [
    "# no over or under sampling\n",
    "model = Pipeline([\n",
    "        ('sampling', ADASYN()),\n",
    "        ('classification', RandomForestClassifier(n_jobs = -1))\n",
    "    ])\n",
    "\n",
    "\n",
    "params = [{'classification__criterion': ['gini']\n",
    "          , 'classification__max_depth': [5]\n",
    "          , 'classification__max_features' : [None]}]\n",
    "\n",
    "\n",
    "grid = GridSearchCV(model, params, verbose=2)\n",
    "grid.fit(x_train, y_train)\n",
    "\n",
    "y_hat = grid.predict(x_test)\n",
    "\n",
    "print(precision_score(y_test, y_hat), recall_score(y_test, y_hat), f1_score(y_test, y_hat))"
   ]
  },
  {
   "cell_type": "code",
   "execution_count": 87,
   "metadata": {},
   "outputs": [
    {
     "name": "stdout",
     "output_type": "stream",
     "text": [
      "Fitting 5 folds for each of 1 candidates, totalling 5 fits\n",
      "[CV] END classification__criterion=gini, classification__max_depth=5, classification__max_features=None; total time=   5.1s\n",
      "[CV] END classification__criterion=gini, classification__max_depth=5, classification__max_features=None; total time=   4.6s\n",
      "[CV] END classification__criterion=gini, classification__max_depth=5, classification__max_features=None; total time=   4.6s\n",
      "[CV] END classification__criterion=gini, classification__max_depth=5, classification__max_features=None; total time=   4.5s\n",
      "[CV] END classification__criterion=gini, classification__max_depth=5, classification__max_features=None; total time=   4.7s\n",
      "0.23430100448087665 0.6315156834312753 0.3417923471310777\n"
     ]
    }
   ],
   "source": [
    "# no over or under sampling\n",
    "model = Pipeline([\n",
    "        ('sampling', RandomUnderSampler()),\n",
    "        ('classification', RandomForestClassifier(n_jobs = -1))\n",
    "    ])\n",
    "\n",
    "\n",
    "params = [{'classification__criterion': ['gini']\n",
    "          , 'classification__max_depth': [5]\n",
    "          , 'classification__max_features' : [None]}]\n",
    "\n",
    "\n",
    "grid = GridSearchCV(model, params, verbose=2)\n",
    "grid.fit(x_train, y_train)\n",
    "\n",
    "y_hat = grid.predict(x_test)\n",
    "\n",
    "print(precision_score(y_test, y_hat), recall_score(y_test, y_hat), f1_score(y_test, y_hat))"
   ]
  },
  {
   "cell_type": "code",
   "execution_count": null,
   "metadata": {
    "scrolled": true
   },
   "outputs": [],
   "source": [
    "grid.best_params_"
   ]
  },
  {
   "cell_type": "code",
   "execution_count": null,
   "metadata": {},
   "outputs": [],
   "source": [
    "model = Pipeline([\n",
    "        ('sampling', ClusterCentroids()),\n",
    "        ('classification', RandomForestClassifier(n_jobs = -1))\n",
    "    ])\n",
    "\n",
    "\n",
    "params = [{'classification__criterion': ['gini']\n",
    "          , 'classification__max_depth': [3]\n",
    "          , 'classification__max_features' : [None]}]\n",
    "\n",
    "\n",
    "grid2 = GridSearchCV(model, params, verbose=1)\n",
    "grid2.fit(x_train.sample(500_000), y_train.sample(500_000))\n",
    "\n",
    "y_hat_all = grid2.predict(x_test)\n",
    "\n",
    "print(precision_score(y_test, y_hat_all), recall_score(y_test, y_hat_all), f1_score(y_test, y_hat_all))"
   ]
  },
  {
   "cell_type": "code",
   "execution_count": null,
   "metadata": {},
   "outputs": [],
   "source": [
    "# under sampling (n = 5k) ClusterCentroids\n",
    "for i,j,k in zip(precision_scores, recall_scores, f1_scores):\n",
    "    print(i,j,k)"
   ]
  },
  {
   "cell_type": "code",
   "execution_count": null,
   "metadata": {},
   "outputs": [],
   "source": [
    "# under sampling (n = 5k) ClusterCentroids\n",
    "for i,j,k in zip(precision_scores, recall_scores, f1_scores):\n",
    "    print(i,j,k)"
   ]
  },
  {
   "cell_type": "code",
   "execution_count": null,
   "metadata": {},
   "outputs": [],
   "source": [
    "# under sampling (n = 5k) NearMiss\n",
    "for i,j,k in zip(precision_scores, recall_scores, f1_scores):\n",
    "    print(i,j,k)"
   ]
  },
  {
   "cell_type": "code",
   "execution_count": null,
   "metadata": {},
   "outputs": [],
   "source": [
    "# under sampling (n = 5k)\n",
    "for i,j,k in zip(precision_scores, recall_scores, f1_scores):\n",
    "    print(i,j,k)"
   ]
  },
  {
   "cell_type": "code",
   "execution_count": null,
   "metadata": {},
   "outputs": [],
   "source": [
    "# over sampling (SMOTE)\n",
    "for i,j,k in zip(precision_scores, recall_scores, f1_scores):\n",
    "    print(i,j,k)"
   ]
  },
  {
   "cell_type": "code",
   "execution_count": null,
   "metadata": {},
   "outputs": [],
   "source": [
    "# under sampling (n = 100k)\n",
    "for i,j,k in zip(precision_scores, recall_scores, f1_scores):\n",
    "    print(i,j,k)"
   ]
  },
  {
   "cell_type": "code",
   "execution_count": null,
   "metadata": {
    "scrolled": true
   },
   "outputs": [],
   "source": [
    "# under sampling \n",
    "plt.plot(range(1 ,10), precision_scores, label='precision')\n",
    "plt.plot(range(1 ,10), recall_scores, label='recall')\n",
    "plt.plot(range(1 ,10), f1_scores, label='f1')\n",
    "plt.legend()"
   ]
  },
  {
   "cell_type": "code",
   "execution_count": null,
   "metadata": {},
   "outputs": [],
   "source": [
    "# under sampling\n",
    "plt.plot(range(1 ,25), precision_scores, label='precision')\n",
    "plt.plot(range(1 ,25), recall_scores, label='recall')\n",
    "plt.plot(range(1 ,25), f1_scores, label='f1')\n",
    "plt.legend()"
   ]
  },
  {
   "cell_type": "code",
   "execution_count": null,
   "metadata": {},
   "outputs": [],
   "source": [
    "#random oversampler\n",
    "plt.plot(range(1 ,10), precision_scores, label='precision')\n",
    "plt.plot(range(1 ,10), recall_scores, label='recall')\n",
    "plt.plot(range(1 ,10), f1_scores, label='f1')\n",
    "plt.legend()"
   ]
  }
 ],
 "metadata": {
  "kernelspec": {
   "display_name": "Python 3",
   "language": "python",
   "name": "python3"
  },
  "language_info": {
   "codemirror_mode": {
    "name": "ipython",
    "version": 3
   },
   "file_extension": ".py",
   "mimetype": "text/x-python",
   "name": "python",
   "nbconvert_exporter": "python",
   "pygments_lexer": "ipython3",
   "version": "3.7.10"
  }
 },
 "nbformat": 4,
 "nbformat_minor": 4
}
