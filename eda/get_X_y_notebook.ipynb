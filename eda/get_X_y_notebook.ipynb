{
 "cells": [
  {
   "cell_type": "code",
   "execution_count": 1,
   "metadata": {},
   "outputs": [],
   "source": [
    "import os\n",
    "import numpy as np\n",
    "import pandas as pd\n",
    "import matplotlib.pyplot as plt\n",
    "from utils.datapipe import to_snake_case, DataPipe, DataPipeOrigination\n",
    "\n",
    "plt.style.use('ggplot')"
   ]
  },
  {
   "cell_type": "code",
   "execution_count": 2,
   "metadata": {
    "scrolled": false
   },
   "outputs": [
    {
     "name": "stdout",
     "output_type": "stream",
     "text": [
      "origination: historical_data_2018Q2.txt\n",
      "origination: historical_data_2018Q1.txt\n"
     ]
    },
    {
     "name": "stderr",
     "output_type": "stream",
     "text": [
      "/home/austin/anaconda3/lib/python3.8/site-packages/IPython/core/interactiveshell.py:3418: DtypeWarning: Columns (26,28) have mixed types.Specify dtype option on import or set low_memory=False.\n",
      "  exec(code_obj, self.user_global_ns, self.user_ns)\n"
     ]
    },
    {
     "name": "stdout",
     "output_type": "stream",
     "text": [
      "origination: historical_data_2018Q3.txt\n",
      "origination: historical_data_2018Q4.txt\n",
      "origination: historical_data_2019Q1.txt\n",
      "origination: historical_data_2019Q2.txt\n",
      "origination: historical_data_2019Q3.txt\n",
      "origination: historical_data_2019Q4.txt\n",
      "origination: historical_data_2013Q1.txt\n",
      "origination: historical_data_2013Q4.txt\n",
      "origination: historical_data_2013Q2.txt\n",
      "origination: historical_data_2013Q3.txt\n",
      "origination: historical_data_2010Q3.txt\n",
      "origination: historical_data_2010Q4.txt\n",
      "origination: historical_data_2010Q1.txt\n",
      "origination: historical_data_2010Q2.txt\n",
      "origination: historical_data_2015Q3.txt\n"
     ]
    },
    {
     "name": "stderr",
     "output_type": "stream",
     "text": [
      "/home/austin/anaconda3/lib/python3.8/site-packages/IPython/core/interactiveshell.py:3418: DtypeWarning: Columns (26,27,28) have mixed types.Specify dtype option on import or set low_memory=False.\n",
      "  exec(code_obj, self.user_global_ns, self.user_ns)\n"
     ]
    },
    {
     "name": "stdout",
     "output_type": "stream",
     "text": [
      "origination: historical_data_2015Q2.txt\n",
      "origination: historical_data_2015Q4.txt\n",
      "origination: historical_data_2015Q1.txt\n",
      "origination: historical_data_2016Q2.txt\n",
      "origination: historical_data_2016Q4.txt\n",
      "origination: historical_data_2016Q3.txt\n",
      "origination: historical_data_2016Q1.txt\n",
      "origination: historical_data_2011Q3.txt\n",
      "origination: historical_data_2011Q4.txt\n",
      "origination: historical_data_2011Q2.txt\n",
      "origination: historical_data_2011Q1.txt\n",
      "origination: historical_data_2017Q4.txt\n",
      "origination: historical_data_2017Q2.txt\n",
      "origination: historical_data_2017Q3.txt\n",
      "origination: historical_data_2017Q1.txt\n",
      "origination: historical_data_2012Q1.txt\n",
      "origination: historical_data_2012Q4.txt\n",
      "origination: historical_data_2012Q2.txt\n",
      "origination: historical_data_2012Q3.txt\n",
      "origination: historical_data_2020Q1.txt\n",
      "origination: historical_data_2020Q3.txt\n",
      "origination: historical_data_2020Q2.txt\n",
      "origination: historical_data_2014Q3.txt\n",
      "origination: historical_data_2014Q2.txt\n",
      "origination: historical_data_2014Q1.txt\n",
      "origination: historical_data_2014Q4.txt\n",
      "origination: historical_data_excl_2019Q1.txt\n",
      "origination: historical_data_excl_2019Q3.txt\n",
      "origination: historical_data_excl_2019Q2.txt\n",
      "origination: historical_data_excl_2019Q4.txt\n",
      "origination: historical_data_excl_2013Q4.txt\n",
      "origination: historical_data_excl_2013Q2.txt\n",
      "origination: historical_data_excl_2013Q3.txt\n",
      "origination: historical_data_excl_2013Q1.txt\n",
      "origination: historical_data_excl_2015Q1.txt\n",
      "origination: historical_data_excl_2015Q2.txt\n",
      "origination: historical_data_excl_2015Q3.txt\n",
      "origination: historical_data_excl_2015Q4.txt\n",
      "origination: historical_data_excl_2011Q1.txt\n",
      "origination: historical_data_excl_2011Q3.txt\n",
      "origination: historical_data_excl_2011Q4.txt\n",
      "origination: historical_data_excl_2011Q2.txt\n",
      "origination: historical_data_excl_2012Q3.txt\n",
      "origination: historical_data_excl_2012Q2.txt\n",
      "origination: historical_data_excl_2012Q1.txt\n",
      "origination: historical_data_excl_2012Q4.txt\n",
      "origination: historical_data_excl_2017Q1.txt\n",
      "origination: historical_data_excl_2017Q2.txt\n",
      "origination: historical_data_excl_2017Q4.txt\n",
      "origination: historical_data_excl_2017Q3.txt\n",
      "origination: historical_data_excl_2020Q1.txt\n",
      "origination: historical_data_excl_2020Q2.txt\n",
      "origination: historical_data_excl_2020Q3.txt\n",
      "origination: historical_data_excl_2010Q1.txt\n",
      "origination: historical_data_excl_2010Q4.txt\n",
      "origination: historical_data_excl_2010Q2.txt\n",
      "origination: historical_data_excl_2010Q3.txt\n",
      "origination: historical_data_excl_2014Q4.txt\n",
      "origination: historical_data_excl_2014Q2.txt\n",
      "origination: historical_data_excl_2014Q3.txt\n",
      "origination: historical_data_excl_2014Q1.txt\n",
      "origination: historical_data_excl_2016Q2.txt\n",
      "origination: historical_data_excl_2016Q1.txt\n",
      "origination: historical_data_excl_2016Q4.txt\n",
      "origination: historical_data_excl_2016Q3.txt\n",
      "origination: historical_data_excl_2018Q4.txt\n",
      "origination: historical_data_excl_2018Q2.txt\n",
      "origination: historical_data_excl_2018Q3.txt\n",
      "origination: historical_data_excl_2018Q1.txt\n",
      "time series: historical_data_time_2018Q2.txt\n"
     ]
    },
    {
     "name": "stderr",
     "output_type": "stream",
     "text": [
      "/home/austin/anaconda3/lib/python3.8/site-packages/IPython/core/interactiveshell.py:3418: DtypeWarning: Columns (3,7,23) have mixed types.Specify dtype option on import or set low_memory=False.\n",
      "  exec(code_obj, self.user_global_ns, self.user_ns)\n"
     ]
    },
    {
     "name": "stdout",
     "output_type": "stream",
     "text": [
      "time series: historical_data_time_2018Q1.txt\n",
      "time series: historical_data_time_2018Q3.txt\n",
      "time series: historical_data_time_2018Q4.txt\n",
      "time series: historical_data_time_2019Q1.txt\n",
      "time series: historical_data_time_2019Q2.txt\n",
      "time series: historical_data_time_2019Q3.txt\n",
      "time series: historical_data_time_2019Q4.txt\n",
      "time series: historical_data_time_2013Q1.txt\n"
     ]
    },
    {
     "name": "stderr",
     "output_type": "stream",
     "text": [
      "/home/austin/anaconda3/lib/python3.8/site-packages/IPython/core/interactiveshell.py:3418: DtypeWarning: Columns (3,7,23,24,28) have mixed types.Specify dtype option on import or set low_memory=False.\n",
      "  exec(code_obj, self.user_global_ns, self.user_ns)\n"
     ]
    },
    {
     "name": "stdout",
     "output_type": "stream",
     "text": [
      "time series: historical_data_time_2013Q4.txt\n"
     ]
    },
    {
     "name": "stderr",
     "output_type": "stream",
     "text": [
      "/home/austin/anaconda3/lib/python3.8/site-packages/IPython/core/interactiveshell.py:3418: DtypeWarning: Columns (3,7,23,24) have mixed types.Specify dtype option on import or set low_memory=False.\n",
      "  exec(code_obj, self.user_global_ns, self.user_ns)\n"
     ]
    },
    {
     "name": "stdout",
     "output_type": "stream",
     "text": [
      "time series: historical_data_time_2013Q2.txt\n",
      "time series: historical_data_time_2013Q3.txt\n",
      "time series: historical_data_time_2010Q3.txt\n",
      "time series: historical_data_time_2010Q4.txt\n"
     ]
    },
    {
     "name": "stderr",
     "output_type": "stream",
     "text": [
      "/home/austin/anaconda3/lib/python3.8/site-packages/IPython/core/interactiveshell.py:3418: DtypeWarning: Columns (3,7,23,24,28,29) have mixed types.Specify dtype option on import or set low_memory=False.\n",
      "  exec(code_obj, self.user_global_ns, self.user_ns)\n"
     ]
    },
    {
     "name": "stdout",
     "output_type": "stream",
     "text": [
      "time series: historical_data_time_2010Q1.txt\n",
      "time series: historical_data_time_2010Q2.txt\n"
     ]
    },
    {
     "name": "stderr",
     "output_type": "stream",
     "text": [
      "/home/austin/anaconda3/lib/python3.8/site-packages/IPython/core/interactiveshell.py:3418: DtypeWarning: Columns (3,7,22,23,24,28) have mixed types.Specify dtype option on import or set low_memory=False.\n",
      "  exec(code_obj, self.user_global_ns, self.user_ns)\n"
     ]
    },
    {
     "name": "stdout",
     "output_type": "stream",
     "text": [
      "time series: historical_data_time_2015Q3.txt\n",
      "time series: historical_data_time_2015Q2.txt\n",
      "time series: historical_data_time_2015Q4.txt\n",
      "time series: historical_data_time_2015Q1.txt\n"
     ]
    },
    {
     "name": "stderr",
     "output_type": "stream",
     "text": [
      "/home/austin/anaconda3/lib/python3.8/site-packages/IPython/core/interactiveshell.py:3418: DtypeWarning: Columns (3,7,22,23,24) have mixed types.Specify dtype option on import or set low_memory=False.\n",
      "  exec(code_obj, self.user_global_ns, self.user_ns)\n"
     ]
    },
    {
     "name": "stdout",
     "output_type": "stream",
     "text": [
      "time series: historical_data_time_2016Q2.txt\n",
      "time series: historical_data_time_2016Q4.txt\n",
      "time series: historical_data_time_2016Q3.txt\n",
      "time series: historical_data_time_2016Q1.txt\n",
      "time series: historical_data_time_2011Q3.txt\n",
      "time series: historical_data_time_2011Q4.txt\n",
      "time series: historical_data_time_2011Q2.txt\n",
      "time series: historical_data_time_2011Q1.txt\n",
      "time series: historical_data_time_2017Q4.txt\n",
      "time series: historical_data_time_2017Q2.txt\n",
      "time series: historical_data_time_2017Q3.txt\n",
      "time series: historical_data_time_2017Q1.txt\n",
      "time series: historical_data_time_2012Q1.txt\n",
      "time series: historical_data_time_2012Q4.txt\n",
      "time series: historical_data_time_2012Q2.txt\n",
      "time series: historical_data_time_2012Q3.txt\n",
      "time series: historical_data_time_2020Q1.txt\n",
      "time series: historical_data_time_2020Q3.txt\n"
     ]
    },
    {
     "name": "stderr",
     "output_type": "stream",
     "text": [
      "/home/austin/anaconda3/lib/python3.8/site-packages/IPython/core/interactiveshell.py:3418: DtypeWarning: Columns (24,28) have mixed types.Specify dtype option on import or set low_memory=False.\n",
      "  exec(code_obj, self.user_global_ns, self.user_ns)\n"
     ]
    },
    {
     "name": "stdout",
     "output_type": "stream",
     "text": [
      "time series: historical_data_time_2020Q2.txt\n"
     ]
    },
    {
     "name": "stderr",
     "output_type": "stream",
     "text": [
      "/home/austin/anaconda3/lib/python3.8/site-packages/IPython/core/interactiveshell.py:3418: DtypeWarning: Columns (7,23,24) have mixed types.Specify dtype option on import or set low_memory=False.\n",
      "  exec(code_obj, self.user_global_ns, self.user_ns)\n"
     ]
    },
    {
     "name": "stdout",
     "output_type": "stream",
     "text": [
      "time series: historical_data_time_2014Q3.txt\n",
      "time series: historical_data_time_2014Q2.txt\n",
      "time series: historical_data_time_2014Q1.txt\n",
      "time series: historical_data_time_2014Q4.txt\n",
      "time series: historical_data_excl_time_2019Q1.txt\n",
      "time series: historical_data_excl_time_2019Q3.txt\n"
     ]
    },
    {
     "name": "stderr",
     "output_type": "stream",
     "text": [
      "/home/austin/anaconda3/lib/python3.8/site-packages/IPython/core/interactiveshell.py:3418: DtypeWarning: Columns (7,23) have mixed types.Specify dtype option on import or set low_memory=False.\n",
      "  exec(code_obj, self.user_global_ns, self.user_ns)\n"
     ]
    },
    {
     "name": "stdout",
     "output_type": "stream",
     "text": [
      "time series: historical_data_excl_time_2019Q2.txt\n",
      "time series: historical_data_excl_time_2019Q4.txt\n",
      "time series: historical_data_excl_time_2013Q4.txt\n",
      "time series: historical_data_excl_time_2013Q2.txt\n",
      "time series: historical_data_excl_time_2013Q3.txt\n",
      "time series: historical_data_excl_time_2013Q1.txt\n",
      "time series: historical_data_excl_time_2015Q1.txt\n",
      "time series: historical_data_excl_time_2015Q2.txt\n",
      "time series: historical_data_excl_time_2015Q3.txt\n",
      "time series: historical_data_excl_time_2015Q4.txt\n",
      "time series: historical_data_excl_time_2011Q1.txt\n",
      "time series: historical_data_excl_time_2011Q3.txt\n",
      "time series: historical_data_excl_time_2011Q4.txt\n",
      "time series: historical_data_excl_time_2011Q2.txt\n",
      "time series: historical_data_excl_time_2012Q3.txt\n",
      "time series: historical_data_excl_time_2012Q2.txt\n",
      "time series: historical_data_excl_time_2012Q1.txt\n",
      "time series: historical_data_excl_time_2012Q4.txt\n",
      "time series: historical_data_excl_time_2017Q1.txt\n",
      "time series: historical_data_excl_time_2017Q2.txt\n"
     ]
    },
    {
     "name": "stderr",
     "output_type": "stream",
     "text": [
      "/home/austin/anaconda3/lib/python3.8/site-packages/IPython/core/interactiveshell.py:3418: DtypeWarning: Columns (3) have mixed types.Specify dtype option on import or set low_memory=False.\n",
      "  exec(code_obj, self.user_global_ns, self.user_ns)\n"
     ]
    },
    {
     "name": "stdout",
     "output_type": "stream",
     "text": [
      "time series: historical_data_excl_time_2017Q4.txt\n",
      "time series: historical_data_excl_time_2017Q3.txt\n",
      "time series: historical_data_excl_time_2020Q1.txt\n",
      "time series: historical_data_excl_time_2020Q2.txt\n",
      "time series: historical_data_excl_time_2020Q3.txt\n"
     ]
    },
    {
     "name": "stderr",
     "output_type": "stream",
     "text": [
      "/home/austin/anaconda3/lib/python3.8/site-packages/IPython/core/interactiveshell.py:3418: DtypeWarning: Columns (6,24) have mixed types.Specify dtype option on import or set low_memory=False.\n",
      "  exec(code_obj, self.user_global_ns, self.user_ns)\n"
     ]
    },
    {
     "name": "stdout",
     "output_type": "stream",
     "text": [
      "time series: historical_data_excl_time_2010Q1.txt\n"
     ]
    },
    {
     "name": "stderr",
     "output_type": "stream",
     "text": [
      "/home/austin/anaconda3/lib/python3.8/site-packages/IPython/core/interactiveshell.py:3418: DtypeWarning: Columns (3,24,28) have mixed types.Specify dtype option on import or set low_memory=False.\n",
      "  exec(code_obj, self.user_global_ns, self.user_ns)\n"
     ]
    },
    {
     "name": "stdout",
     "output_type": "stream",
     "text": [
      "time series: historical_data_excl_time_2010Q4.txt\n",
      "time series: historical_data_excl_time_2010Q2.txt\n",
      "time series: historical_data_excl_time_2010Q3.txt\n",
      "time series: historical_data_excl_time_2014Q4.txt\n",
      "time series: historical_data_excl_time_2014Q2.txt\n",
      "time series: historical_data_excl_time_2014Q3.txt\n",
      "time series: historical_data_excl_time_2014Q1.txt\n",
      "time series: historical_data_excl_time_2016Q2.txt\n",
      "time series: historical_data_excl_time_2016Q1.txt\n",
      "time series: historical_data_excl_time_2016Q4.txt\n",
      "time series: historical_data_excl_time_2016Q3.txt\n",
      "time series: historical_data_excl_time_2018Q4.txt\n",
      "time series: historical_data_excl_time_2018Q2.txt\n",
      "time series: historical_data_excl_time_2018Q3.txt\n",
      "time series: historical_data_excl_time_2018Q1.txt\n"
     ]
    }
   ],
   "source": [
    "datapipe = DataPipeOrigination('../data')"
   ]
  },
  {
   "cell_type": "code",
   "execution_count": 3,
   "metadata": {},
   "outputs": [],
   "source": [
    "X = datapipe.X\n",
    "X.to_csv('X.csv')"
   ]
  },
  {
   "cell_type": "code",
   "execution_count": 24,
   "metadata": {},
   "outputs": [],
   "source": [
    "y = datapipe.y\n",
    "\n"
   ]
  },
  {
   "cell_type": "code",
   "execution_count": 13,
   "metadata": {},
   "outputs": [
    {
     "data": {
      "text/plain": [
       "13085260"
      ]
     },
     "execution_count": 13,
     "metadata": {},
     "output_type": "execute_result"
    }
   ],
   "source": [
    "np.sum(list(y.values()))"
   ]
  },
  {
   "cell_type": "code",
   "execution_count": 15,
   "metadata": {
    "scrolled": true
   },
   "outputs": [
    {
     "data": {
      "text/plain": [
       "0.6882914405282775"
      ]
     },
     "execution_count": 15,
     "metadata": {},
     "output_type": "execute_result"
    }
   ],
   "source": [
    "13085260/len(y)"
   ]
  },
  {
   "cell_type": "code",
   "execution_count": 25,
   "metadata": {},
   "outputs": [
    {
     "data": {
      "text/html": [
       "<div>\n",
       "<style scoped>\n",
       "    .dataframe tbody tr th:only-of-type {\n",
       "        vertical-align: middle;\n",
       "    }\n",
       "\n",
       "    .dataframe tbody tr th {\n",
       "        vertical-align: top;\n",
       "    }\n",
       "\n",
       "    .dataframe thead th {\n",
       "        text-align: right;\n",
       "    }\n",
       "</style>\n",
       "<table border=\"1\" class=\"dataframe\">\n",
       "  <thead>\n",
       "    <tr style=\"text-align: right;\">\n",
       "      <th></th>\n",
       "      <th>0</th>\n",
       "    </tr>\n",
       "  </thead>\n",
       "  <tbody>\n",
       "    <tr>\n",
       "      <th>F18Q20000001</th>\n",
       "      <td>1</td>\n",
       "    </tr>\n",
       "    <tr>\n",
       "      <th>F18Q20000002</th>\n",
       "      <td>1</td>\n",
       "    </tr>\n",
       "    <tr>\n",
       "      <th>F18Q20000003</th>\n",
       "      <td>1</td>\n",
       "    </tr>\n",
       "    <tr>\n",
       "      <th>F18Q20000004</th>\n",
       "      <td>1</td>\n",
       "    </tr>\n",
       "    <tr>\n",
       "      <th>F18Q20000005</th>\n",
       "      <td>1</td>\n",
       "    </tr>\n",
       "  </tbody>\n",
       "</table>\n",
       "</div>"
      ],
      "text/plain": [
       "              0\n",
       "F18Q20000001  1\n",
       "F18Q20000002  1\n",
       "F18Q20000003  1\n",
       "F18Q20000004  1\n",
       "F18Q20000005  1"
      ]
     },
     "execution_count": 25,
     "metadata": {},
     "output_type": "execute_result"
    }
   ],
   "source": [
    "y = pd.Series(y).to_frame()\n",
    "\n",
    "#y.to_csv('y.csv')"
   ]
  },
  {
   "cell_type": "code",
   "execution_count": 30,
   "metadata": {},
   "outputs": [],
   "source": [
    "y = y.rename(columns={y.columns[0]:'y'})\n",
    "y.to_csv('y.csv')"
   ]
  },
  {
   "cell_type": "code",
   "execution_count": 24,
   "metadata": {},
   "outputs": [
    {
     "data": {
      "text/html": [
       "<div>\n",
       "<style scoped>\n",
       "    .dataframe tbody tr th:only-of-type {\n",
       "        vertical-align: middle;\n",
       "    }\n",
       "\n",
       "    .dataframe tbody tr th {\n",
       "        vertical-align: top;\n",
       "    }\n",
       "\n",
       "    .dataframe thead th {\n",
       "        text-align: right;\n",
       "    }\n",
       "</style>\n",
       "<table border=\"1\" class=\"dataframe\">\n",
       "  <thead>\n",
       "    <tr style=\"text-align: right;\">\n",
       "      <th></th>\n",
       "      <th>credit_score</th>\n",
       "      <th>first_payment_date</th>\n",
       "      <th>first_time_homebuyer_flag</th>\n",
       "      <th>maturity_date</th>\n",
       "      <th>metropolitan_statistical_area_(msa)_or_metropolitan_division</th>\n",
       "      <th>mortgage_insurance_percentage_(mi_%)</th>\n",
       "      <th>number_of_units</th>\n",
       "      <th>occupancy_status</th>\n",
       "      <th>original_combined_loan-to-value_(cltv)</th>\n",
       "      <th>original_debt-to-income_(dti)_ratio</th>\n",
       "      <th>...</th>\n",
       "      <th>original_loan_term</th>\n",
       "      <th>number_of_borrowers</th>\n",
       "      <th>seller_name</th>\n",
       "      <th>servicer_name</th>\n",
       "      <th>super_conforming_flag</th>\n",
       "      <th>pre-harp_loan_sequence_number</th>\n",
       "      <th>program_indicator</th>\n",
       "      <th>harp_indicator</th>\n",
       "      <th>property_valuation_method</th>\n",
       "      <th>interest_only_indicator_(i/o_indicator)</th>\n",
       "    </tr>\n",
       "  </thead>\n",
       "  <tbody>\n",
       "    <tr>\n",
       "      <th>0</th>\n",
       "      <td>708</td>\n",
       "      <td>200512</td>\n",
       "      <td>Y</td>\n",
       "      <td>203511</td>\n",
       "      <td>NaN</td>\n",
       "      <td>0</td>\n",
       "      <td>1</td>\n",
       "      <td>P</td>\n",
       "      <td>103</td>\n",
       "      <td>39</td>\n",
       "      <td>...</td>\n",
       "      <td>360</td>\n",
       "      <td>1</td>\n",
       "      <td>Other sellers</td>\n",
       "      <td>U.S. BANK N.A.</td>\n",
       "      <td>NaN</td>\n",
       "      <td>NaN</td>\n",
       "      <td>9</td>\n",
       "      <td>NaN</td>\n",
       "      <td>9</td>\n",
       "      <td>N</td>\n",
       "    </tr>\n",
       "    <tr>\n",
       "      <th>1</th>\n",
       "      <td>781</td>\n",
       "      <td>200512</td>\n",
       "      <td>N</td>\n",
       "      <td>201211</td>\n",
       "      <td>NaN</td>\n",
       "      <td>0</td>\n",
       "      <td>1</td>\n",
       "      <td>P</td>\n",
       "      <td>85</td>\n",
       "      <td>49</td>\n",
       "      <td>...</td>\n",
       "      <td>84</td>\n",
       "      <td>2</td>\n",
       "      <td>Other sellers</td>\n",
       "      <td>Other servicers</td>\n",
       "      <td>NaN</td>\n",
       "      <td>NaN</td>\n",
       "      <td>9</td>\n",
       "      <td>NaN</td>\n",
       "      <td>9</td>\n",
       "      <td>N</td>\n",
       "    </tr>\n",
       "    <tr>\n",
       "      <th>2</th>\n",
       "      <td>732</td>\n",
       "      <td>200601</td>\n",
       "      <td>Y</td>\n",
       "      <td>203512</td>\n",
       "      <td>NaN</td>\n",
       "      <td>0</td>\n",
       "      <td>1</td>\n",
       "      <td>P</td>\n",
       "      <td>97</td>\n",
       "      <td>38</td>\n",
       "      <td>...</td>\n",
       "      <td>360</td>\n",
       "      <td>1</td>\n",
       "      <td>Other sellers</td>\n",
       "      <td>Other servicers</td>\n",
       "      <td>NaN</td>\n",
       "      <td>NaN</td>\n",
       "      <td>H</td>\n",
       "      <td>NaN</td>\n",
       "      <td>9</td>\n",
       "      <td>N</td>\n",
       "    </tr>\n",
       "    <tr>\n",
       "      <th>3</th>\n",
       "      <td>609</td>\n",
       "      <td>200511</td>\n",
       "      <td>Y</td>\n",
       "      <td>202010</td>\n",
       "      <td>24860.0</td>\n",
       "      <td>35</td>\n",
       "      <td>1</td>\n",
       "      <td>P</td>\n",
       "      <td>97</td>\n",
       "      <td>32</td>\n",
       "      <td>...</td>\n",
       "      <td>180</td>\n",
       "      <td>1</td>\n",
       "      <td>Other sellers</td>\n",
       "      <td>Other servicers</td>\n",
       "      <td>NaN</td>\n",
       "      <td>NaN</td>\n",
       "      <td>9</td>\n",
       "      <td>NaN</td>\n",
       "      <td>9</td>\n",
       "      <td>N</td>\n",
       "    </tr>\n",
       "    <tr>\n",
       "      <th>4</th>\n",
       "      <td>655</td>\n",
       "      <td>200512</td>\n",
       "      <td>N</td>\n",
       "      <td>203511</td>\n",
       "      <td>NaN</td>\n",
       "      <td>20</td>\n",
       "      <td>1</td>\n",
       "      <td>P</td>\n",
       "      <td>100</td>\n",
       "      <td>42</td>\n",
       "      <td>...</td>\n",
       "      <td>360</td>\n",
       "      <td>1</td>\n",
       "      <td>Other sellers</td>\n",
       "      <td>Other servicers</td>\n",
       "      <td>NaN</td>\n",
       "      <td>NaN</td>\n",
       "      <td>H</td>\n",
       "      <td>NaN</td>\n",
       "      <td>9</td>\n",
       "      <td>N</td>\n",
       "    </tr>\n",
       "  </tbody>\n",
       "</table>\n",
       "<p>5 rows × 31 columns</p>\n",
       "</div>"
      ],
      "text/plain": [
       "   credit_score  first_payment_date first_time_homebuyer_flag  maturity_date  \\\n",
       "0           708              200512                         Y         203511   \n",
       "1           781              200512                         N         201211   \n",
       "2           732              200601                         Y         203512   \n",
       "3           609              200511                         Y         202010   \n",
       "4           655              200512                         N         203511   \n",
       "\n",
       "   metropolitan_statistical_area_(msa)_or_metropolitan_division  \\\n",
       "0                                                NaN              \n",
       "1                                                NaN              \n",
       "2                                                NaN              \n",
       "3                                            24860.0              \n",
       "4                                                NaN              \n",
       "\n",
       "   mortgage_insurance_percentage_(mi_%)  number_of_units occupancy_status  \\\n",
       "0                                     0                1                P   \n",
       "1                                     0                1                P   \n",
       "2                                     0                1                P   \n",
       "3                                    35                1                P   \n",
       "4                                    20                1                P   \n",
       "\n",
       "   original_combined_loan-to-value_(cltv)  \\\n",
       "0                                     103   \n",
       "1                                      85   \n",
       "2                                      97   \n",
       "3                                      97   \n",
       "4                                     100   \n",
       "\n",
       "   original_debt-to-income_(dti)_ratio  ...  original_loan_term  \\\n",
       "0                                   39  ...                 360   \n",
       "1                                   49  ...                  84   \n",
       "2                                   38  ...                 360   \n",
       "3                                   32  ...                 180   \n",
       "4                                   42  ...                 360   \n",
       "\n",
       "   number_of_borrowers    seller_name    servicer_name super_conforming_flag  \\\n",
       "0                    1  Other sellers   U.S. BANK N.A.                   NaN   \n",
       "1                    2  Other sellers  Other servicers                   NaN   \n",
       "2                    1  Other sellers  Other servicers                   NaN   \n",
       "3                    1  Other sellers  Other servicers                   NaN   \n",
       "4                    1  Other sellers  Other servicers                   NaN   \n",
       "\n",
       "  pre-harp_loan_sequence_number program_indicator harp_indicator  \\\n",
       "0                           NaN                 9            NaN   \n",
       "1                           NaN                 9            NaN   \n",
       "2                           NaN                 H            NaN   \n",
       "3                           NaN                 9            NaN   \n",
       "4                           NaN                 H            NaN   \n",
       "\n",
       "   property_valuation_method interest_only_indicator_(i/o_indicator)  \n",
       "0                          9                                       N  \n",
       "1                          9                                       N  \n",
       "2                          9                                       N  \n",
       "3                          9                                       N  \n",
       "4                          9                                       N  \n",
       "\n",
       "[5 rows x 31 columns]"
      ]
     },
     "execution_count": 24,
     "metadata": {},
     "output_type": "execute_result"
    }
   ],
   "source": [
    "X = datapipe.X\n",
    "X.head()"
   ]
  },
  {
   "cell_type": "code",
   "execution_count": 16,
   "metadata": {},
   "outputs": [],
   "source": [
    "y = datapipe.y"
   ]
  },
  {
   "cell_type": "code",
   "execution_count": 22,
   "metadata": {},
   "outputs": [
    {
     "data": {
      "text/plain": [
       "617723"
      ]
     },
     "execution_count": 22,
     "metadata": {},
     "output_type": "execute_result"
    }
   ],
   "source": [
    "len(y)"
   ]
  },
  {
   "cell_type": "code",
   "execution_count": 27,
   "metadata": {},
   "outputs": [],
   "source": [
    "X['target'] = X['loan_sequence_number'].map(y)"
   ]
  },
  {
   "cell_type": "code",
   "execution_count": 34,
   "metadata": {},
   "outputs": [
    {
     "name": "stdout",
     "output_type": "stream",
     "text": [
      "A05Q10000001\n"
     ]
    }
   ],
   "source": [
    "X_gb = X.groupby('loan_sequence_number')\n",
    "name_ = 'A05Q10000001'\n",
    "for name, group in X_gb:\n",
    "    print(group[''])\n",
    "    \n",
    "    if name != name_:\n",
    "        break"
   ]
  },
  {
   "cell_type": "markdown",
   "metadata": {},
   "source": [
    "This notebook explores all 4 sets of data from Freddie Mac: \n",
    "1. non-standard origination data\n",
    "2. standard origination data\n",
    "3. non-standard time-series data\n",
    "4. standard time-series data\n",
    "\n",
    "The non-standard origination data and standard origination data will be combined--like wise for the time series data."
   ]
  },
  {
   "cell_type": "code",
   "execution_count": null,
   "metadata": {},
   "outputs": [],
   "source": [
    "# dummy model = classification where you predict using a binom rvs where the threshold\n",
    "# is the class %\n",
    "# what metric = profit curves\n",
    "\n",
    "# /home/austin/code/dsi/freddiemac_mortage_defaults/data\n",
    "# nonstandard_mortgage_data/historical_data_excl_2005/historical_data_excl_2005Q1.zip"
   ]
  },
  {
   "cell_type": "code",
   "execution_count": 26,
   "metadata": {
    "code_folding": [
     0,
     13
    ]
   },
   "outputs": [
    {
     "name": "stdout",
     "output_type": "stream",
     "text": [
      "['credit_score', 'first_payment_date', 'first_time_homebuyer_flag', 'maturity_date', 'metropolitan_statistical_area_(msa)_or_metropolitan_division', 'mortgage_insurance_percentage_(mi_%)', 'number_of_units', 'occupancy_status', 'original_combined_loan-to-value_(cltv)', 'original_debt-to-income_(dti)_ratio', 'original_upb', 'original_loan-to-value_(ltv)', 'original_interest_rate', 'channel', 'prepayment_penalty_mortgage_(ppm)_flag', 'amortization_type', 'property_state', 'property_type', 'postal_code', 'loan_sequence_number', 'loan_purpose', 'original_loan_term', 'number_of_borrowers', 'seller_name', 'servicer_name', 'super_conforming_flag', 'pre-harp_loan_sequence_number', 'program_indicator', 'harp_indicator', 'property_valuation_method', 'interest_only_indicator_(i/o_indicator)']\n"
     ]
    }
   ],
   "source": [
    "origination_headers = ['CREDIT SCORE', 'FIRST PAYMENT DATE', 'FIRST TIME HOMEBUYER FLAG'\n",
    "                      ,'MATURITY DATE', 'METROPOLITAN STATISTICAL AREA (MSA) OR METROPOLITAN DIVISION'\n",
    "                      , 'MORTGAGE INSURANCE PERCENTAGE (MI %)', 'NUMBER OF UNITS'\n",
    "                      , 'OCCUPANCY STATUS', 'ORIGINAL COMBINED LOAN-TO-VALUE (CLTV)'\n",
    "                      , 'ORIGINAL DEBT-TO-INCOME (DTI) RATIO', 'ORIGINAL UPB'\n",
    "                      , 'ORIGINAL LOAN-TO-VALUE (LTV)', 'ORIGINAL INTEREST RATE'\n",
    "                      , 'CHANNEL', 'PREPAYMENT PENALTY MORTGAGE (PPM) FLAG', 'AMORTIZATION TYPE'\n",
    "                      , 'PROPERTY STATE', 'PROPERTY TYPE', 'POSTAL CODE', 'LOAN SEQUENCE NUMBER'\n",
    "                      , 'LOAN PURPOSE', 'ORIGINAL LOAN TERM', 'NUMBER OF BORROWERS'\n",
    "                      , 'SELLER NAME', 'SERVICER NAME', 'SUPER CONFORMING FLAG'\n",
    "                      , 'Pre-HARP LOAN SEQUENCE NUMBER', 'PROGRAM INDICATOR', 'HARP INDICATOR'\n",
    "                      , 'PROPERTY VALUATION METHOD', 'INTEREST ONLY INDICATOR (I/O INDICATOR)'\n",
    "                      ]\n",
    "time_series_headers = ['LOAN SEQUENCE NUMBER', 'MONTHLY REPORTING PERIOD'\n",
    "                      ,'CURRENT ACTUAL UPB', 'CURRENT LOAN DELINQUENCY STATUS'\n",
    "                      , 'LOAN AGE', 'REMAINING MONTHS TO LEGAL MATURITY'\n",
    "                      , 'REPURCHASE FLAG', 'MODIFICATION FLAG'\n",
    "                      , 'ZERO BALANCE CODE', 'CURRENT INTEREST RATE'\n",
    "                      , 'CURRENT DEFERRED UPB', 'DUE DATE OF LAST PAID INSTALLMENT (DDLPI)'\n",
    "                      , 'MI RECOVERIES', 'NET SALES PROCEEDS', 'NON MI RECOVERIES'\n",
    "                      , 'EXPENSES', 'LEGAL COSTS', 'MAINTENANCE AND PRESERVATION COSTS'\n",
    "                      , 'TAXES AND INSURANCE', 'MISCELLANEOUS EXPENSES'\n",
    "                      , 'ACTUAL LOSS CALCULATION', 'MODIFICATION COST'\n",
    "                      , 'STEP MODIFICATION FLAG', 'DEFERRED PAYMENT PLAN'\n",
    "                      , 'ESTIMATED LOAN TO VALUE (ELTV)', 'ZERO BALANCE REMOVAL UPB'\n",
    "                      , 'DELINQUENT ACCRUED INTEREST', 'DELINQUENCY DUE TO DISASTER'\n",
    "                      , 'BORROWER ASSISTANCE STATUS CODE', 'CURRENT MONTH MODIFICATION COST'\n",
    "                      ]\n",
    "\n",
    "time_series_headers = to_snake_case(time_series_headers)\n",
    "origination_headers = to_snake_case(origination_headers)\n",
    "\n",
    "headers_dict = {'origination': origination_headers\n",
    "               , 'time_series': time_series_headers}\n",
    "\n",
    "print(headers_dict['origination'])"
   ]
  },
  {
   "cell_type": "code",
   "execution_count": null,
   "metadata": {},
   "outputs": [],
   "source": [
    "dir_ = '../data'\n",
    "for path_object in os.walk(dir_):\n",
    "    folder = path_object[0]\n",
    "    for file in path_object[2]:\n",
    "        if file[:-4] == '.txt':\n",
    "            \n",
    "        print(folder + '/' + file[-4:])"
   ]
  },
  {
   "cell_type": "code",
   "execution_count": null,
   "metadata": {},
   "outputs": [],
   "source": [
    "datapipe = DataPipe('../data/', headers_dict)"
   ]
  },
  {
   "cell_type": "code",
   "execution_count": null,
   "metadata": {},
   "outputs": [],
   "source": [
    "datapipe.raw_data"
   ]
  },
  {
   "cell_type": "code",
   "execution_count": null,
   "metadata": {},
   "outputs": [],
   "source": [
    "datapipe.raw_data"
   ]
  },
  {
   "cell_type": "code",
   "execution_count": null,
   "metadata": {},
   "outputs": [],
   "source": [
    "ns_time_series_df = pd.read_csv('../data/time_series_data/historical_data_excl_time_2019Q1.txt'\n",
    "                         , sep='|', names=time_series_headers, index_col=False)"
   ]
  },
  {
   "cell_type": "code",
   "execution_count": null,
   "metadata": {
    "scrolled": true
   },
   "outputs": [],
   "source": [
    "ns_time_series_df.head()"
   ]
  },
  {
   "cell_type": "code",
   "execution_count": null,
   "metadata": {},
   "outputs": [],
   "source": [
    "ns_time_series_df['current_loan_delinquency_status'].unique()"
   ]
  },
  {
   "cell_type": "code",
   "execution_count": null,
   "metadata": {},
   "outputs": [],
   "source": [
    "ns_time_series_df.tail()"
   ]
  },
  {
   "cell_type": "code",
   "execution_count": null,
   "metadata": {},
   "outputs": [],
   "source": [
    "ns_time_series_df.info()"
   ]
  },
  {
   "cell_type": "code",
   "execution_count": null,
   "metadata": {},
   "outputs": [],
   "source": [
    "for col in ns_time_series_df:\n",
    "    print(ns_time_series_df[col].value_counts())"
   ]
  },
  {
   "cell_type": "code",
   "execution_count": null,
   "metadata": {},
   "outputs": [],
   "source": [
    "data/nonstandard_mortgage_data/historical_data_excl_2012/historical_data_excl_2012Q1"
   ]
  },
  {
   "cell_type": "code",
   "execution_count": null,
   "metadata": {},
   "outputs": [],
   "source": [
    "paths = ['../data/nonstandard_mortgage_data/historical_data_excl_2012/historical_data_excl_2012Q1/historical_data_excl_time_2012Q1.txt'\n",
    "        , '../data/nonstandard_mortgage_data/historical_data_excl_2012/historical_data_excl_2012Q2/historical_data_excl_time_2012Q2.txt'\n",
    "        , '../data/nonstandard_mortgage_data/historical_data_excl_2012/historical_data_excl_2012Q3/historical_data_excl_time_2012Q3.txt'\n",
    "        , '../data/nonstandard_mortgage_data/historical_data_excl_2012/historical_data_excl_2012Q4/historical_data_excl_time_2012Q4.txt']\n",
    "\n",
    "header = headers_dict['time_series']\n",
    "\n",
    "\n",
    "df_time_series = pd.DataFrame()\n",
    "for relative_path in paths:\n",
    "    df_time_series_appender = pd.read_csv(relative_path\n",
    "                                      , names=header\n",
    "                                      , index_col=False\n",
    "                                      , sep='|')\n",
    "    print(df_time_series_appender.head())\n",
    "    df_time_series = df_time_series.append(df_time_series_appender)"
   ]
  },
  {
   "cell_type": "code",
   "execution_count": null,
   "metadata": {},
   "outputs": [],
   "source": [
    "df_time_series.head()"
   ]
  },
  {
   "cell_type": "code",
   "execution_count": null,
   "metadata": {},
   "outputs": [],
   "source": [
    "df_time_series.info()"
   ]
  },
  {
   "cell_type": "code",
   "execution_count": null,
   "metadata": {},
   "outputs": [],
   "source": [
    "df_time_series.shape"
   ]
  },
  {
   "cell_type": "code",
   "execution_count": null,
   "metadata": {},
   "outputs": [],
   "source": [
    "df_time_series['current_loan_delinquency_status'] = df_time_series['current_loan_delinquency_status'].apply(str)\n",
    "val_cnt = df_time_series['current_loan_delinquency_status'].value_counts()\n",
    "for i,v in zip(val_cnt.index, val_cnt.values):\n",
    "    print (i,v)"
   ]
  },
  {
   "cell_type": "code",
   "execution_count": null,
   "metadata": {},
   "outputs": [],
   "source": [
    "df_gb = df_time_series.groupby('loan_sequence_number')\n",
    "df_gb.get_group('A12Q10000001').head()"
   ]
  },
  {
   "cell_type": "code",
   "execution_count": null,
   "metadata": {},
   "outputs": [],
   "source": [
    "good_loan = 0\n",
    "bad_loan = 0\n",
    "for name, group in df_gb:\n",
    "    if all(status in ['0', '1' , '2'] for status in group['current_loan_delinquency_status']):\n",
    "        good_loan += 1\n",
    "    else:\n",
    "        bad_loan += 1"
   ]
  },
  {
   "cell_type": "code",
   "execution_count": null,
   "metadata": {},
   "outputs": [],
   "source": [
    "print(good_loan, bad_loan)"
   ]
  },
  {
   "cell_type": "code",
   "execution_count": null,
   "metadata": {},
   "outputs": [],
   "source": [
    "df_time_series['loan_age'].hist()"
   ]
  }
 ],
 "metadata": {
  "kernelspec": {
   "display_name": "Python 3",
   "language": "python",
   "name": "python3"
  },
  "language_info": {
   "codemirror_mode": {
    "name": "ipython",
    "version": 3
   },
   "file_extension": ".py",
   "mimetype": "text/x-python",
   "name": "python",
   "nbconvert_exporter": "python",
   "pygments_lexer": "ipython3",
   "version": "3.8.5"
  }
 },
 "nbformat": 4,
 "nbformat_minor": 4
}
